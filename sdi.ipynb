{
 "cells": [
  {
   "cell_type": "code",
<<<<<<< HEAD
   "execution_count": 65,
=======
   "execution_count": 218,
>>>>>>> 92d50e0e715539d086474b4ed0648d3be0d32296
   "metadata": {},
   "outputs": [],
   "source": [
    "import pandas as pd\n",
    "import numpy as np\n",
    "pd.set_option('display.max_columns', None)\n",
<<<<<<< HEAD
    "import matplotlib.pyplot as plt"
=======
    "import matplotlib.pyplot as plt\n",
    "import seaborn as sns\n",
    "sns.set_theme()"
>>>>>>> 92d50e0e715539d086474b4ed0648d3be0d32296
   ]
  },
  {
   "cell_type": "code",
<<<<<<< HEAD
   "execution_count": 66,
=======
   "execution_count": 219,
>>>>>>> 92d50e0e715539d086474b4ed0648d3be0d32296
   "metadata": {},
   "outputs": [],
   "source": [
    "dfo = pd.read_excel('data.xlsx')\n"
   ]
  },
  {
   "cell_type": "code",
<<<<<<< HEAD
   "execution_count": 67,
=======
   "execution_count": 220,
>>>>>>> 92d50e0e715539d086474b4ed0648d3be0d32296
   "metadata": {},
   "outputs": [],
   "source": [
    "filtered_s2k = [col for col in dfo.columns if 'S2K_item_' in col][:24]\n",
    "# filtered_sdi = [col for col in dfo.columns if 'New_SDI_since_previous_visit' in col]\n",
    "\n",
    "filtered_columns = []\n",
    "\n",
    "filtered_columns.append(dfo.SLET2T_ID.name)\n",
    "filtered_columns.append(dfo.Visit_month_new.name)\n",
    "filtered_columns.extend(filtered_s2k)\n",
    "# filtered_columns.append(dfo.SDI.name)\n",
    "filtered_columns.append(dfo.New_SDI_since_previous_visit_new.name)\n"
   ]
  },
  {
   "cell_type": "code",
<<<<<<< HEAD
   "execution_count": 68,
=======
   "execution_count": 221,
>>>>>>> 92d50e0e715539d086474b4ed0648d3be0d32296
   "metadata": {},
   "outputs": [
    {
     "data": {
<<<<<<< HEAD
      "text/plain": [
       "Index(['SLET2T_ID', 'Visit_month_new', 'S2K_item_1', 'S2K_item_2',\n",
       "       'S2K_item_3', 'S2K_item_4', 'S2K_item_5', 'S2K_item_6', 'S2K_item_7',\n",
       "       'S2K_item_8', 'S2K_item_9', 'S2K_item_10', 'S2K_item_11', 'S2K_item_12',\n",
       "       'S2K_item_13', 'S2K_item_14', 'S2K_item_15', 'S2K_item_16',\n",
       "       'S2K_item_17', 'S2K_item_18', 'S2K_item_19', 'S2K_item_20',\n",
       "       'S2K_item_21', 'S2K_item_22', 'S2K_item_23', 'S2K_item_24',\n",
       "       'New_SDI_since_previous_visit_new'],\n",
       "      dtype='object')"
      ]
     },
     "execution_count": 68,
=======
      "text/html": [
       "<div>\n",
       "<style scoped>\n",
       "    .dataframe tbody tr th:only-of-type {\n",
       "        vertical-align: middle;\n",
       "    }\n",
       "\n",
       "    .dataframe tbody tr th {\n",
       "        vertical-align: top;\n",
       "    }\n",
       "\n",
       "    .dataframe thead th {\n",
       "        text-align: right;\n",
       "    }\n",
       "</style>\n",
       "<table border=\"1\" class=\"dataframe\">\n",
       "  <thead>\n",
       "    <tr style=\"text-align: right;\">\n",
       "      <th></th>\n",
       "      <th>SLET2T_ID</th>\n",
       "      <th>Visit_month_new</th>\n",
       "      <th>S2K_item_1</th>\n",
       "      <th>S2K_item_2</th>\n",
       "      <th>S2K_item_3</th>\n",
       "      <th>S2K_item_4</th>\n",
       "      <th>S2K_item_5</th>\n",
       "      <th>S2K_item_6</th>\n",
       "      <th>S2K_item_7</th>\n",
       "      <th>S2K_item_8</th>\n",
       "      <th>S2K_item_9</th>\n",
       "      <th>S2K_item_10</th>\n",
       "      <th>S2K_item_11</th>\n",
       "      <th>S2K_item_12</th>\n",
       "      <th>S2K_item_13</th>\n",
       "      <th>S2K_item_14</th>\n",
       "      <th>S2K_item_15</th>\n",
       "      <th>S2K_item_16</th>\n",
       "      <th>S2K_item_17</th>\n",
       "      <th>S2K_item_18</th>\n",
       "      <th>S2K_item_19</th>\n",
       "      <th>S2K_item_20</th>\n",
       "      <th>S2K_item_21</th>\n",
       "      <th>S2K_item_22</th>\n",
       "      <th>S2K_item_23</th>\n",
       "      <th>S2K_item_24</th>\n",
       "      <th>SDI</th>\n",
       "      <th>New_SDI_since_previous_visit_new</th>\n",
       "    </tr>\n",
       "  </thead>\n",
       "  <tbody>\n",
       "    <tr>\n",
       "      <th>0</th>\n",
       "      <td>CRE11066</td>\n",
       "      <td>0</td>\n",
       "      <td>0</td>\n",
       "      <td>0</td>\n",
       "      <td>0</td>\n",
       "      <td>0</td>\n",
       "      <td>0</td>\n",
       "      <td>0</td>\n",
       "      <td>0</td>\n",
       "      <td>0</td>\n",
       "      <td>1</td>\n",
       "      <td>0</td>\n",
       "      <td>0</td>\n",
       "      <td>0</td>\n",
       "      <td>0</td>\n",
       "      <td>0</td>\n",
       "      <td>1</td>\n",
       "      <td>1</td>\n",
       "      <td>0</td>\n",
       "      <td>0</td>\n",
       "      <td>0</td>\n",
       "      <td>1</td>\n",
       "      <td>1</td>\n",
       "      <td>0</td>\n",
       "      <td>0</td>\n",
       "      <td>0</td>\n",
       "      <td>0.0</td>\n",
       "      <td>0.0</td>\n",
       "    </tr>\n",
       "    <tr>\n",
       "      <th>1</th>\n",
       "      <td>CRE11066</td>\n",
       "      <td>6</td>\n",
       "      <td>0</td>\n",
       "      <td>0</td>\n",
       "      <td>0</td>\n",
       "      <td>0</td>\n",
       "      <td>0</td>\n",
       "      <td>0</td>\n",
       "      <td>0</td>\n",
       "      <td>0</td>\n",
       "      <td>0</td>\n",
       "      <td>0</td>\n",
       "      <td>0</td>\n",
       "      <td>0</td>\n",
       "      <td>0</td>\n",
       "      <td>0</td>\n",
       "      <td>1</td>\n",
       "      <td>1</td>\n",
       "      <td>0</td>\n",
       "      <td>0</td>\n",
       "      <td>0</td>\n",
       "      <td>0</td>\n",
       "      <td>0</td>\n",
       "      <td>0</td>\n",
       "      <td>0</td>\n",
       "      <td>0</td>\n",
       "      <td>0.0</td>\n",
       "      <td>0.0</td>\n",
       "    </tr>\n",
       "    <tr>\n",
       "      <th>2</th>\n",
       "      <td>CRE11066</td>\n",
       "      <td>12</td>\n",
       "      <td>0</td>\n",
       "      <td>0</td>\n",
       "      <td>0</td>\n",
       "      <td>0</td>\n",
       "      <td>0</td>\n",
       "      <td>0</td>\n",
       "      <td>0</td>\n",
       "      <td>0</td>\n",
       "      <td>0</td>\n",
       "      <td>0</td>\n",
       "      <td>0</td>\n",
       "      <td>0</td>\n",
       "      <td>0</td>\n",
       "      <td>0</td>\n",
       "      <td>1</td>\n",
       "      <td>0</td>\n",
       "      <td>0</td>\n",
       "      <td>0</td>\n",
       "      <td>0</td>\n",
       "      <td>1</td>\n",
       "      <td>1</td>\n",
       "      <td>0</td>\n",
       "      <td>0</td>\n",
       "      <td>0</td>\n",
       "      <td>0.0</td>\n",
       "      <td>0.0</td>\n",
       "    </tr>\n",
       "    <tr>\n",
       "      <th>3</th>\n",
       "      <td>CRE11066</td>\n",
       "      <td>18</td>\n",
       "      <td>0</td>\n",
       "      <td>0</td>\n",
       "      <td>0</td>\n",
       "      <td>0</td>\n",
       "      <td>0</td>\n",
       "      <td>0</td>\n",
       "      <td>0</td>\n",
       "      <td>0</td>\n",
       "      <td>1</td>\n",
       "      <td>0</td>\n",
       "      <td>0</td>\n",
       "      <td>0</td>\n",
       "      <td>0</td>\n",
       "      <td>0</td>\n",
       "      <td>1</td>\n",
       "      <td>0</td>\n",
       "      <td>0</td>\n",
       "      <td>0</td>\n",
       "      <td>0</td>\n",
       "      <td>0</td>\n",
       "      <td>1</td>\n",
       "      <td>0</td>\n",
       "      <td>0</td>\n",
       "      <td>0</td>\n",
       "      <td>0.0</td>\n",
       "      <td>0.0</td>\n",
       "    </tr>\n",
       "    <tr>\n",
       "      <th>4</th>\n",
       "      <td>CRE10678</td>\n",
       "      <td>0</td>\n",
       "      <td>0</td>\n",
       "      <td>0</td>\n",
       "      <td>0</td>\n",
       "      <td>0</td>\n",
       "      <td>0</td>\n",
       "      <td>0</td>\n",
       "      <td>0</td>\n",
       "      <td>0</td>\n",
       "      <td>1</td>\n",
       "      <td>0</td>\n",
       "      <td>0</td>\n",
       "      <td>0</td>\n",
       "      <td>0</td>\n",
       "      <td>0</td>\n",
       "      <td>1</td>\n",
       "      <td>0</td>\n",
       "      <td>0</td>\n",
       "      <td>0</td>\n",
       "      <td>0</td>\n",
       "      <td>1</td>\n",
       "      <td>1</td>\n",
       "      <td>0</td>\n",
       "      <td>0</td>\n",
       "      <td>0</td>\n",
       "      <td>0.0</td>\n",
       "      <td>0.0</td>\n",
       "    </tr>\n",
       "    <tr>\n",
       "      <th>...</th>\n",
       "      <td>...</td>\n",
       "      <td>...</td>\n",
       "      <td>...</td>\n",
       "      <td>...</td>\n",
       "      <td>...</td>\n",
       "      <td>...</td>\n",
       "      <td>...</td>\n",
       "      <td>...</td>\n",
       "      <td>...</td>\n",
       "      <td>...</td>\n",
       "      <td>...</td>\n",
       "      <td>...</td>\n",
       "      <td>...</td>\n",
       "      <td>...</td>\n",
       "      <td>...</td>\n",
       "      <td>...</td>\n",
       "      <td>...</td>\n",
       "      <td>...</td>\n",
       "      <td>...</td>\n",
       "      <td>...</td>\n",
       "      <td>...</td>\n",
       "      <td>...</td>\n",
       "      <td>...</td>\n",
       "      <td>...</td>\n",
       "      <td>...</td>\n",
       "      <td>...</td>\n",
       "      <td>...</td>\n",
       "      <td>...</td>\n",
       "    </tr>\n",
       "    <tr>\n",
       "      <th>3106</th>\n",
       "      <td>FER964-92</td>\n",
       "      <td>36</td>\n",
       "      <td>0</td>\n",
       "      <td>0</td>\n",
       "      <td>0</td>\n",
       "      <td>0</td>\n",
       "      <td>0</td>\n",
       "      <td>0</td>\n",
       "      <td>0</td>\n",
       "      <td>0</td>\n",
       "      <td>0</td>\n",
       "      <td>0</td>\n",
       "      <td>0</td>\n",
       "      <td>0</td>\n",
       "      <td>0</td>\n",
       "      <td>0</td>\n",
       "      <td>0</td>\n",
       "      <td>0</td>\n",
       "      <td>0</td>\n",
       "      <td>0</td>\n",
       "      <td>0</td>\n",
       "      <td>0</td>\n",
       "      <td>1</td>\n",
       "      <td>0</td>\n",
       "      <td>0</td>\n",
       "      <td>0</td>\n",
       "      <td>0.0</td>\n",
       "      <td>0.0</td>\n",
       "    </tr>\n",
       "    <tr>\n",
       "      <th>3107</th>\n",
       "      <td>FER964-92</td>\n",
       "      <td>42</td>\n",
       "      <td>0</td>\n",
       "      <td>0</td>\n",
       "      <td>0</td>\n",
       "      <td>0</td>\n",
       "      <td>0</td>\n",
       "      <td>0</td>\n",
       "      <td>0</td>\n",
       "      <td>0</td>\n",
       "      <td>0</td>\n",
       "      <td>0</td>\n",
       "      <td>0</td>\n",
       "      <td>0</td>\n",
       "      <td>0</td>\n",
       "      <td>0</td>\n",
       "      <td>0</td>\n",
       "      <td>0</td>\n",
       "      <td>0</td>\n",
       "      <td>0</td>\n",
       "      <td>0</td>\n",
       "      <td>0</td>\n",
       "      <td>1</td>\n",
       "      <td>0</td>\n",
       "      <td>0</td>\n",
       "      <td>0</td>\n",
       "      <td>NaN</td>\n",
       "      <td>NaN</td>\n",
       "    </tr>\n",
       "    <tr>\n",
       "      <th>3108</th>\n",
       "      <td>FER964-92</td>\n",
       "      <td>48</td>\n",
       "      <td>0</td>\n",
       "      <td>0</td>\n",
       "      <td>0</td>\n",
       "      <td>0</td>\n",
       "      <td>0</td>\n",
       "      <td>0</td>\n",
       "      <td>0</td>\n",
       "      <td>0</td>\n",
       "      <td>0</td>\n",
       "      <td>0</td>\n",
       "      <td>0</td>\n",
       "      <td>0</td>\n",
       "      <td>0</td>\n",
       "      <td>0</td>\n",
       "      <td>0</td>\n",
       "      <td>0</td>\n",
       "      <td>0</td>\n",
       "      <td>0</td>\n",
       "      <td>0</td>\n",
       "      <td>0</td>\n",
       "      <td>1</td>\n",
       "      <td>0</td>\n",
       "      <td>0</td>\n",
       "      <td>0</td>\n",
       "      <td>0.0</td>\n",
       "      <td>0.0</td>\n",
       "    </tr>\n",
       "    <tr>\n",
       "      <th>3109</th>\n",
       "      <td>FER964-92</td>\n",
       "      <td>54</td>\n",
       "      <td>0</td>\n",
       "      <td>0</td>\n",
       "      <td>0</td>\n",
       "      <td>0</td>\n",
       "      <td>0</td>\n",
       "      <td>0</td>\n",
       "      <td>0</td>\n",
       "      <td>0</td>\n",
       "      <td>0</td>\n",
       "      <td>0</td>\n",
       "      <td>0</td>\n",
       "      <td>0</td>\n",
       "      <td>0</td>\n",
       "      <td>0</td>\n",
       "      <td>0</td>\n",
       "      <td>0</td>\n",
       "      <td>0</td>\n",
       "      <td>0</td>\n",
       "      <td>0</td>\n",
       "      <td>0</td>\n",
       "      <td>0</td>\n",
       "      <td>0</td>\n",
       "      <td>0</td>\n",
       "      <td>0</td>\n",
       "      <td>NaN</td>\n",
       "      <td>NaN</td>\n",
       "    </tr>\n",
       "    <tr>\n",
       "      <th>3110</th>\n",
       "      <td>FER964-92</td>\n",
       "      <td>60</td>\n",
       "      <td>0</td>\n",
       "      <td>0</td>\n",
       "      <td>0</td>\n",
       "      <td>0</td>\n",
       "      <td>0</td>\n",
       "      <td>0</td>\n",
       "      <td>0</td>\n",
       "      <td>0</td>\n",
       "      <td>0</td>\n",
       "      <td>0</td>\n",
       "      <td>0</td>\n",
       "      <td>0</td>\n",
       "      <td>0</td>\n",
       "      <td>0</td>\n",
       "      <td>0</td>\n",
       "      <td>0</td>\n",
       "      <td>0</td>\n",
       "      <td>0</td>\n",
       "      <td>0</td>\n",
       "      <td>0</td>\n",
       "      <td>1</td>\n",
       "      <td>0</td>\n",
       "      <td>0</td>\n",
       "      <td>0</td>\n",
       "      <td>0.0</td>\n",
       "      <td>0.0</td>\n",
       "    </tr>\n",
       "  </tbody>\n",
       "</table>\n",
       "<p>3111 rows × 28 columns</p>\n",
       "</div>"
      ],
      "text/plain": [
       "      SLET2T_ID  Visit_month_new  S2K_item_1  S2K_item_2  S2K_item_3  \\\n",
       "0      CRE11066                0           0           0           0   \n",
       "1      CRE11066                6           0           0           0   \n",
       "2      CRE11066               12           0           0           0   \n",
       "3      CRE11066               18           0           0           0   \n",
       "4      CRE10678                0           0           0           0   \n",
       "...         ...              ...         ...         ...         ...   \n",
       "3106  FER964-92               36           0           0           0   \n",
       "3107  FER964-92               42           0           0           0   \n",
       "3108  FER964-92               48           0           0           0   \n",
       "3109  FER964-92               54           0           0           0   \n",
       "3110  FER964-92               60           0           0           0   \n",
       "\n",
       "      S2K_item_4  S2K_item_5  S2K_item_6  S2K_item_7  S2K_item_8  S2K_item_9  \\\n",
       "0              0           0           0           0           0           1   \n",
       "1              0           0           0           0           0           0   \n",
       "2              0           0           0           0           0           0   \n",
       "3              0           0           0           0           0           1   \n",
       "4              0           0           0           0           0           1   \n",
       "...          ...         ...         ...         ...         ...         ...   \n",
       "3106           0           0           0           0           0           0   \n",
       "3107           0           0           0           0           0           0   \n",
       "3108           0           0           0           0           0           0   \n",
       "3109           0           0           0           0           0           0   \n",
       "3110           0           0           0           0           0           0   \n",
       "\n",
       "      S2K_item_10  S2K_item_11  S2K_item_12  S2K_item_13  S2K_item_14  \\\n",
       "0               0            0            0            0            0   \n",
       "1               0            0            0            0            0   \n",
       "2               0            0            0            0            0   \n",
       "3               0            0            0            0            0   \n",
       "4               0            0            0            0            0   \n",
       "...           ...          ...          ...          ...          ...   \n",
       "3106            0            0            0            0            0   \n",
       "3107            0            0            0            0            0   \n",
       "3108            0            0            0            0            0   \n",
       "3109            0            0            0            0            0   \n",
       "3110            0            0            0            0            0   \n",
       "\n",
       "      S2K_item_15  S2K_item_16  S2K_item_17  S2K_item_18  S2K_item_19  \\\n",
       "0               1            1            0            0            0   \n",
       "1               1            1            0            0            0   \n",
       "2               1            0            0            0            0   \n",
       "3               1            0            0            0            0   \n",
       "4               1            0            0            0            0   \n",
       "...           ...          ...          ...          ...          ...   \n",
       "3106            0            0            0            0            0   \n",
       "3107            0            0            0            0            0   \n",
       "3108            0            0            0            0            0   \n",
       "3109            0            0            0            0            0   \n",
       "3110            0            0            0            0            0   \n",
       "\n",
       "      S2K_item_20  S2K_item_21  S2K_item_22  S2K_item_23  S2K_item_24  SDI  \\\n",
       "0               1            1            0            0            0  0.0   \n",
       "1               0            0            0            0            0  0.0   \n",
       "2               1            1            0            0            0  0.0   \n",
       "3               0            1            0            0            0  0.0   \n",
       "4               1            1            0            0            0  0.0   \n",
       "...           ...          ...          ...          ...          ...  ...   \n",
       "3106            0            1            0            0            0  0.0   \n",
       "3107            0            1            0            0            0  NaN   \n",
       "3108            0            1            0            0            0  0.0   \n",
       "3109            0            0            0            0            0  NaN   \n",
       "3110            0            1            0            0            0  0.0   \n",
       "\n",
       "      New_SDI_since_previous_visit_new  \n",
       "0                                  0.0  \n",
       "1                                  0.0  \n",
       "2                                  0.0  \n",
       "3                                  0.0  \n",
       "4                                  0.0  \n",
       "...                                ...  \n",
       "3106                               0.0  \n",
       "3107                               NaN  \n",
       "3108                               0.0  \n",
       "3109                               NaN  \n",
       "3110                               0.0  \n",
       "\n",
       "[3111 rows x 28 columns]"
      ]
     },
     "execution_count": 221,
>>>>>>> 92d50e0e715539d086474b4ed0648d3be0d32296
     "metadata": {},
     "output_type": "execute_result"
    }
   ],
   "source": [
    "df = dfo[filtered_columns]\n",
<<<<<<< HEAD
    "df.columns"
=======
    "df"
>>>>>>> 92d50e0e715539d086474b4ed0648d3be0d32296
   ]
  },
  {
   "cell_type": "code",
<<<<<<< HEAD
   "execution_count": 69,
=======
   "execution_count": 222,
   "metadata": {},
   "outputs": [
    {
     "data": {
      "text/plain": [
       "(3111, 28)"
      ]
     },
     "execution_count": 222,
     "metadata": {},
     "output_type": "execute_result"
    }
   ],
   "source": [
    "df.shape"
   ]
  },
  {
   "cell_type": "code",
   "execution_count": 223,
>>>>>>> 92d50e0e715539d086474b4ed0648d3be0d32296
   "metadata": {},
   "outputs": [
    {
     "name": "stderr",
     "output_type": "stream",
     "text": [
<<<<<<< HEAD
      "C:\\Users\\gsevr\\AppData\\Local\\Temp\\ipykernel_250724\\1029583041.py:1: SettingWithCopyWarning: \n",
      "A value is trying to be set on a copy of a slice from a DataFrame\n",
      "\n",
      "See the caveats in the documentation: https://pandas.pydata.org/pandas-docs/stable/user_guide/indexing.html#returning-a-view-versus-a-copy\n",
      "  df.New_SDI_since_previous_visit_new.fillna(0, inplace=True)\n"
=======
      "C:\\Users\\gsevr\\AppData\\Local\\Temp\\ipykernel_12056\\1379821321.py:1: SettingWithCopyWarning: \n",
      "A value is trying to be set on a copy of a slice from a DataFrame\n",
      "\n",
      "See the caveats in the documentation: https://pandas.pydata.org/pandas-docs/stable/user_guide/indexing.html#returning-a-view-versus-a-copy\n",
      "  df.dropna(inplace=True)\n"
>>>>>>> 92d50e0e715539d086474b4ed0648d3be0d32296
     ]
    }
   ],
   "source": [
<<<<<<< HEAD
    "df.New_SDI_since_previous_visit_new.fillna(0, inplace=True)"
=======
    "df.dropna(inplace=True)"
>>>>>>> 92d50e0e715539d086474b4ed0648d3be0d32296
   ]
  },
  {
   "cell_type": "code",
<<<<<<< HEAD
   "execution_count": 70,
   "metadata": {},
   "outputs": [],
   "source": [
    "ids = []\n",
    "for id in df.SLET2T_ID.unique():\n",
    "    if any(df[df.SLET2T_ID == id].New_SDI_since_previous_visit_new) != 0:\n",
    "        ids.append(id)"
   ]
  },
  {
   "cell_type": "code",
   "execution_count": 71,
   "metadata": {},
   "outputs": [
    {
     "name": "stdout",
     "output_type": "stream",
     "text": [
      "354\n",
      "99\n"
     ]
    }
   ],
   "source": [
    "print(len(df.SLET2T_ID.unique()))\n",
    "print(len(ids))"
   ]
  },
  {
   "cell_type": "code",
   "execution_count": 73,
   "metadata": {},
   "outputs": [],
   "source": [
    "# The reasoning here is that the patients history up to the first occurence of SDI > 0 can be used to predict that prognosis\n",
    "dfs = []\n",
=======
   "execution_count": 224,
   "metadata": {},
   "outputs": [
    {
     "name": "stderr",
     "output_type": "stream",
     "text": [
      "C:\\Users\\gsevr\\AppData\\Local\\Temp\\ipykernel_12056\\2242631431.py:1: SettingWithCopyWarning: \n",
      "A value is trying to be set on a copy of a slice from a DataFrame.\n",
      "Try using .loc[row_indexer,col_indexer] = value instead\n",
      "\n",
      "See the caveats in the documentation: https://pandas.pydata.org/pandas-docs/stable/user_guide/indexing.html#returning-a-view-versus-a-copy\n",
      "  df['New_SDI_since_previous_visit_new'] = df.New_SDI_since_previous_visit_new.astype(int)\n"
     ]
    }
   ],
   "source": [
    "df['New_SDI_since_previous_visit_new'] = df.New_SDI_since_previous_visit_new.astype(int)"
   ]
  },
  {
   "cell_type": "code",
   "execution_count": 225,
   "metadata": {},
   "outputs": [
    {
     "name": "stderr",
     "output_type": "stream",
     "text": [
      "C:\\Users\\gsevr\\AppData\\Local\\Temp\\ipykernel_12056\\3070402640.py:1: SettingWithCopyWarning: \n",
      "A value is trying to be set on a copy of a slice from a DataFrame.\n",
      "Try using .loc[row_indexer,col_indexer] = value instead\n",
      "\n",
      "See the caveats in the documentation: https://pandas.pydata.org/pandas-docs/stable/user_guide/indexing.html#returning-a-view-versus-a-copy\n",
      "  df['New_SDI_since_previous_visit_new'] = df['New_SDI_since_previous_visit_new'].apply(lambda x: np.where(x > 0, 1, 0))\n"
     ]
    }
   ],
   "source": [
    "df['New_SDI_since_previous_visit_new'] = df['New_SDI_since_previous_visit_new'].apply(lambda x: np.where(x > 0, 1, 0))"
   ]
  },
  {
   "cell_type": "code",
   "execution_count": 226,
   "metadata": {},
   "outputs": [
    {
     "data": {
      "text/plain": [
       "New_SDI_since_previous_visit_new\n",
       "0    2586\n",
       "1     139\n",
       "Name: count, dtype: int64"
      ]
     },
     "execution_count": 226,
     "metadata": {},
     "output_type": "execute_result"
    }
   ],
   "source": [
    "df.New_SDI_since_previous_visit_new.value_counts()"
   ]
  },
  {
   "cell_type": "code",
   "execution_count": 229,
   "metadata": {},
   "outputs": [
    {
     "name": "stderr",
     "output_type": "stream",
     "text": [
      "C:\\Users\\gsevr\\AppData\\Local\\Temp\\ipykernel_12056\\1073498108.py:6: SettingWithCopyWarning: \n",
      "A value is trying to be set on a copy of a slice from a DataFrame.\n",
      "Try using .loc[row_indexer,col_indexer] = value instead\n",
      "\n",
      "See the caveats in the documentation: https://pandas.pydata.org/pandas-docs/stable/user_guide/indexing.html#returning-a-view-versus-a-copy\n",
      "  df['New_SDI_since_previous_visit_new'] = y_resampled\n"
     ]
    }
   ],
   "source": [
    "from imblearn.over_sampling import SMOTEN\n",
    "\n",
    "sm = SMOTEN(random_state=42)\n",
    "X_resampled, y_resampled = sm.fit_resample(df.iloc[:,2:-2], df.iloc[:,-1])\n",
    "\n",
    "df['New_SDI_since_previous_visit_new'] = y_resampled"
   ]
  },
  {
   "cell_type": "code",
   "execution_count": 232,
   "metadata": {},
   "outputs": [
    {
     "data": {
      "text/plain": [
       "New_SDI_since_previous_visit_new\n",
       "0    2306\n",
       "1     419\n",
       "Name: count, dtype: int64"
      ]
     },
     "execution_count": 232,
     "metadata": {},
     "output_type": "execute_result"
    }
   ],
   "source": [
    "df.New_SDI_since_previous_visit_new.value_counts()"
   ]
  },
  {
   "cell_type": "code",
   "execution_count": 206,
   "metadata": {},
   "outputs": [
    {
     "data": {
      "image/png": "iVBORw0KGgoAAAANSUhEUgAAAkMAAAG1CAYAAAD6GvACAAAAOXRFWHRTb2Z0d2FyZQBNYXRwbG90bGliIHZlcnNpb24zLjcuMSwgaHR0cHM6Ly9tYXRwbG90bGliLm9yZy/bCgiHAAAACXBIWXMAAA9hAAAPYQGoP6dpAADhXUlEQVR4nOy9d5hkVZ3//76xcnWa7p4MDGkcTEtWoiI/dwFZwLDmgKhfFHQXBJ3VZ9ddXWUlrQqYwZxwlV0R18WwIIKAIoowMzCEST2dQ6Wbz/n9ce+trunpqjrnVlVXVfd5Pc88D3Sovn361j2f8wnvt0QppRAIBAKBQCBYocjtvgCBQCAQCASCdiKCIYFAIBAIBCsaEQwJBAKBQCBY0YhgSCAQCAQCwYpGBEMCgUAgEAhWNCIYEggEAoFAsKIRwZBAIBAIBIIVjQiGBAKBQCAQrGjUdl9At0ApBSHN16eUZaklr7scEWvFh1gvdsRasSPWih2xVuy0aq1kWYIkSXW/TgRDjBBCMT1dbOprqqqMvr4UcrkSXJc09bWXG2Kt+BDrxY5YK3bEWrEj1oqdVq5Vf38KilI/GBJlMoFAIBAIBCsaEQwJBAKBQCBY0YhgSCAQCAQCwYpGBEMCgUAgEAhWNCIYEggEAoFAsKIRwZBAIBAIBIIVjQiGBAKBQCAQrGhEMCQQCAQCgWBFI4IhgUAgEAgEKxoRDAkEAoFAIFjRiGBIIBAIBALBikYEQwKBQCAQCFY0IhgSCAQCgUCwohHBkEAgEAgEghWNCIYEAoFAIBCsaNR2X4BAIBAIBIKVze7RHGRKEFOVtvx8kRkSCAQCgUDQNlyPoGg48DzatmsQwZBAIBAIBIK2YTkeHJe09RpEMCQQCAQCgaBtOA4RwZBAIBAIBIKVi+2KzJBAIBAIBIIVTNF0QdC+fiFABEMCgUAgEAjaBKEUhuW2+zJEMCQQCAQCgaA9OA6B2+YSGSCCIYFAIBAIBG0i7BeS2nwdIhgSCAQCgUDQFuYbp9sbDolgSCAQCAQCQVswLa/dcRAAEQwJBAKBQCBoE0XLgaa2PxRp/xUIBAKBQCBYcbgege0SEQwJBAKBQCBYmdjBJJmqtD8Uaf8VCAQCgUAgWHHYrgeXiGBIIBAIBALBCsV2CdosPF1GBEMCgUAgEAiWHMN0oXZAvxAggiGBQCAQCARLjG/D4UBTOmCuHiIYEggEAoFAsMQ4DoHt0o7oFwJEMCQQCAQCgWCJsV0Prud1xFg9IIIhgUAgEAgES0xowyFJokwmEAgEAoFgBWLaXscEQoAIhgQCgUAgECwxRdOB2iHN04AIhgQCgUAgECwhnWTDEdI5VyIQCAQCgWDZE9pwaB0ySQaIYEggEAgEAsES4gQ2HIoIhgQCgUAgEKxELJegc7qFfEQwJBAIBAKBYMkwTBeK3FnhkAiGBAKBQCAQLAllG44Oap4GRDAkEAgEAoFgiXBcAsfrHBuOkM66GoFAIBAIBMsW2/HguJ1jwxHSWVcjEAgEAoFg2eK4BJR2jg1HiAiGBAKBQCAQLAmm40HusOZpQARDAoFAIBAIlgjDdDvKhiNEBEMCgUAgEAhajusRmI7XUcrTIZ13RQKBQCAQdAiW7bX7EpYNZRuODmueBkQwJBAIBALBoliOh70TBZRMt92XsizoRBuOkMhXtHXrVtx9990olUrNvB6BQCAQCDoCy/ZQNF1YjsgONQO7A204QtSo37hz507813/9F1RVxQknnICXv/zlOPPMM7Fu3bpmXp9AIBAIBG3BdDyUTAeW7QKItftyuh7D6jwbjpDImaHbb78dv/3tb/GJT3wCfX19uOmmm/CKV7wC559/Pm688UY8+uijTK9DCMFnP/tZnHbaaXjRi16Eiy++GLt27ar69U899RTe/e5346STTsJLXvISvP/978fIyMgBX/Pyl78cRx999AH/PvjBD0b9VQUCgUCwAsmXbFAABUOUyRrFt+FwoXZgvxAASJRS2owXopTioYcewmc+8xk88sgjkCQJ27Ztq/t9N910E77zne/gU5/6FIaHh3Httddiz549uPPOO6Hr+gFfOzMzg1e96lU44YQT8N73vheWZeHf//3fMTU1hR//+MeIxWIoFAo4/vjj8YUvfAHHHHNM+Xvj8TgymUzk38/zCKani5G/fzFUVUZfXwozM0W4Lmnqay83xFrxIdaLHbFW7KyktXJcgif3zMIlBKos46gNvVyNvytprViwHA9P7plFTJOha8oBn1MUGZYHrO2LIxmLXLBalP7+FFOPUkM/1TRNPPLII3jooYfw0EMP4bHHHoPrujjqqKNw0kkn1f1+27Zx66234qqrrsIZZ5wBALjxxhtx2mmn4e6778a55557wNf/4he/gGEYuOaaaxCL+SnLa6+9FmeccQYeeeQRvOQlL8GTTz4JSimOPfZYZLPZRn49gUAgEKxQLMeD5XrIJjXkSw4sp/MsJLoJ35OMIJ1obrDTLCJf1etf/3r85S9/ASEEmzZtwgknnIC3vvWtOOmkk9DX18f0Gtu3b0exWMTJJ59c/lg2m8WWLVvw8MMPHxQMveQlL8HNN99cDoQqmZubAwDs2LEDg4ODIhASCAQCQWRM2wUlgKrIIITCdjwgobX7sroW2/FACe04G46QyMHQjh074LoutmzZgle+8pU46aST8IIXvACKotT/5oDR0VEAwJo1aw74+NDQEPbv33/Q169fvx7r168/4GNf/OIXEYvFcMIJJwAAnnzySSSTSVx++eX44x//iP7+flx00UV461vfClluLKpvdq0zTN114phhpyHWig+xXuyItWJnJa2VaXvQdRmKIkPTFNgu4doDVtJaseASClWVF10PRZYBj0BWpLb1FEUOhh5++GH86U9/wgMPPIDf/OY3uOmmm6BpGo499licdNJJOOmkk/DCF76w5msYhgEAB/UGxWKxcqanFt/4xjfwne98B1u3bsXAwAAAv8E6n8/jnHPOwWWXXYbf//73uO666zA3N4cPfOADEX9bQJYl9PWlIn9/LbLZREtedzki1ooPsV7siLViZ7mvlesRyJMlDPSpSMU1SIoCSZXR25vkzmws97ViZWzOQl9vEtnU4lN5pVkDmXQCvZn2TO1FDoZUVcVxxx2H4447DpdddhkMw8Af/vAHfP/738f111/P1EAdj8cB+L1D4X8DgGVZSCSq30CUUnzmM5/B5z//ebznPe/B29/+9vLnbrvtNliWhXQ6DQA4+uijUSwW8fnPfx6XX3555OwQIRS5XHM1lRRFRjabQC5nwPNEg10txFrxIdaLHbFW7KyUtSqaDqami0gnNXiOC9vxkLM9jGV0xDS26sdKWSsWXI9gcroASZIgkYPXQgn25XzBAHWbO7mXzSZa30ANAJOTk7j//vvxwAMP4IEHHsDo6CjWrl1bboiuRVgeGx8fx8aNG8sfHx8fx+bNmxf9HsdxsHXrVtx55524+uqr8c53vvOAz2uaBk07sK571FFHoVQqYW5ujrmfaTFaNRHgeURMGzAi1ooPsV7siLViZ7mvVbHkwHY8SNDgeQSy5JfNioYDhTMztNzXioWS6cK0PKQSas3AkHi0bWsVORj65Cc/iQceeAA7d+6ELMv4q7/6K7zpTW/CmWeeiSOPPJLpNTZv3ox0Oo0HH3ywHAzlcjk88cQTePOb37zo91x99dW4++67cf311x/UYE0IwSte8Qq89rWvxaWXXlr++GOPPYZVq1Y1FAgJBAKBYGVQspwDxAElSQKlFLbtAck2XliXEtpwqB3cPxU5GPrJT36C0047DZdeeilOPfXUSNNbuq7jzW9+M6677jr09/dj3bp1uPbaa7F69WqcffbZ8DwP09PTyGQyiMfj+NGPfoS77roLV199NU488URMTEyUXyv8mle+8pX4yle+gkMPPRTHHHMMHnjgAXzlK1/BRz7ykai/qkAgEAhWCIRSFA0Xunbgxq0qEkqWEF+MQifbcIREDobuv//+ciNZPp/H008/jQ0bNkBRFK6Jsve///1wXRcf/ehHYZomTjjhBHz1q1+FruvYu3cvzjrrLHzqU5/CRRddhDvvvBMA8OlPfxqf/vSnD3id8GuuvPJKZLNZXH/99RgdHcX69evxkY98BK973eui/qoCgUAgWCFYtgfL9pCMH7g9aqqCoumAEAq5Qy0lOpVOtuEIaUiB+sEHH8R1112Hv/zlL5AkCbfffju+/OUvY/Xq1fjwhz/czOtsO0KBur2IteJDrBc7Yq3YWQlrNZO38Oz+OfRn4wd83HUJSqaLIzf0IsGgkrwS1ooFSmlZyTsVX1ynqRMUqCMX8B544AG8853vRDwexwc/+EGEMdWWLVvwjW98A7fddlvUlxYIBAKBoC0YtgtpkaKOokhwCPHFFwXM2C6B7RJoHdwvBDQQDP3Hf/wHzjrrLHzzm9/E2972tnIw9O53vxuXXHIJbr/99qZdpEAgEAgErYZSikLJgaYdvDVKkgSJSjBtEQzxENpwdHLzNNBAMLRt2za8+tWvBoCDRKhOOeUU7Nu3r7ErEwgEAoFgCbEdAsvxoFdRQVZVCUXTWeKr6m5sxwO6oM8qcjCUyWQOmOaqZP/+/Q05xAsEAoFAsNSYjgfXJVUNWXVVhml7cFe4iCIPpuOh40fJ0EAwdNZZZ+HGG2/EY489Vv6YJEkYHR3FF77wBZx55pnNuD6BQCAQCJYE03JB6cHVjhBNk2G7nugb4sAw3arBZScRuW37yiuvxJ/+9Ce87nWvw6pVqwAAV1xxBUZHR7FmzRpcccUVTbtIgUAgEAhaTcFwoGnV0xiKLMPzAMshSMarfpkgwPX8smOnN08DDQRDPT09uP3223HHHXfgd7/7HWZnZ5HJZPCWt7wFF110UU1vMYFAIBAIOgnH9XynerW2Tp4s+RNnfWiPoWg34bi+FUky0dxx+VbQ0BXquo7Xve51QtBQIBAAAEqmg5LlYlWPOAwJugvT9mC5HhIxvebXaaqMouGAUsrtYL/SsB2vKybJgAaDoWeffRb33HMPSqUSyAInWkmS8L73va+hixMIBN1FvuRgtmChPxPv+OkRgaASy/YAirr3rabJsBwC1yPQ6mSRVjp2F4lNRg6G7rjjDmzduhXVBKxFMCQQrDwKpgMrGE9mUekVCDqFguFAUeoH8Joio2jasBwRDNXDsFyoDGvaCUR+Wn3+85/HS1/6UnziE5/A6tWrRbpQIFjhOC6BaXtwXA+2S5AQLRWCLsH1CEqWW1VfqBJZlgBCYdke0onF7SUEvoClYblQu2CSDGhgtH5kZASXXHIJ1qxZIwIhgUAAy/FHjmnw3wJBtxDeuwud6qshyxIMW4gv1sJxCZwusOEIiXyVhx12GPbv39/MaxEIBF2MZXuglEJXZZQMu92XIxAwY9kePEKhyGxboqbJKBouSHSf82WP7RLYXdI8DTQQDF155ZW45ZZb8OCDD8KyrGZek0Ag6EKKpgNZkqCpMkqWB490T/OkYGVTNB0oHA3/uuo3UTuOuMer0S02HCGRe4b+7d/+DVNTU3j729++6OclScITTzwR9eUFAkEXQQhF0XSga3IweuzCsgmS8e44FQpWLoRQFAyHuUQGAKoiw/VcWI6HmC6aqBfDcryuaqGJHAydf/75zbwOgUDQxViOB8chSMZVqIoMj/gTZcm4mCgTdDaV9y4rkiSBUip642pQMl2o6goIhi677DKmr6OU4uabb8bf/d3fYXBwMOqPEwgEHYzleHAIKU+OSJBgOS4gVHoFHY5pB8KAnFNPaiC+ONgrBEYXEtpwdEu/ENBAzxArhBDcfPPNGB8fb/WPEggEbcKwXMgV1tSqKqFouG28IoGADcN2IUco5+iqjJLlit64RQhtOLrBoDVkSa60mjCjQCDofij1ey4qU+KaKsN0PDhdpEArWHlQSlEoOdA4+oVCNFWG6xLYoon6IGyXwCVUZIYEAsHKwXEJLNuDrs03kuqqAsfxYLuip6IVEEKRKwn5gkaxHRKYs/Jvhaoiwwl64wQHYjte1yVBRDAkEAgaIswAVW4osizBC1R6Bc2nYDgYmy6JjbhBTMcLPMaibYUSJJi2KAcvxLBcJmuTTkIEQwKBoCFs2wNZxMFbliWYltisW4HleMiXbBiW2IgbwbRcgCLyCLgmeuMOIrTh6KZ+IUAEQwKBoEH8fqGDHyWaKqNgOl2XLu8GioYDyyYoGsISohEKhgNNi57BEL1xB9NtNhwh3XW1AoGgo6hlcKmpMmyxUTQdjwRrrsvIlWwxzRQRx/Vg2B70BpznRW/cwdgu8aUKRDAkEAhWCnawESwWDOmqDNsTDabNxrL9ADOT0GDZHgxRioyEaXtwOMxZF0P0xh2M7XggXWTDESKCIYFAEBnT9uB5gLLIKVCSJIBAjB43GcshcD0KXVNAKETfUETMKr1uvIjeuAOxHS+SblO7iRwMbd26FXv27Fn0c8888wz+3//7fwAARVHwjW98A4cddljUHyUQCDoU0/JQy+hbloGSJfpamolhuZAkvw9LVSTkirboy4pA0bCb0uQreuMOpGhFs+Fo9/px2XGMjIyU//uOO+7AK17xCijKwfXWe++9F/fff3/5/0888cQGLlEgEHQilFLkDbumRoumySiZLgilXXla7DRCgctQ0ymuKyhZLmyHCMNQDvxet2j6QgvRK3rjKrW2ViIe8TXHePuF7npgF/7yzDS2vuVYJGPt8TPk+qn/+q//invuuaf8/9X8ySilOOWUUxq7MoFA0NHYDoHlEMT16g8+XZVhWASO2Kybgu36PVixoM9FU2XkDQclyxXry4Fpe7AdD5mU1vBraaqMouE72K/0YMh2fBsOHtNbSin+tHMSpu2h0MbpSK5g6F/+5V9w//33g1KKf/zHf8Sll16KjRs3HvA1siwjm83ipJNOauqFCgSCzmJesK76Y0RVZLiev1GIzbpxrCADkU74ay5JEmRJQtG00ZcRprisWEG/kFKrxsuIJEkg1P/bZJpwbd1MaMPBI7g4lbNg2h5URcKa/mQLr642XMHQ8PAwLrzwQgD+DXDmmWeir6+vJRcmEAg6G9NyAdRuQJUkCZRSMVHWJCzbtzmoXPOYpiBXdOD2d984c7somk5Tp50UBSiZLtDTtJfsShzn4PuzHiOTRQDA6oHUooMYSwVXMPTwww9jy5YtSKVSWL9+PXbu3Fnz60844YSGLk4gEHQuBdNh2nxV1e8bEjROcRGBy7iuYK5ow7Q9pBMiGKoHIRRF02lIX2ghuiqjZDorvjfOsPltOPZN+MHQmlWpVlwSM1zB0Fve8hb84Ac/wAtf+EK85S1vKZ/6Kgk/JkkStm3b1tSLFQgEnYHjBgaXDBotmiKjaDpdqT3SSZTFFhcEQ7IsgRCKkuUinWi8B2a54+sLESQTzWvU1VQFhuX3IcX19jQAtxtKKUqmy608HWaG1q5Kt+KymOH6q33jG9/A4YcfXv5vgUCwMrEc/8Hfk9Lrfq0eZIYsx0OiTZMiy4FQbDG9yCauazJyBRuDPfGGdXOWO5bjwfVoU0uKqiLB9cKBgqa9bFcR2nDwiFh6HsHodAkAsLabMkOVI/JiXF4gWLlYtgfKmOlRVRkOIbBFMNQQodjiYn0VMc0fsbdWcGaCFcN0a2pjRcEPQFd2b1xow8EzSTY2Y8AjFImYgt42DwA0dEvccccd5VH7bdu24dxzz8Wxxx6Lf/zHf4Rt2025QIFA0HnwNqBKVIIpLAsawrBdVFtyXVN8ry2hhFyTUBurFY7qqiKjWFq5+57jEhAKrufCvqBEtm4w3faMZuQ74rbbbsPWrVvxxBNPAPDH7ufm5vDa174Wv/jFL/DZz362aRcpEAg6h3IDKkc6XFUlFE2hRB0VSikKJQdajTVXZAn5FbwZs2A5HiyHr5TDiqbKMGxfbmIlYtkud0AxMhEGQ+0tkQENBEM/+MEPcMkll+DSSy/FyMgIHn30Ubz3ve/F1q1bceWVV+KnP/1pM69TIBB0CJbjN6DyTOPoqgxzBW8UjRKKLdZSTI7pCgqGI9a4BlZwD7ZCgkBXZTguWbFefFFsOMLM0Po2N08DDQRDe/fuxemnnw4AuOeeeyBJEl7+8pcDADZt2oSpqanmXKFAIOgoLMeDQ8hBI9610FQZtus3XQv4CcUWa5V3YpoC0/GEcWsNDNtfm1aUZBRFDpqoV949HsWGw7RdTM6ZAIC13ZwZ6u/vx+TkJADg17/+NTZt2oTVq1cDAHbs2IFVq1Y15woFAkFHYVguZPBtJooig3h+E7CAn8XEFhciyxIQjDcLFqdQcqFFMBFlRZYkmPbKW//QhoNnrH7/lD9F1pvWO0ISIvLYwctf/nJcf/31eOCBB3DvvffiH/7hHwD4vUQ333wzLrrooqZdpEAg6AxCo9AortSShGCjELYRvCwmtrgYmiojV7Ix1Jdoe0Nqp2E7HswW+4epqtRWf612EcWGIxRbbPdIfUjkYGjr1q3wPA8PP/wwXv/61+Piiy8GAHzve9/DGWecgb//+79v1jUKBIIOwXH9dHiUDWWlbhSNUk1scTHiui/+Z9pCxmAhZqCNlWqhEJCuKrAdAsf1uMrI3U4jNhzruj0Y0nUd//qv/3rQx//7v/8bsZg4+QkEyxEz6F1JRVDvrdwotCZaISx3LJtUFVtciKYqyBVdGJYrgqEFsJQaG0VTZZQsG5ZDkIi37Md0HJFsOELl6Q7oFwIa8CZ7+OGH63698CYTCJYXduD2HWVDqdwoRDDEjuV48KqILS6GogAFw0F/dgXtxgwUSq3RF6oktEZZSYMCUWw4ckUb+ZIDSUJbneoraZo3WeXDUXiTCQTLkwJj78piHLBRdEDDZLdg2C54Ys+YNj9iL1zsfVyPoGTXliZoFrIsoWStnHJwaMNRSwNrIWGJbLA30dIeLh6EN5lAIGDC9dh7V6ohy5IY/eagLLbIseYxTcFcwUbJcpFNrlCjrAWYNruXXqPoqoyi4R5kYr5ciWLDsa/D+oWABrzJkskknv/85zf9ggQCQWdiOx5s10OmgayOrsooGE7LezeWC7bre7rxKCbLsgQKoGQ6IhgK4PHSaxRNlWE5K0d8MYoNx7xTfecEQ5GPeK95zWtwzjnn4Etf+hJGRkaaeU0CgaADMW0PHgFz78pi+OKLBLa7MjaKRrEcD3YdscXF0FUZuaIDskKyE/Uomg5kzgbfqGiBEvVKEV+0HD4bDkopRiZ9jaFOygxFfqp98YtfxDHHHIMvfvGLeMUrXoG3vOUt+M///E8UCoVmXp9AIOgQTMurahTKiqbKcFfQRtEodsQJqJiuwLRcWMIcFx4hKBgOl31MI4S9tCvlHi+afJNkUzkLluOrVQ/2dU6Tf+Rg6IwzzsC1116L+++/H9dddx0ymQw+9rGP4ZRTTsEVV1yB//u//2viZQoEgnYSun032oAqSX4JZyVN2zRC1IZ1TZXheET0Z2FemqAV5qzVUBUJxRWgqRXacPBkLsMS2ZqBJBS5cxr8G76SWCyGc845B7fccgt++9vf4rWvfS1+/vOf49JLL2X6fkIIPvvZz+K0007Di170Ilx88cXYtWtX1a9/6qmn8O53vxsnnXQSXvKSl+D973//QWW6n/3sZzjnnHPwghe8AK961atw7733NvQ7Crofy/HEKbkBbIcEI/GNP7xkGcIyggEescXFUBUhcgn4733Xo0s6WaepCkqWC48s7zJlFBuOTlOeDmnK3fHnP/8Z11xzDc4//3x861vfwubNm7F161am773lllvwve99D5/4xCfw/e9/H5Ik4V3vehds2z7oa2dmZvCOd7wDqVQK3/rWt/DlL38ZMzMzuOSSS2BZFgDgd7/7Ha666iq88Y1vxB133IFTTz0V73vf+/D0008341cVdClTORNjM6V2X0bXYjq+23czgiFdlVEyRT9LPcKMRtQ1j2kK8oYDZ4X3Zxmmi6gJiEeenMBvH9vP/X2hg721zH3KHJfA47Xh6MBJMqABBeodO3bgrrvuwl133YW9e/di9erVOP/88/G3f/u35fH7eti2jVtvvRVXXXUVzjjjDADAjTfeiNNOOw133303zj333AO+/he/+AUMw8A111xTVrm+9tprccYZZ+CRRx7BS17yEnz5y1/G2WefjTe/+c0AgA996EP44x//iK9//euLKmYLVgaG6QYnRKG9EgXTcgHaHLdvTfUtI2zHQ1wXKsnVCMUWo96vMV3BTN6GYbnQ1JU5VUYaKO+WTAd33u9XKY7a0IvB3gTz96qqjOIK6NmyHT4RVtcjGJsOmqc7RHk6JPKu8Ld/+7f41re+heOPPx633XYbfv3rX+OKK65gDoQAYPv27SgWizj55JPLH8tms9iyZcuiCtcveclLcPPNNy9q9zE3NwdCCB555JEDXg8ATjrpJPz+97/n+O0EywmP+A27puOJHoqIFMxo5qyLoSoSXI8IB/s68IotLiTcoIrmyi2V2Y4Hy4nWL/Ts/nz5v3eP8Q8GUdBl/7wxbBcKx1TF2IwBj1AkYip6050VoEc+ll133XU4++yzmXzI7rjjDrzsZS9DT0/PAR8fHR0FAKxZs+aAjw8NDWH//oNTk+vXr8f69esP+NgXv/hFxGIxnHDCCcjlciiVSli9ejXT6/HSbOO9cES5kVHllUIja+XaBBQAJYDleuhbAQaKzby3QoXZRFxt2r0qyxI8QjrCzLIT34eU+htpLKY0dF2JuIqS5UJWJMhNyOp14lrVwjUpKChiusqd1XxudD4Y2jNewIlbhrm+P65pyJdspPvYM0rdBKUUtksQi7E/F/ZP+Vmh9YMpqBXTfYosAx6BrEhteyZEDobOO+88pq/zPA9bt27FD3/4w4OCIcMwAPimr5XEYjHMzc3Vfe1vfOMb+M53voOtW7diYGCgHFwt9nphT1FUZFlCX19r0nrZ7PJ8s7SCKGs1V7AQT2jIZOIgkoze3uSKEfxrxr2VL9nQYxp6M3GuU2AtCGQomtqy91QUOul9aDke9FgRmXQCMT36SHgiEUPBcBBPxJBqogVKJ61VLUoOQSoVQ0+W3/9qYTCUzfD9zpoWGOYmYy33RGsHtuNBjxeRVhXmcvf4rAkA2LSu96D1LM0ayKQT6M20x+h9SQr21WTJ43FfY8C27fJ/A4BlWUgkqt94lFJ85jOfwec//3m85z3vwdvf/nYAKGepFjZf13s9FgihyOWa24CrKDKy2QRyOQOeJ0oGtWhkrabmTBTyFjIpHRN5E/uT2rJ39G7mvTU5ZyKXN9HMyWTTcjFqWuhNqm0fr+3E92GuaGN6toTeTAyW1VgAOjtnYmRMxaqexjVdOnGtqkEpxb7ROdi2h1ze4PrembyFqTkzyKZRzOQt7Nk/i54030btUgmTUwXEGwhoO5WC4WBmxkA2rcNm9GJ7bsRPcqzqiR3wNwmfAfmCAeo2t7SYzSaYMldt3RHC8tj4+Dg2btxY/vj4+Dg2b9686Pc4joOtW7fizjvvxNVXX413vvOd5c/19vYimUxifHz8gO8ZHx8/qHQWBbdFUxmeR1r22suNKGtVMh14hECW/E04X7S5RkG7mWbcW7mCBYA2dfNTJKBkeiiWXC5Po1bSSe/DkuHAdQkoofDQ2NSdBIrZnIneJvpyddJaVcNyPBQNF7omc9+7O/fOAvCbfD2PYGSqhGf35/CCTQPMr6Eosi+PYDpQl8AGZKkxTNefVKQUnlf/HjVtF5NzfmZodX9i0b8J8Wjb7qu27gibN29GOp3Ggw8+WP5YLpfDE088geOPP37R77n66qvxP//zP7j++usPCIQAv2Hw2GOPxUMPPXTAxx988EEcd9xxzf8FBF1ByXLLaWpVkZArHizbIFgcQiiKptN0t29VkeESAttd3tM2UYkqtrgYMV1B0XThrLC1tuxoViYA8OxIDgBw2JoMNgxnAERropYgwVymE2WW43Ip0ocWHL1pHal480q2zaKtRzJd1/HmN78Z1113Hfr7+7Fu3Tpce+21WL16Nc4++2x4nofp6WlkMhnE43H86Ec/wl133YWrr74aJ554IiYmJsqvFX7NO97xDrz73e/Gli1bcPrpp+M///M/sW3bNvzbv/1bG39TQbsghMKyvfJ4ckxXULTchvRbVhKW48Fx+Byp2ZFg2i6A9vQIdCqNii0uJKYpmDVtlCwPPUtkSdEJmI4HgN/KhFKKZ4N+ocPWZmGYLh58Ygy7x/J1vvNgdE1BvmRjsCe+7PoUDU4bjk40Z62k7bvB+9//frzmNa/BRz/6UbzhDW+Aoij46le/Cl3XsX//fpx66qm46667AAB33nknAODTn/40Tj311AP+hV9z6qmn4pOf/CS++93v4sILL8Tvfvc7fOELX+Aa+RcsHxyXHKA+G9MUWLYYsWfFcjw4LZr60lQJRUP8HRbSqNjiQlbqiH2hZEfSaBqbMVAy/Wzy+lUpbBhOAwAmZk1u5XRdk/33UIeXFHnxCIHBacPRqWKLIW0v1iuKgquuugpXXXXVQZ9bv349duzYUf7/W2+9lek1L7jgAlxwwQXNukRBF2O7HlzPg6r4t3rlxpBtYg/FcsWwXMhozYlWU+WysrUQwpynFeKguiYjX7RB+pKQl2H/ykIc19+sI+kLBSWyQ1ZnoCgyUoqMgWwcUzkTe8YLOHpjL/Nr6apSNibWteWTlQttOHgyxuXMUIeJLYaIJ5BgWeM3+B2onBzTZOSKtrCDqAOlFAXDaVk5UVNlOI63Yty9WTFstymaQJXEdAWm7QVlyeWP5fgK51Gc6p/dP98vFLIxyA7tHucrlclyaEy8vDJDjkvgcthw5Io28iUHkgSs6eeXOVgKRDAkWNbYjndQrb68MYhSWU18byUPWovcvhVZhhf0dAl8KKUolJofgKqKP1FVWiH3vGm7oATcWTDPI9gVNEpvWpMtf7wcDEVpopYklBhHz7uFcPCBtQ8qzAoN9SY6NkPW1HfcxMQEHn/8cXje/MNNURR86lOfOkg5WiBYCgzr4Ca/lbYxRMUMeh2aPUlWiSxLQaOrAPADUNtpTQCqqDIKpZUxSVkyXSgR9ty9k0U4LkEqrmKoQjl6YzBRtn+yxD2V5xsTu8sqE23afJNk+zq8eRpoIBgqFovYunUrvvnNbwIA7rrrLrzsZS/Da17zGpx33nkH2F9ceOGFB6lPCwSthhAK0/EW7b1QVRn5FbIxRMW2+UwYAeCZkRxKHI26miKjUHKqCrOuNFoZgMY1BQXTLx8tZzxCUDCcSBmIsF/o0DXZA+773rSOTFIDoRR7J4pcr6lpMiyHLJt1p5SiZHpcQxVhZqjTzFkrifyOu+666/Dzn/8cfX19AIDrr78emzdvxk033QRVVXHdddc17SIFgij4nloU2iIGozFNQXEFbAyNwKt1s2P3LL71v0+Wnb5Z0DQZduB9JogWgLKiazLsFWBWbNnRA8pngn6hTRX9QoBfDtoYUW9ICzLRy8WY2PUIl34TpbSsMbQsM0O//OUv8eEPfxjnnXcetm3bhn379uFd73oXzjrrLFx22WX47W9/28zrFAi4cTwClyw+lbNSNoaouB6/1s1TgWrvM/tzIIQt06MpMmzXF8cTAEXThcqh3cKDJEmQgGUvZ2DaXtDcy7e9WbaHfUHW57CKfqGQ+b4hviZqSZJAQZfNwct2CVzXY1bxn5ozYQUZ+qHezvW0ixwMzc7OYtOmTQCA//u//4OqqjjllFMAAD09PQ0bowoEjeIEdgaLnbJXysYQFdvxYLseVzC0a7QQfC/B+AybF5QsS4Boogbgl3eKZrTyDiu6LiNv2MzBajdSshyufpaQXWN5UAr0ZWKLmoVuHPKDob0TRe71UxQZRWN5NFHbDoHH0Zwe9gutGehsWYfIwdC6devKGkD/+7//ixe/+MVIp/2b5Z577hEN04K248vFV3/zxXQZcyULHhFZiYWYtgePgPl0nS/ZmMqZ5f/fPc5eSpBlCYa9PDaKRmi22OJixDUFhu3CWKYj9oTSsh8ZL8+WS2QHZ4UAYKgvgbiuwHEJRqf5TLt1VUbJcpfFs8ZyXPBUcbuhXwhoIBh64xvfiGuuuQZ/8zd/g23btuGNb3wjAODyyy/H1772Nbz+9a9v2kUKBFEwLa+mDkZMD9WoRVZiIablcZ2uF/ZR7OEoJWiajKKxvKZtotAKscWFKIoMz/OtFJYjlu3BsiPqC42EFhyZRT8vSRI2DEUrlWmqHEhVdH8wZHCWcjtdeTok8rvuLW95C6655hqceOKJuOGGG3DOOecAAFRVxcc+9jG86U1vatpFCgS8EEph2G7NjUWRZRAK0Te0AEop8obNVSJ7LvByWt3v9wTsHi8wT4hpij9t4yyTBtOotEJscTE0VUJumU5ShvYxvNm1QsnB+Kxf2j109eLBEBBdb0gNHOy7XWCUEMplw+F6BKPT/rp2cvM00KAdx7nnnotzzz33gI/deOONDV2QQNAMQk+yWJ10eehiv2oZGilGxXb8yZdEjKdfyA+GXvL81fiv3zyHfMnBXNFGb7q+CaumyigYLizHQ0zvTEG2VkMpRbGFat+VxHQFJTNY7w4VwItKVPuYZ0f9Etnq/iSSNRzVyxNlQbDP88yQIMFyutuY2Lc3okjE2O6bsekSCKFIxFT0pjvb/ihyMHTHHXfU/RrhDyZoF45L4Hi+eFot4rqCkuXCdsiK3YgXMu8XxvZ4KBoOJuf8fqHD1/Zg9UASI5NF7BkvMAVDkiSB0uUzbROFVqt9V6KrMgqGA8Nyl1UwRClFPqJ6d6gvVK1EFrJ2IAlVkVAyXUzNmVjFMR2lLgNjYtshXM+GfcFI/bpVyY4/bEYOhj784Q8v+nFJkqAoChRFEcGQoG04LgGl9ScetGBjKFmuCIYCTMs9yM+tFruC/onhvgSScRUbh9N+MDRWwAs2DTC9hqpIKJouVkW+6u4mdDZPJVrvnS1JEhRJQtFwmILVbsEODFHrZYMXQinFM/v9e7ha83SIoshYtyqFXWMF7B4vcAVDmirDDDSQliID2Aqi2nB0eokMaCAY+uUvf3nQx0qlEv7whz/gS1/6Em6++eaGLkwgaATb8ZiS5ZIkQZIkFE0bfYuM065ECqYDdRGhymqEJbJDgl6LjUNp/O7xMa6JMk1VULIcEEI7evy2VVi2Bwr2TaZRdE1GrmRjNSFQ5O7cmBcSii2mOQPK6byFXNGGIkvlnqBabBjO+MHQWAHHHjXI/HN0VcGcZcNy2HtuOg1eG45umSQDGgiG1q1bt+jHjzzySDiOg49//OP4zne+E/nCBIJGWMyTrBpxXUGu6MDtb+0kTzfguASm7XGNJj+3IBhaH0zcjM8YMC0X8Vj9x0zo32Q5HhIMX7/cKJoulvLWi+kK8kUHhuUhnVge97zvccev3h2WyNYPpaExTKFFFV+UZQmUBOXgRPW+pE6F14bDtN1y+bwbMkMteRccddRRePzxx1vx0gJBXQilMG0XGmMwFNMUmEKNGoBfrrEd9tHkoulgYtZ/4B0SbBLphIb+rJ9l28Po46SqMhyyfPybeFgKscWFLMdJynzJjnSYeTYokR22pna/UMiGwTQkCZgt2MgV+abyJFmC2aVSHmUbDsY1Di04etM6UjWa0juFpgdDtm3jBz/4AQYG2HoFBIJm4waTZKwPxvDEtpw2hqhYtgfKUaraHahOD/UmDpjCCfVY9nCUyiQqwVyBStSWTeC2oY8knKRcDia5jktgWnwZTcAfFa8ntriQmK5gdX8SQASfMlVGwexOY+KyDQfjfTrSJfpCIZHz0S9/+csPSkcSQjAzMwPLsvChD32o4YsTCKJgB5NkyTqTZJXomoy5oo3B3kTHTz20kqLpQOYQVAubpw9ZfWCvxcahNP60c4pLfFFVJS7H++WC5XhwWiy2uBjLaZLScjxYrofeGN/49uh0CabtSwzwlHI2DqWxf6qE3eN5PH9TP/P36arsZ19d0nWTfLZDQCLYcKztgn4hoIFg6MQTT1x000in03jZy16Gl770pQ1dmEAQFd+TjP1NC/gbg2F5MO2V2bMC+Kfkoulw+pEd2C8UsiHQY9k3WYTnESZbD02VYditV2HuNMwIYosjk0UkYmpDTf+aKiO/TCYpTdvlfs8D8xYch6zOcH3vxuEMHtw2HikzVDS6U+PJclzwSDitmMzQNddc08zrEAiahuPxKxlrqoJc0YVhuSs2GLIcD47DnlErmS7GAkPWQ4YPDIYGsjEkYypKlov90yWsH6w/paMHm7MdOFyvBCilKHCKLU7nTNz60+3IpjRcdtELIk/fSZIEeZlMUhYNFxEcOPBM0Dy9qY6+0EI2DM8PCfA8M3wHe8C2PSDJ9SPbDo8NR65oI19yIEkolxQ7nYaf+r/5zW/w4IMPIpfLoa+vD8cffzxOO+20ZlybQBAJw3ShcIyGhygKUDAc9GfjLbiqzsdyPLiEME+LhNM0q3riSC2Yjgl9nHbsmcWesQJTMKQoMogHWA5BcoX8CaKILT69LwdCKWYLNvZOFMqqyFGIad0/Sel60RrQXZeUe9oOY+wXCgmHBKZzFvaMF3DUhl7m71VkoNRl/Ym8NhxhVmioN7GkgwGNEDkYsm0b733ve3HfffdBURT09fVhZmYGX/rSl3DyySfji1/8InS9s+W3BcsPGkyS8RgJhsQ1BXnD6WpRtEYwLBcSRx48LJFV83LaMOwHQ7vHC3gJ42tKkl/y6GbLAh78/hGPS2wxlDIAgO27ZxsKhuK6grmiDdPu3hF7O1jDDOe4+p6JAlyPIp3QsKqHP/reOJzBdM7C7jG+YEhTZRTN7tLU4rXh2NdF+kIhke/+z33uc/jDH/6AT3/60/jzn/+M++67D3/605/wqU99Co8++ihuueWWZl6nQMCE6xE/mIlwytU1BbbtwbC769TWDKKUa+abp6sEQxUTZazTM8vBsoAHy/YASMxN+5TSchAKANt3zTQ0mSTLEgihXZepqMS0PXgeZepLq2S+RJaNNDSxMXSwH+d1sFfgON1l2mq7oQ0HZ/N0l/QLAQ0EQ3feeScuu+wynH/++VAUP1pUVRUXXHABLrvsMtx5551Nu0iBgJX5Ny3/rS3LEijFipxo4i3XGJZbdqNe2C8UsqbCx2k6ZzG9rq4qZWuKlUDJ4hNbHJ81ULJcaKoMVZExW7AxFvwdoqJrMnKF7h2xL1lOpAwLr77QQkLxxZHJEtf9qioSXNJdXny244EyWvRQSruueRpoIBianp7Gli1bFv3cli1bMDY2FvmiBIKoOC4BodHTz7ouI1d0QLp0Y4iKGQQgrJNk4RTNQDaOdHLx8oSqyOWTIavekKbKsF2vq07NUfEICbJx7D0VzwUb+IahNI5Y5/e5bNs909B1xDR/xL4b15xQiqLhcvuRmZaL/VP+hs3bLxTSl4khndBACC1nQliQJAmg6CpNLdNmD9on50zYjn8gHeTwbms3kYOhjRs34uGHH170cw8++CDWrFkT+aIEgqjYLgFo9Dp8XFNgWm7XqsRGxbY9EMpuZVBNX2ghG8qlBLZgKCzbdNOpOSqh2CKPUGBln9bmQ/oA+KWyRtA1BY7rwejCe96yPVg2u2J6yHOjeVDqN/9nU9F6WyVJimzN0U2aWrw2HGFWaM1Asmt6ooAGgqHXv/71+NKXvoQvfelLGBkZgW3bGBkZwRe/+EV85Stfwatf/epmXqdAwIRpuVAaGF5QVRmOR1acGnXBcJgfdkD95umQcLPgEV+Uu9iygAdesUVKaTkIPXR1Bkeu74EsSZiYNTEVeEBFRZEl5Et81hKdgGnzTUCGhPpCUUtkIWHzehS9oVBTq9NxPcrVh9mNzdNAA9Nkb3jDG/DEE0/ghhtuwI033lj+OKUUF154Id797nc35QIFAlYo9S01Gh0RVlUZ+ZKNgQgTJt2I6xGULJe5RGZaLkanfd+has3TIeFI/VTOQtF0mDyKKi0LlrMaOK/Y4tiMAcPyoKsy1qxKQpFlHLomg2dGcti+ewanvCB6Nj6mKygYTtcJXho23wRkyDMjYb9QtBJZSNhEvXe8wDUd1k2aWrbrwXE9xGNs03ojE93XLwQ0EAzJsox/+7d/wzve8Q489NBDyOVy6OnpwYknnojDDz+8mdcoEDDhegSORxsei49rCoqmC8f1uPo5uhXe0eTd4wVQCvRnY8gka5cYEjEVQ70JjM8a2DNWKJd2aqGrcnBN3WdZwAPv9F7YL7RxOA1F9r/veYf0+cHQrtnGgiFNwWzRhmG5df+mnQKlFIWSw6XRBPiCgFM5E5JUP7NZj6G+BGKa3/Q/NlPCmgG2AKCbNLVCG47wnquF6xGMBkKs3TRJBjRBdPGII47AEUcc0YxrEQgawnEJXM9DgvEEUw1dk1EybZQsDz0rIBgybQ8eAfNoctmCg1HfZsNQGuOzBnaPswVDoWWB3YWWBazYjgfLIVwb+XOLWJ8cvaEXP31gF/ZNFpEr2pH7X2RZAihFyeyeYMgOxtN5m6fDEtmagRTiDarNy7KEDUMp7NyXw+6xAnMwBPiaWobtoq/DNbVsx2O24RibLoEQimRMRW+6O+6jEK474ayzzsLNN9+MzZs3L2rUWokkSfjFL37R8AUKBKw4LoFHKNMJphbhfV00HfRE3Fy6CdPywNPnyNovFLJhOI0/PDnBPFEmSRII9XtqGju3dy6W48F2XKTibBshIbTcpHtoRWknndSwYSiNPeMFbN89ixOfNxT5mjRVRq5kY6ivO8yKTceD6xKkOQQrgfmRel4LjmpsHM6Ug6GTtgwzf58f9Hd+E7VhORz6Qn75fO1gqivuoUq47qITTzwRqVSq/N/d9ssKlje2SyJ0DyyOrsvIF22Qvu6aiOCFUoq8YTP3C1m2h/2M/UIhYV/F/qkSs7q3ovjeZ+hh+hFdh+V4oJRdbHFsxndX1zUZaxZ4PW3e2BsEQzMNBUPdZlZsWi6z9k0IpbQstthov1BI5UQZT5+bpsqwHNLR5XhfkJO9r6kb9YVCuO74T33qU+X/Fkatgk7DtN2mBS6hNYdhu0xNv92KFZRrEjFGfaGgX6gvE2MuyfSkdWSSGvIlByOTRaYgSldllExf74nX0b0bKJl8xqJhv9Ahwwe7q28+pA93/34vdo3mUTIdJCPer91mVlwwHGga370xOWf6k5OKhA0MfnksrF2VgiJLKAbioqyDF5oqo2jZfrm0Q4MhbhuOie5Tng6JXE941ateha985StCXFHQEfiTZF4kG47FCBscDXN5j9hbDp9i965F+lbqEZq2Aux6Q5qqwHaXp94QIZRfbLFGabIvE8Pq/gQoBZ7cM9fQtYVmxZ2O4/oZLF59obBfaMNQmnscvxqqIpfHyHn0hsI+LauDxRd5bDhMy8VUzpd4WLeqO5zqK4l8Nxx++OG46aab8LKXvQxvf/vbcccdd6BYZFfhFAiaSaiF0cwxVVWVkOtC7RUeTMsFOEoN883TfKfqsk8Z42ahKhJcj8ByOl+HhRcr6HVhFVv0+4X8ILJaEHr0xkCAsQlq1OGIfSdj2h4sl91FPSQcqd+0tjklshDeYD9EliQYducGn45DmJ8PI1N++bwvE4ucnWwnkXeO//iP/8D999+PT37yk9B1HR/96Edx6qmn4sorr8S9994LQjr7zSRYXjicRoIsxHQFJbM7bQpYKZgOVJVtzSzHw0hgYcCTGQIqxBfHi0weWP7Dd3lmhspCgYyB+/7pEizHQ1xXsLp/8RP384Ipvaf35Rq6X2OaAsv2Ot641bI9gIKrLE7IvMlts/qFQiKLL2r+5GSn2v8YtgOJMUroRnPWSho6RieTSVxwwQX40pe+hN/85je4+uqrMTk5ife+9704/fTTm3WNAkFdHNffYHidq2uhqzIs11u2atSOS2BaHnOGYk/QL9Sb1tGb5hsHHu5L+uvpeBifZTMWVZTumLbhxeQUCgw38I2L9AuFDPbG0Z+NwSMUT++LXiqTZQkUnW9WXDAcKJwHn5HJYt2gMiobhvwAYCZvcSl5a0rQRN2hGdCSyZ59mxdb7L4SGdBgMFTJ+Pg4xsbGMD09Ddd1MTg42KyXFgjq4rh+OreZSJIERZJQMJZnqcwKxBZZ+y6i9AuFyLJU7qvYw3h61lUZJcuFt8yyzL71CftG/lzQ53JoDR84SZKwOSiVbds129D16WpnmxXzKqaHPLN/foqs2ROicV3F6n7flJQnO6SpclAO7rwMqOMSZhsOSunKzgw999xzuPnmm3HeeefhggsuwI9//GOcfvrp+MlPfoIf//jHzbpGgaAuhu1CacEIvK4pyBWdZbchA36pgXJYCPCKLS4kLCXwONi7LoHdoafmKIRiizqjmGRlv9Chq2uXdjYf0gsAeGrvbEM9PzHdNyvu1MZeX6OJPaMZEuoLNepHVo0opTJJkkAp7dBgyIPjeUyBe77koGA4kCTfoLUbiTw/eeGFF2L79u1IJBI4++yz8ZGPfAQnn3yy0B4StAXDYndV5iGm+6dkw/KQTnS2hxAvRdOBzFhqsB0PI5N8+kILKTeZMm4WqiLDIf6puRtGvVkIxRaTMbYy48hUEbZLENcVDAeZh2qsW5UqSxg8uz+HI9f3RrpGTZWRC8yKO3HdLdvjFle1HQ97gyD8sCY3T4dsHE7joW3jERzs/XLwYG/tv+9SYzkEnse2zmFWaKg30bEyAfWIfKf39/fj3//933H22WcjkeisP6JgZeF7kjW3eTpEkeVAeMxFmtG7qxsghKJoOsylhj0TBRBK0ZPSI8vsrx9MQZKAuaLNbB0hQYJpu0CHWxawEootsmbjyvpCqzN1D5p+qawXD2+fwPZds5GDIcCf5ssVbfRnO884q2g63Fng3eMFeMS/f/szrbmXwmB/bMaAabtIJdjeJ5Xl4EbV85uJ7XjMyY1QX6jbnOoribzyX/3qV3H++ecjkUggn8/j6aefhm3b8LzOS/cJlje2Q+Ay1rajoGsycgWbaQqqW7AcD45DOPqF5ke7o2Z/dW2+cZW9VCahaCyfBnZesUVe65PQ+23H7lkQEv1+jWkKipbr9+J1EKFGE3+JLOwXin7/1iOT1NEXBFp7xtllZjSlM8vBhuUyHzBHurxfCGiwZ+jBBx/Ea1/7Wpx44ol41atehaeeegpXXnmlUKcWLCmOF3iStSgYimkKStbyGrG3nGC8mzEz1EjzdCW8pTJNlX0Pqg7XvWGBV2zRI6SsW8MaDB0ynEEi5t+vvJo3lcR0f8S+0yYpeYP4kGcDfaFWlchCKq05WFHV+XJwp0AIhWG7TPIPlNKy5EY32nCERN49HnjgAbzzne9EPB7HBz/4wfKpecuWLfjGN76B2267rWkXKRDUwnG9lmZtdE2B43owrM55WDWKYbGPdzuuV+4J4BVbXMi83hB7MOQ4XkdtFFEpiy2yjipP+l5uiZiKoT62VgRZlnDUhl4AwPZd0QUYK82KOwnT9vySOEd/YMl0MBr46TVbX2ghUfWG5svBnYHtenBcCo2heXpyzoTt+J6Dndb3xENDootnnXUWvvnNb+Jtb3tbeTN697vfjUsuuQS333570y5SIKiFWWeSjFLqm342gCJLXPohnQylYYaC7e2/d6IIQiiySa1cBojKfF9FiSnAUWQZHkXHlRCiUBZbZFz3SgsOntJOWCrbvnu2oUOCrsnIFe2OGrE3bJfbqy5cx6HeRMv7/sJgf2SyyFVi7LRy8LwNR/17NSyRrRnoblPryMHQtm3b8OpXvxrAwVLdp5xyCvbt29fYlQkEjBh1XJUfe2Ya133vUTzy5ETknxHTu8OmgAXHJbBsDxpj38Vzo+xNvPXIJP0GbEqBvRNsp2cJfsq+2+EVWwz1hXhLk4evyfoTYUUb+wOLhCjEAzVqs0MyopRSFEoO830bUnapX9uakfpK+jMxpOIqPELLQQILnVYO5rHhaIa+ECEUsgS0cxg9cjCUyWQwMbH45rJ//35kMq2/8QQC1yOw3dqTZE/umQUA/H57A8GQpsByOq+HIgqm48HmKNc0q18opKw3xCy+qKBoOF3fwM4jtuh5pNyEy9ovFKKqMo5c3wMA2NZAqUxVZTjBiH0nYDskMGeNqi/U2hIZ4AcP4f0dvm9Y6LRysGV7zDYc88rT0YMh2/UQ0xXE9fZJOUQOhs466yzceOONeOyxx8ofkyQJo6Oj+MIXvoAzzzyzGdcnENTEcQk8t3bpYXzGt38YnS5hJm9F+jmyLDWl3NYJ2LbfY8Vy6nNcUh6bbVYwxO1gr/mWBZ1yao6C4/KJLe6bLML1CJJxFYO9/OPtmzf2AvCnyhpBVWXkS9HeM80mzJzwmLPO5i3M5C1IUvPu33pEaaJWZBke6RwH+4LpME3nui7BaPB8bSQYsmwPqYTGbbzbTCL/5CuvvBIDAwN43eteVw58rrjiCvz1X/81JEnCFVdc0axrFAiq4rjBJFmVWrXrEkzlzPL/N+LqrasK5ordP2LvZyjY3vr7Jnx9lnRCa5o+SxgM7ZsoMil7a4oMOwgmuhXT9q1PWOUfovYLhRy5vheKLGFyzsQEoxfcYsQ0GUXTg+O2f5M2LZe5dBMSjtSvH0wjxhiINsp8MFTgkjeQZakjSpJlGw6GZ8ToTAmEUCTjKnoi6o8BCDSg2qslFjkY6unpwe23345/+Zd/wQknnICXvvSlOProo3HVVVfhRz/6Efr7+5t5nQLBotiuB4rqD8iJOROVscv2BnybQpsCs0NOb1Hg9XVqdFNejMHeOOK6AsclGJuuv1HLsgR00Kk5CpbjgRJ2l/XnOPWFFhLTlfIYeSNTZTFNge14KHXAJl0wHGga3z34TIstOBZjuC8JXfNNifdz9g0VzPaXg3lsOMK+qHWrUpGfDx4hkCQJiXh71c4jB0Mf+9jH8Pjjj+N1r3sdbrjhBtx66634zGc+gze96U1citSEEHz2s5/Faaedhhe96EW4+OKLsWvXLqbve+c734nPfe5zB33u5S9/OY4++ugD/n3wgx/k+v0E3YFtk5pNd+GpuD8biqEVIk+FaR3WQxEFu2zOytgvNDYvttgsJEni1huSZQmG3Vlj3jyUTBcKY2LC9UjZOqKRdQ9LZdsbKJV1yoi943owbHZTYcBvuC6LLbZYX6gSWZawYdC/v58emWP+Pk2VYTte24UubZeAMNqdhCX0Rpqnbce3m0m22folcjD0k5/8BKZp1v/COtxyyy343ve+h0984hP4/ve/D0mS8K53vQu2XX3DMk0TV111Fe67776DPlcoFDAyMoIvfvGLuO+++8r//vmf/7nha20Fjus1pBS70inVUUkdm/GnaQ5fmy3XtBvpowhtCroV0/Z8vyHGfoB9E80PhoD5UhmP3lDRcNt+ao7CvPUJ20a+d6II1/NLk6t6otthHL2hF5IE7J8qYbYQve9H12Tki3Zbn1OG7cHhNGcdnzFQMl1oqoz1jfSzRGhqDktlz+xjD4Z0NSwHtzcLZzseQPmUp5vRL9Qq0VxWIv/0F7zgBbj33nsb+uG2bePWW2/F5ZdfjjPOOAObN2/GjTfeiLGxMdx9992Lfs8jjzyCCy+8EH/605+QzR4c7T/55JOglOLYY4/F4OBg+V+nTrftHStgci56TX8l40+S1e7DCJunh/qSZVfvRk7KMb0zbQpYMS2PuVTjN/FSpOIqBrLNredXii+yBDia6jdRd6Pe0LxqMv/0XiOlyVRCw8Yg6GzkABDTFZi211ZRQMv2QBib/kOeCaUJhtORN1rb8TBXsP1+JQ7CibJn9s0xB/C+g73U9mCoZLpMJTLDcjGV84PstauiO9V7FMh0gO9j5LzU0UcfjW9+85v4+c9/jiOOOAIDAwMHfF6SJHzyk5+s+Rrbt29HsVjEySefXP5YNpvFli1b8PDDD+Pcc8896Ht+85vf4Oyzz8a73/1unH/++Qd9fseOHRgcHFw0UOpEXEIwNWcim9SZBK4E8ziu70mWrFFrng+GEkjGVfzyD/vw3P58ZEfumKZgJm/DsFxoavSGwXZAKEXesDlKZM3TF1rI2oEUFFlCwXAwW7DrijlqqoyC4cIKRnC7Ccvx4PCILQabeNR+oUo2H9KHXWMFbNs1g5O2DEd6DVWR4QW9Ztl0e5pci4bNpToNVIzUN1AiM20PmaQGy/EQ53herFuVKgu1Tuct9DKYEgOAovjBCHqiXnFjEMpuwxFacPRlYkjGowUzrkugyVJbR+pDIl/B3XffjaGhIQDAzp07sXPnzgM+z/LwHB0dBQCsWbPmgI8PDQ1h//79i37PBz7wgZqv+eSTTyKZTOLyyy/HH//4R/T39+Oiiy7CW9/6VsgNOgLzvhnrEZ5WSpaHkuV2pEN0pxCuVeUJj1oAkQBdVxa93wzLRb7k9zqsHkghrisY7ktgbMbAzn05vPjIVRGvRYLpeuhv4xhoPRZbL9N24RGKeFxlOimH5qyHrc02PYWtKDLWrkphz3gBeyeKWMUg4y/LEjxCW/Y+bFWa3gmUfFle33EJ9gZ9GJvWNb7uWw7rx88f2oM9YwUYthdZgVmPqSiabsvXajFcj8AKbElYf67rEewOMmxHrOuNfL2EUqSTOqbmTK7XUBQZ6wbT2D2Wx97xAgaOYHvWxGMqTMeDrEjcStvNwLI9UArEYkrd33f/VDBSP5iKvL6m7SGZ0JBK+vdlO0tlkYOhX/3qVw3/cMPwF1PXD4yaY7EY5ubYa62VPPXUU8jn8zjnnHNw2WWX4fe//z2uu+46zM3N1Q2kaiHLEvr6mm9CNzZnQtEU2ATI9iRr2koIgGx2ftN0ICGdiqMnu/hGOjE3C8A/uQwN+OWCFx81hJ8/uAtP7Z3D6cduiHQNkqKASjJ6ejpffr5yvWbyJvS4joGeeN3DiuuSskL08w8fRDbTfM+hIzb0Ys94AfunDZzO8PoelaBoWkveh8CBa9VMRmdN9PUmkWUYHX5qz0wwZqzjsHV9DWfkspkE1g+lsXe8gN3jRZz8/DX1v2kRdF2D7XmIJfxndavWajHyJRtaTEdvSmfeLJ/eNwvbJUgnNBxxSH+kwMJ1CVxIWLc6Cw8yEpw6OEds6MXusTz2TZZw2l+xrVc8rsOwXCRT8UiZ60aZK1iIJTT0ZxN11yzMuh++vi/y88EmwNpVafT2+GW2pbyvFtLwahcKBTz66KPI5XIYGBjAi170IsTjbBmO8Ots2z7geyzL4ppIq+S2226DZVlIp/3N7+ijj0axWMTnP/95XH755ZGzQ4RQ5HLRpe0XI3xjS4Rg31gOCVVCT5vS0J2OosjIZhPI5Qx4gfjexGQRxaKJWJWqyTP7ZgEAg70J5PL+G3dTIMm/fdc0JqYLkbRHXI9gZs5Fb1JFKmJ6uNUstl6j00UUikbV9apk12gejkuQiqtIaFJ5/ZrJ6sB89Om9s0yvb1kORicc9CaUpgahi61Vs7BdDxNTBaiqghyDptLjT08CADauziBfaHxABfAbqfeOF/DI9jFsCfrmeKGUYjpnYSyTx8a1vS1Zq2pMzpnI5QxoEnsD9192+mrzh67OoBBxHQuGLzwoEw+u7WDCsLgya+sG/A1+5x62+xuoWOdxrS17weSciXzegl7n/UUpLZdzV2X1SM8HSinyeQteNoZczmjZezCbTTAF0ZGDIUopPv3pT+Nb3/oWHGd+7DKRSOB973sfLrnkkrqvEZbHxsfHsXHjxvLHx8fHsXnz5kjXpWkaNO3AG/aoo45CqVTC3Nwc+vr6Ir0u4J8UWgUlFBMzJSRjatP7M5YTnkfKf4d80YYsoeqbZyzwZRrsjZe/ZlU2hr5MDDN5C0/unsGWQ/n1sCQAju0iX7QR4xj1bQeV6zVXsCFDYnrYPBuMBG8czgRTRM2fJFoXNF1OzBrIF+2avV8AoEgSSqaLouG05NRcuVbNolhyYNgeejWFbd0rmn6btSkcvaEHv/zDXjw9kkPRsCP3Z1BCkQum0lqxVtXwfyblWo+n9wV9V2sykdfRMF30DiQBCiTjKsamSkhw9KutG0xBAjCVMzGXt5BOsgVShBAUTbctB61Sydc5qrdmuaKNguFAkoChiucrD7bjQZYkqMr8M2kp76uFRC7Q3Xzzzfj617+ON7zhDfjWt76Fn/3sZ/jWt76FV7/61bjxxhvxgx/8oO5rbN68Gel0Gg8++GD5Y7lcDk888QSOP/547msihODlL385Pv/5zx/w8cceewyrVq1qKBBqNamEhrmig+IysHtYCjxCYDm1DVrHZv1gaLhvPssoSdL8VFkDAoy+TUH3jNg7LoFpsY8mh/pCzWjirUYyPj86vofBtFVRJDge8Ud/uwQesUXH9cr9Qs1c91W9CazqiYMQip17o7UfAICuy8iVbHhLOGLPK0sA+Gse6t9siuhHRgiFBP+5DACpmAoKcEk7JGIq1gQj57vH2a05VEVGyWjPs6VosdlwhOasw30JaBEPhLZDkIgpS6YMXo/Ix6sf/vCHeM973nNAH85hhx2G448/HslkErfddhte97rX1XwNXdfx5je/Gddddx36+/uxbt06XHvttVi9ejXOPvtseJ6H6elpZDIZptKbLMt45Stfia985Ss49NBDccwxx+CBBx7AV77yFXzkIx+J+qsuCZrqe9PMFszITY4rCcclcD2KRJWaD6UUEzN+enyo78Cxz+dt7MMDfxnDk3tn4QbNrbzENAVF04PteMx+U+3ECsQWe2L1p1o8Qsr6P7z6QqbtwnIIehinZzYMpTE5Z2LPWAFHb+it+bWSJEGCBKuLZA14xBb3jBdBCEU2qdWdruNl8yG9uO/Po9i2axbP3zRQ/xsWIa4pKFkejCUUYDRtX5YgmWDfqnaN5kEoRV8mht6I62g5/tRiKAQYj6mBDhDh2rw3revByGQRu8cKzFloTZVRsjx4hDAJHzYLx/WlK1jG6psltriqt37/4lIReaVnZ2dx3HHHLfq5k046qeo02ELe//734zWveQ0++tGP4g1veAMURcFXv/pV6LqO/fv349RTT8Vdd93FfF1XXnklLrnkElx//fU455xzcNttt+EjH/lI3cCsE0jF1fLYtqA2tkuCQGbxN9Jc0Ybl+Jo6Az0HPhDXDaaQSWqwHVIuS/Cia75abLf8rSzbAyWUKUMxMlmCE0zv8JqEGqYHzyPMAn284ouqKqHYJRk53qxG2YJjTbbpG8TmjX5WfOe+ucgaWYoiwwtKOEuF5XhwPcp1YCmrTjdgwWEGk3fhz41pChIxldsSZtNaf0ae9f4GAqV7l8CylzboD204WJrEGxVbpJQCEpCMdc7BP3Jm6OSTT8Z///d/49RTTz3oc/fcc0/VQGkhiqLgqquuwlVXXXXQ59avX48dO3ZU/d7FJtpUVcWll16KSy+9lOnndxIxXUHecDBbtNoySdBN+HXl6iJs4aTDqp74QacrSZKweWMvHt4+ge27ZnHk+l7un+9nKYCi4XZF03vRdCDXUOquZF70L821KYclhLiuwnI8pns4FF8cmSzCdetr8WiqDMP2Imf0lpJQbLFeL1TIc6NBv1ALSpNrBpLoSemYK9p4ZiSHowOrDl40VcFs3sRQk0U4q2GYLniTI2V9oYglMkopKKXIJA/MbmZTOreS92Hr/GBodLoEy2bTyFIV2ZcTcDzme6cZsNpwEELLGkNrB6MFQ7ZDoGsK4h2kGRb5aXL++efjnnvuwcUXX4wf//jH+O1vf4uf/vSnuPLKK/Htb38bJ510Eu64447yPwEbyZiKmZzVVX0R7aCeSmul2OJibD7EPynv2D0b2WYgpsuYK1lMzuvtZD5DwamAPMy3KdsOgcZ5gu7LxJCKq/AqHrC10INTczcoUfOILdqOh5EJv8etFX1a4QEAaNy4tWg4S6KSHIqE8oyzF0pO+b0fNTPkO7Yf7JWViKmQZYnredGb9gc2KGXriwuRJQnWEit+2y5hsuGYypn+e12VMdgTberbPywpHdViEDnsvOKKKwAA999/P+6///6DPn/DDTeU/1uSJFxwwQVRf9SKIhFTMJ2zkCvZWBXxRlsJlCy35kOyHAxVEfM7ZDiDRExByXKxeyyPQyOcImO6gnzRgWF5SCc6N0vBk6HwCMHu8WjN06bjoSepIZvSMZ1jO0FLkoQNw2ls3zWLPeOFso1BNZQ2nZqjYFouZLBl1vaMF0Cory/U7H6hkKMP6cOD28bx5N7ZyP0ooRu7Ybot7220HQ+WQ5CIcZTIguza6v5kZFXksES2MIsT1/1mX9asZ8jG4TRm8hZ2jxVwxDo2aWlVlVAwljYYKhkOFI5+oTUD0XXWHJcgm+wsBf/IT5Nf/vKXzbwOQYAkSYhpCqbmTPSmYx1fCmgHhFBYdu1JsnqZIVmWcPSGXjy6cwrbd89GCoYUWQahvtJ1Jze9m7YHlzFDsX8q7BdSqq5dNVyXIJ3UkYip0BQpOGHX/5kbh+aDIRbmT82dXZ4sGGweT0BFv1ALp/c2DqWRjKsomS52jRawKYJNhSRJkCRfg6fV97xVLoeyb1PzJbLo6+i6BNlFBgBURUY6oWE6Z3IFQ4eszuBPO6ewe4x9okxX/aCL9T3UKKENB8skWaP9QoRQSLLUca0gkVd53bp1TP/WrFmDt771rXjqqaeaed3LmmRcRcFwylYSggMJJ8mqBUOeRzA550+SDdfY0MNS2bZdM5Hd0EMX+052UzdtFxJjhiIskW0c5vMjC3t4kjEVcV1BPKYyl1I2BNkgVtNWVZU6XoLCcT2YjsfePL0/bJ5uXTAUHgAAYPvu6KWyuK4GI/atLVUaQZmI9T6klOLZkaB5OqIfmesRKMF9vBjphAZeSZ2w3LxvogiX8Zu1JXawdxwCx6XQWDJDYTAUsV/IcjzEO6xfCGggGGKFUop9+/bBtrtjAqQTkGUJqipjas4E6eBNtl3YrgfX86pOkk3m/HWLacqiJ7yQTWuy0FUZ+ZJTPu3wEtf9Ulun9rBQSn0l3Rb3C1m25wdBui8amk1pzGuyuj/hN0ZbXjmIrYWu+i7qUaeilgLLIbBdtskcy/HK/VKtaJ6uJNTY2rF7NnIAnwhc7A2rtRt1oeQybc4hM3kLc0UbiixhYzClyIsZ3sdVgqHKrCcrAz3x+b44xudM2Ju0VL2j88/U2ver6xKMTftZ96hj9bZz4KRep9BZVyMok46ryBs2CiI7dBCOSwBa/cRYWSKrdapUVRlHrvdr+NsiCjD6Y7C+0W4n4o/oetAYxBYJoeV+Id5N2XYIMim93EMQjsyybLiKLJdT7iylsqU+NUfBtF2AUWxx91gBlAK9aR29LZ5MPGxNFrrmHwDC3g9eFEUGIbSlshK2E2TWOBpsnwmyQusHU5Ebc22boCetV/XlinFmPYH5vjiAb8RelqUlk+6wndrP1JDR6RIIpUjGVWYtsYW4Hu1IGyMRDHUoiiJDgoSZvNnRJZh2YDtezTdtvebpSsJS2faIpTK/h0JC0ezMzKdpe7BdwjRJtn+6BNshiOtKzfLiQsJ1q3zAhcqyrNmhUG9o91j9zUKWJdAlPDVHoWS6kBn3410V+kKtRlVkHBVISWzfPRv5dTRVbml52HQCQVOOfplyv1DEEhkhFJKEmo3XMmfWM2Qjx/0doqsyCoazJM9/y/YgMQTu+yr6haJoYXkegaJIVcVy24kIhjqYVELBXMHu2KxDuzAsF0oNzZx6zdOVHLG+B4osYTpvYWI2mqFjXFeQKzrM/QBLiWV7oLS6HlMl8/1Caa4pkfJIfUUPgKYqSMUVjr4hvpOzJEswW1ymiQqvlEGoL9TK5ulK5u1oovfKxVpcHua5bwF/zcN1jKovtFB1uho8Wc+QjZx9cUCYASX+yHuLYbXhCMt8UUtkluMhpimR/fFaiQiGOhhNVeB6FLN5PqGv5QwhFEaDk2SVxDQFh6/zH57bIuqvxDQFZoeqURdMm2mKDKgUW+QfqU/HD9YMSSd1ZtPFDYNpSJLf98Hi+aapMgrm0pyaeQmlDFiap03bxf6p1ukLLcYR6+YPAOOz/G7jAAJritaVhwslPn2h0ekSjMB7L+qUk2l7yKbq97KEWU+eUtnq/iR0VYZpe+XnUz3KStQtzoC6nh9wMdlwNDhJZjkEmaQWeSS/lYhgqMNJJhTM5C2/B0FQniSr1lhp2i7miv5myjoaHloVRBWjC8s2nRYMuR5ByXSZMhSE0HIKn7d5OhypX0gipkKucKSuRUxXymVNluyQrvp2KJ3YRM0jthj2C/VnYjWb/ZuJXnEAiGpWLEkS5BaVh12PoGTzlsjC7Fo20kZLKQWhFKl4/b/BfNaT/d6TZQnrOUtlkiSBUgqb0wKEF9shcFyvbmbIsNyyfljUzBAhbGvcDkQw1OGE1gZzhc7sSVlqbDfQzKnyxg1LXZmkxqxjcdSGXkgSMDZjYDoXrVSmazLmOmzE3rQ9X/aeYVMZmymVU9ir+5N1vz6kcqR+IZUidSxs5CiVdXITNY+UwXMRs3GN0ugBAPAzoq0oD/v3LV/zdKP6QrZLEFMVZiHPdFKHxxmIh/c3j96Qqkgtb5OwXQ8eoVDqBEPhxGNfJhZJ8NRxCTRF7riR+hARDHUBiZiCqZzZkafgpcZxCUDqe5LxCAYm42q5RBG1qTSuKzAsD2aLT3E8mJbL9JAD5jdl3n6hypH6hSiyjExSYz5Bl01bGU7O/qlZ6shgiGckfL55emmDocoDwEzEMnxc9wPdZt/zPKbCgJ+ZDAOMKEKS4c9MxlVmR3qerGdIuYmaq29IQdF0IlsGsWC7BBKDDcfIRGMlMtvxEI+pTP5s7aDlwZAkSVi7di10vTNTY91AIqaiZLnIFUV2qP4kmd9/waueXDlVFgVNVeC4pKNKZUXTAevAx67R5ozULyQV18vGl/UIxRf9qbb6G6yi+FNbnQSP2KJpLX2/UEgyrpb/1o2UhwmhTc9c8JgKA77nl+tRpBMaVvXEI/1Mp4rqdDV4s56AL1IoyxLyJQezjJl+XZXhOK3tGzJMl82GY9K/V6PrCxGkk1pV2YJ203AwdM899+BTn/oU/uEf/gF79uzB//7v/2Lfvn3zP0CW8atf/QpHHnlkoz9qxeJbdMiYypkdbwraagy79iTZWJAZGu5jL/UAKJtY7p0oMjXwLoai+DYFnQChFPmizVRq8PuF+Ms1i43ULyQRU6AqClNWsyeloyelg9L5Rs1a6KoMw3I7SpiUR2xxV5ABG8jGDnJIXwqeF5TKtjWgRq1rMuYKVtPKwx4hKBgOs3I3MN8vdNgaPtX0EDco34RTYiwosoxsUufqG9JUBWsG/OcSa6lMUSQ4hLRMRoJQCsNyoNUJPiml2BcYzUZRnqaUggJIdZgFRyWRgyHDMHDxxRfjPe95D/7zP/8T//M//4NcLofvfve7uOiii4T9RpNJxTUUV7hFhy/0Vn2SjFLKpTFUSSapY33wJo9cKtMU5A2nI8qZtuPBsv3pmnqMzxgwg69dw9EvtNhI/UJimoJEjGPEnqPJVFNlP/jooFIZj9jivB8Zf2nH80jDPWpHhweA8egHgJjml4eblbmwbALHJUz3bcgzI42VyMygfBPn1L5JxjUQxqxnyHzfEHsTtUSllpXfHYfAdmnd4D1XclA0XUgSuHoKyz8n8FirpuzdCUQOhm644QY8/vjj+NrXvobf/e535Rvi05/+NIaHh/GZz3ymaRcp8B+usgxMr2CLDtv14Lqkqg1HvuTAtD1IErCqlz9d3mipTNcU2LZX9lRqJ1YgtsiiHVLuFxri6xeqNlJfiSRJyCZ15gCRR29IVWR4HukoKxQ+sUU/oxGleboU9IM1EoRkU3q5/2NHxAOArilw3OZZc1iOV9N3cCF+qdHPIkbVF7Idf6Set3yTiCnQGLOeIaHeEI/4ou/F15pDMKsNR9gvNNyXjGQcazkeErrKNSG41ES+sp/97Ge44oorcPLJJx+QmhwcHMSll16KP/zhD025QME8qYSGXMlGsUNKMUuNP1ZffZIszAoNZOORfG/CUtlzo/lIvSiyLIFSoNSiBxcPfkDGKLYYoUQGAF6VkfqFJOIqJEhMTaBhZmjveKHu10uSBEIbCwiaCY/YomG5GA08nqL0C9kORU9Sh2k1FgiWBRgbUKNWZClyZmkhJdOBzPHWfW40D0r993wUaQJCKCBJkewheLOewHwT9VTOZH6Oh/pErRB1DQO5es+JRvWFHNfXF4pSxlwqIgdDuVwO69atW/RzPT09KJVKkS9KsDiqIoNSRJ7+6HZsxwOl1UsQoYAcb/N0SH82juG+BCgFntwzG+k1dF1Grui0PXtXMFxoDH0XlEbrF6rn7l1JQleh6wpTOWuoN+HbeLik3P9VC1WVO+ZwwCO2GE6RreqJI53k24j9tfeboCmlDU0ahdnQ5/bnIzf/x3QFBaPxEXsSmApHs+CI1oBu2r6DOqsMRyW8WU/AH4YJS/i7GdXWNc2XkWhFOdi0ag+khITB0NqI/UISJCQijOMvJZGDoSOPPBI/+clPFv2caJhuHamEitmC3XFTNEuBVaduHmWsfiHlUlnEptK4psC03LZaRTgugWm5TGPC4zMGDMtv+A2bO1moNVK/EE2VkWI0t/TF6dhNW3VVDkpG7S+V8YgtzvcL8W/ilu2XHFb1xBELHOSjMpCNY6g3AUIpnto7F+k1mqXAbjseLIevXyhsnt7UYIksqoM6T9YzhFdvSJFleB64mrVZKVpO1baDEEIo9jeQGbICzahavYWdQORg6NJLL8V//dd/4T3veQ9uv/12SJKEhx9+GB//+Mfx3e9+F5dcckkzr1MQENboV6JFR8l0oNTYaMKxeh6T0YU8LwiGnt6Xi1R+UVUZjtfeEXvLCcQWGYKhsES2YSgNhaM+UW+kfiGZpA7XY9sw5vWG6m8WmirDdTujbyiK2GIUfSHLJuhJ6dBUBb2ZWMOBd1gqi2pHI8sSQGnDBzTT9uAw9K+E5Io2JudMSFK0vitKKTxKkU5En+TjyXqGlMVFOfqGZAlN70UMbTjq9QBNzpnlr4siXWA7BKm4wpSpbieRg6FXvOIVuPbaa7Fjxw587GMfA6UU11xzDf7nf/4HH/vYx/DXf/3XzbxOQQXJuIrpglU3U7KcIJSiZHlVTzGE0LL69BDnWH0lg71x9Gdj8AjFzognZVWVkS+1L1i1bA+EUihcE03NHalfiD9iLzOVUnjE6VRFhkNa79/EQtFgE1ssmU45i8lrfVJ2Vk/4a59JaJBkNJQZC9Won96Xi1yK0VWl4ek20/KDSda+kjArtGYgGanMZTu+6nSU7w3RVBnpOFvWM4RXTyv8OcUmO9jbDinLCtQiNGddM5CMZHXiuI0FnEtFQ0W8V73qVXjVq16FZ555BrOzs8hms9i0aRNkng44ATdxXcF0zsJc0cKQHn3j7yZcl8B1q58afQ0mf0S0Nx39jSdJEjZv7MP9fxnF9l0zOOawfu7XiGsKiqbn+/204TRUNB2mQIhSit0RxBZZRuoXEtfVsmJxvZP/usEUZMkXp5sr2uhNx2p+vQQp8O6r/XWtxHF9JWa2fiF/zQd740gl+PqFFjqrp+IaUnENhuUhnYj23B3uT6A3rWO2YOPpkVw5O8pDTJfLCuxRggtKKfKGw6zcDVRacEQfqe9Jasyq09XIJHVMzrHb+IR6WnNFG3smCjh8bU/d79E0X0bC9UjTnilOYG1UT6G+keZpjxAoMjp6pD6koajlv//7v/GRj3wEmzZtwrHHHovZ2Vm8+tWvxt13392s6xMsgiRJiMcUTM6ZLZkw6ERsl5S9bRajUl+o0YmF5wVlg6f2zjG7rleia76JaKkNfUPhRJPG0HcxMWuiZLnQVBlrOfqFWEbqFyLLEjIJHbZdfz01VcHq4HpYSgmaKqHY5h46yyGwGMUWnxudNxXl/jkLnNVlWUJvWofFsK7VkCSp7Qrstktg2R5zYEIprRBbjBYMuS5BJtl4AB3XVWiMWc8QXr0hTQm9+Jr3vLdcAjAkmsLMUBSxxbBc36l+ZJVEDoZ+9KMf4eqrr4ZhzE98DAwMYP369fjABz4gAqIWk4ypMFaQRYfjEpBak2RNaJ4OWbsqhWxSg+0SPBM8cHkIg7FWaYPUIspE0/rBFJN/WQjrSP1CkgkVBGwidVymrUrrRo9ZsWwPYPTTito8TSmFRw4uOaQTOjRFakjsM5SVeHLPHJffViWNKLCXdbEYJ8km50zkS37zb1hW5SE8WEUxHF1IPKYgpnOO2HPqDcmyBBDa1NYIw3TrNvu7LsFYIAERxYbDcjykE9Eb1JeSyFd466234pJLLsENN9xQ/thhhx2Gz33uc3jHO96BW265pSkXKFgcSZKgazIm58yWmvh1Co7rodYxppnBUDNOyrouI1+0l/xvY9p+6pvNDoJ/U+YZqV9IIqZCV9lE6jZU9A3VQ9NkOC0aPWaF1U+raDjl3rZDVvNt4rZDENPVg9Y+EVOQSmgNNe1vGEojndBgOR6eHWV3Va8kpkUfsTcdzx/B5uwX2jCUZpreW4hlN880VJYkZFJsWc+QMNjfN1FgDj5lWYJhN+eAxWrDMTpdAqEUqbiKngg6Tl7gGdcNRA6G9uzZg1NPPXXRz5166ql49tlnI1+UgI1kXEXBcJomeNbJlEy35umiUY2hhYQn5R17ZiMFNHFNgWG7S65GzTrRRCktZ4Z4+oUsh32kfiG66gdRLCfoMBganzFg1tnkWzl6zAKP2GIYgA73JZDkFPozbRfpuHpQeVKSJPSmY3BcErnBVpIkHL2hFwCwY9dspNeIaQos24tk3Foo2VzKxs+ONNYvZDkeelJ600xDUzEVFGBe/1U9cSRjKlyPls1666FpMopGc7z4HJfAYVD6LusLrUpxtx+4np99i/KsaAeRg6GhoSH8+c9/XvRzTzzxBPr6+JvwBHwosuxbdOTNpk4ZdBqUUpi2V7VfyHa8shBls4KhjcOZoBTplTcwHhRFBvH8VPRSQQPROpZNZXLORNF0oSoSV/rbtvlG6iuRJAnZlM40Bp9OaOjP+v0ceybqm7a2YvSYlbA0ydLY+tz+aGrfAOB6tKrKcjqh+XYwjZTKymrUM5EOAFEV2B2XwGD00QP84DMsNUbxIyNBOZO3eb0W8ZhvNcG6/pIkla1nWMUX9cCLz2lC0G874YAH2yRZlH6hsNm/G/qFgAaCoQsuuACf//zn8e1vfxtjY2NwHAdjY2P49re/jZtuugnnn39+M69TUIV0XMNc0W57A2kr8fUwqk9mhVmhVFyNJKu/GLIslY0so5bKVFVCbgmzdk7QhMrSPF3uFxpKM9fzo4zULyQRUyHJfNYce8bZ9IbapUQdii2yNU9H6xcKJxOrTWrFdAXZpNZQ8H3o6gziuoKi6WLvBLsGTiW6xq/A7utisU3iAcDIVLGcoYxiGmoGjdoJTmPWWsQCFWuenp6yhATjYSuUpmiGjASvDUeUfiHHIcgkoh2c2kHkYOg973kPXvayl+HjH/84zjzzTLzwhS/EmWeeiY9//OM444wzcPnllzfzOgVVUFUZlADTOfbRzm7Ddolv3lhls2lmv1Allb5NUTJvMV1ByXSXTAPHdPwmVKZyTVgi49C5iTJSv5C4riCusTWbbhxiF6cLR4/93rKlhbU0WSg55RFs3syQaXtIxtSap+yedAwep4t6JYoi48j1/ph3VK+ymO4rsPMEBabtgpLqwxELeXYkmMZbk4m00Vq2XyLjERllIZvis+aonChj+ZtJkgTaJC8+06lvw2FYLqZzfsadd6yeUgpCacdbcFQS+UpVVcUNN9yASy+9FL///e8xNzeHTCaD4447Dps3b27mNQrqkAwsOgZ73YYExDoVxyUgpLqI4Hww1FzNpcPWZKFrMvIlB/smiljPObWiqzIKhgOD0RqjUSybrQmVUopdQYDBk6EIdVl4RuoXoioy0gkN03mz7r0aZob2TRbhebX1UDRFRtG0YTGWq5oJq9himBVa3Z/gfp/aDsXqfr3m3zYV15DQ1chaP4CvwP7YM9PYvmsGZx+/nrtPRFNl5AIFdtZrKJkuFI4/2TNBqTGKBQelFBRoSVNvIqZCDrKeLEHa6gHfAd60PUzMmkyHudCLb7C3sYNfyXDr2nCEJbL+TIz7fvINtZubfWs1De+cRx55pPAhazMxTUGh5GC2YC3LYMh2CSDVnyRrxIZjMVRFxlHre/GXZ6exbfcMdzAkSRIUSULBqC8c2AyKhsM0WTOVs1AwfGFGnhNf1JH6haQTGiZm65uwDvTEkQgkJPZPlWquf2gJYdnekk6v8IgthvpCh3DqC1Uas9ZCU2X0pHSMzxiRnwOHr8tCVWTMFmyMTRtlvSceVEVCrmijP1vfusEjxDdnZQywHdfD3qDHJkrzdKh704rnZFxX/CZyhy0YVWQZ6wdTeHZ/HrvH8kzBUKUXX9TMlusFmliszdNR+oVsUl6PbiHyHUEIwQ9/+EP8+te/hmEYIAvk4CVJwte//vWGL1DARjKuYjpvYSAbb+jk3omYllv1jU8pbVmZDPBLZX95dhrbd83iFcfxn5R1TUGu6MAbiP7wYsH1CEqWy1UiW88xltzISP1CErFApM6tbWoqSb6GzI49s9gzXqgbjMpSOHrM758UlVBsMRGrHyTuitgvFBqzJhimcjJBMMSanViIpio4Yl0W23fPYtvumUjBUExTULRcX8unzv1l2R4clyCdYLuvdo8V4BG/kTxssOfBtF30pGIteUaWs565+lnPkI3DmSAYKuD4zUN1v15TZZQMF7ZDkIhFe56ENhzxOms+0oDytO0SrOqNNyyAu5REfjpfd911+Kd/+ic89dRTcF3XTz9W/FsYHAlaSzyo1S83EUZKKQyr+lh90XTLo7yDvdU3Qc8jkcTkjljXA1WRMJO3ykEXDzFdhuV4MFqsRm07HmzX4+wXYs90NTJSv5CYzi5SxzNx4zdRu0s6Wckqtpgv2ZjKWb6pKMe6+z+DIMs4wZeKq0jG1YY0hxrV2Irp/og9yzX4uliUWfTzmbJLfSbSRltrIq8ZpBMaeB4zGzknyprhxcdiw0Epxb6JaM3TlFJIABKx7tAXCon8ZPuv//ovvOMd78CHPvShZl6PICKSJCGmK5jKmejNxLpC8ZMF1/P1MKo1joYBSn82VrNXJJxwGeB0XdY1BYev7cGOPbPYtmsGw5zTK4osgxCKkuW2tHxj2h48r/6m4vcL8WcobJugbyDelMkQORix3z9VQqpOMm9+oqxQtx9KC0aPbZcsWXqeVWwxHKlf3Z/k8mkKjVlZx8AVWUZvOoa9E4XIo+NHru+BLEmYmDUxNWdyv2cqFdjrBR4lywHPLfVcA35koep0K1sJ/KynrwbOEuCtW+X78OWKNmYLFlM5vVEvPtslddv9c8GEsixJ3BN7oZJ4I4MW7SDyjlksFnHmmWc28VJWHrmijcd2TjbtJJuMqSiYDvKl9owYtwLHJXA9D2qVBtXxGV+wrF6JjFK/yTaKZUHlVFkUdE1GrtCYo3c9DMtlClSm8xbypaBfaJAtQ9GMkfqFJOMaJNQXqVszkISqSCiZ85Mt1dBU/++7VNN7hFCUGMUWn4sgcAkcbMzKQjrp2x9E8dUD/A390DX+dW7fHVGBXZORK9o1R+wJpSgaLrO+UMl0ywKFUYIh03aRiNeeyGuUmK4gzigsCviHrbAUyexTpkooGtEzfyXTrWvkHPYLDfUluMQwgaCsGztYHLTTiRwMHXfccXjkkUeaeS0rjh/8aiduu/MJ/OXZ6aa8nixL0BQZU8vIosN2CTxCq/bbVBq0VsPvn/CF0aKUD47a0AtZkjA+Y2AqgoRBTFNQslo3Yk8CsUWeEtm6wRTzQ64ZI/ULSegKNE2pK8CoKnI5TV+vlBCOHttN9G+qha+Pwyi22EC/UKUxKwuJWFAqa0CEMnSu3xZRjToeqFGbNcrDlu3BYmw+B+Yb0Ad740gn+QNz2yHoSdWeyGsUWZJ8X0MOYcT5EXs2vSFNlWE6XqSDXdmGo857vxGnesclLS1FtorIwdAll1yCb3/72/jc5z6He++9Fw8//PBB/wS1CR/yf9451bTXTMVV5A07smFip+HUSenOT5JVT+U6HoGqKmUdEN4MzQEn5Qh9FLqmwHFb1zdkO76bNcsJO4oFRxSX+nromoJkjLFvqKJUVg9VkSLZQUSBVWxxrmhjJu/3C23k6BeilMKjBxuz1kOWJPRlYlwb8kJCa46RyWKkPkRVleF4tV3secQqgXkLjigj9R4hkGWJ2wIlCuHPYBWePITTwV5XFThBjyAvrDYcIxPRJskIoZBkqWtUpyuJXDx9xzveAQC4+eabARyoZBnW9rdt29bg5S1vTnnBavzg1zsxOl3C+IzRlGmosE49nTORSWpd1c2/GKZdvfxDCMV4YHpZa+3coFegLx3D5KwRGF7yvVk3b+zFMyM5bN81i1NesIbrewFAkSXkSzb6Ms0fsbccEuh61H47H+BHxiG22KyR+oVkkzpm8vU32nIwxHBy1lQFRdOJPE3FA6vYYrjmawaSXA3otkMQ0w42ZmUhFdegqYqv7BwhiE0nNWwYSmPPeAHbd8/ixOfVn3RaiKrKyJesqj1HhuVCZli/kLB5+rAIFhyW7Q8ALIXuTSLmj5SzBqMbhvz34uSciZLp1A3YZFmCFzjY85au/WCo9vQeIRQjQTmSNzNkO15ZjbvbiHzF3/jGN5p5HSuSnnQMWw7rx1+ensKjOyfx/52woSmvm06oZYuObnEMXgx/kqy6HsZMwQqCALlmkOF4fto2pvvZoamcyR0MHb2xF3f9bjf2BSdl3jRwTJ939G52c7tpuQCtL60/W7CRKzmQZQkbhtgecs0cqV9IPKZCkVFXMyUMhqZyFoqGU7MxWFNlGIHqd6sfyMxii8EmfiinvlAjY+CJmIps0n8ORM3obd7YGwRDM5GCoZgmo2h6ZSuRSiilyJfYfPQAYDZvlbNrPIF8iGUTDPclWypvEaKpClJxBQXGTHAyrmKwN46JWRO7xwrlab5ayLJUswRZDdvxQEntQYTJObMsi7CKs3neN8DtzgGeyE+LE088sZnXsWI56ZjV+MvTU/jzzimcdew65hHTWmiqAo+4mC2YXR0MuR6F41YPHsIS2WBv7Sknz6NljZaelI7JoKeKJ3OQSeoNnZRjmoK5gg3DcpFpcpalYDjQNHYF5HWrUswqzc0cqV9IIuaX3iybIBmvft8nYiqGehMYnzWwZ7z2ZqEqElxCYbc4GHJcwiG2GK15utEx8J50HFN5i0mVfDE2H9KHu3+/F7tG80wZi4XENAWzpo2S5aFnwTrZQaN7jLF5+tkgoFw3mOI+yISq0ylGLaNmkE7qmC3WNxgO2TiU8YOhOvd3iKbKKJgO99/WdLy6z71QX2jtQJI7u+p5tOnPt6WC6+646aab8NrXvhbDw8O46aaban6tJEl43/ve19DFrQQ2H9qPVFxF0XTx5N65cuNio6TiKqZzNvoz/A+xTsFP6XqIV9GrYBVblCQJWnA6TiU0X5PJ9uoq+i5k8yHBSXkX/0lZliVQUJTM5gZD4abMcsKO0i/UzJH6hSiyjGxKw8SsWfdvsWEojfFZo+5mUfZvasC9nQUr6NmoJ7Y4W7AwW7C5+4XqGbOykE6oiGu+eSjPOH9IXyaG1f0JjE4beHLPHF585Cqu768cse9ZENTxii0+28BIvRWUbnjf742QiKlQZAkuo+jQxuE0/vDkBEffkBxoi/HJSBhmfRuOqMrTnkcgKxLiXWTBUQl3MHT66aeLYKiJKLKEYw7rx0PbxvHHpyabFgzFAvfpiVkDG4fVruwdclyPbZKsVr+QR6DKUnnSSlVk9GZiGJ0s8QdDG/tw98N7sWss2klZVxXMFW0M9SWa9vcIN+UeDgXkQ1azj9RTAKkWZlhScR1jpL6Y5YZgs2BpotZUGcWSDTTo31QLy/bLDfWCxFAXZ+2qFNem5Ruzag01omqqgp60hslZM1IwBABHb+zD6LSB7btnuIMhwB+xzxdtkL4Dswym4wFgy2pQSivEFqP1C/WkauuQNZt4ICxqMk42huKio1Mlpj6vUGA07NFhIXS8r2fDEVV52nIIdFXpyuZpgDMY2r59+6L/LWiMMBh6et9cpH6UamSTGqbzvpBXzxJ4YzUbxyVAjYEMFo2h0PKhMnOSTeoYl0t1zT8X4p+UkxidLmHHnjn8FefmENMVGKbbkJHmQlg35dm8hbmiDVmSsIFRX6iVPk4hcV2BpiqL9pVUEvYN7Z8q1f1aTZVh2F5L+rNCSpbDlC2LasHBYszKQiYZw/gMf1k45HmH9OGeR0fw9L4cLMdDknM9Y7qCouHCtN0DDg/5ks38txmfMVAyXWiq7+XFi+thyUe9FVlGNqmhaLvQGX7N3nQM2ZSOXNHG3okiNtVpEpckCYT6hyHWO8t2CByX1CwXOi7B2LR/OOEPhjwM9saXpC+rFTT1qicmJvD444/D85ZG52O50J+NY8NQGpQCf3q6eWP2qipDliWMzxrM6dpOwrBdKFVSuo5LMJ33RfiGe2uP1cc05YAHbzKuIhnXIo1glwUYI4zYawzjxrywKiCHqtNrVyWZG2pNx0OqySP1C/H7kfy+oVr0pnVkkhoIodg3War5tXogvtjIaHktfLFAp66UAaU0kr6Qx2jMykIqEBk0I2oODfbG0Z+NwSMUO/fOcX+/qsjwAt+8EMclMC2PWWwx7BfaOJzm7qn0A+fWqk5XI5XQy/ZULPDqDSmKL6DISmjDUSsIHZ0ugVCKVFzlDiAJ8TO93UpDCtRbt27FN7/5TQDAXXfdhZe97GV4zWteg/POOw/79+9v2kWuBMIsw6NPNU+RGgAyCa0s9d5tGJZX9Y07MWuAUl91u9ZJx/UoEgs2FVmS0J+JwYmwWYZlzGdGcr4vFSeho3czIISiaDota+L1XNLyZkhJkpBN1RepkySJWW9IUeRySaAVWDab2OJswZ7PxtUxma3E5DBmrUc4aclarlmIJEnYvDHwKouowK6q8gH3vOV4sFx2scVn9kfXF/KzsO0p3SRiiq8JxNi/tnGIz6dMV2WUTIdZz4jFhqNcIhtMcWUlffmS7tQXCmnIqPXnP/85+vr8N8r111+PzZs346abboKqqrjuuuuadpErgS2H9kFXZczkLexibKJjQQ4EsMZnjCWzKWgGvicZqdrsV9kvVOtNSylFfJHMRiqhQQ10WHhY1RPHQDYOj1A8FeGkHNPnHb0bxXI8OA7hM2dlDIZaOVK/kGRMA6T61hw8ekOyJMFqQIG5FnYgFlivETUMQNcOsmfjAD5jVhYySR2yJEUyKgbms6FP7Z2NlGH2Fdi98nvNtF1QAqbfzyOkfO9GaZ62HYLedKwtPZNh0zbrc3djIBmwb6IIj8HoXFMV2C5lPpQZFrsNB685a2gbwzvp10lEDoZ++ctf4sMf/jDOO+88bNu2Dfv27cO73vUunHXWWbjsssvw29/+tpnXuezRNQXHHNYPwM8ONZPQxXpqjt9Kol3YDimLJS7G+Gz95ulwc11s0iquK8gm+e05JEmq8CrjL5XFNHZH73r4jt9+T1Qt5iommlgzFK0cqV9IKFJXb9MIywh7xot1AydVlVDkKCHwYARii/U22Cj6QrzGrCyEZeGoCujrVqWQCSwmnhnJcX+/rvmTT+E9Xyg5YO1l3jdRhOMSJGMqhvv5GuJ9/SqpbQKAkiShJ82uBD7YG0ci5meSRqdql4KBQEbC842J6+HbcLh1nxWh8jS/2CJBJuUH3d1K5GBodnYWmzZtAgD83//9H1RVxSmnnAIA6OnpgWV1X1mm3YTTGk88NxO5xr8YkiQhndAwOWeiaHaHTYfjBZ5kdTSG6k6SKcqi6Xj/QRWHS9hr+iFhqeypvXPcGZ7KceNGYVZADjKNawfYJ5psO3i4tVjFGZgXqbPqbBrDfUnoqgzL8crBcPXXlGHa0fyb6sEitlip9s3TLxTFmLUeoT1H1MywXyrrBQBse47/ACBJ/l1aNFy4Qf8Qa6YsDL4OW5Phzu6YgaTAUmQ3q5FKaJAkMHlF+qVg/15hGbH314My/V0d1w+aak2SGZZb7sPkyQxRSkFA27rOzSByMLRu3Trs2LEDAPC///u/ePGLX4x02j+53XPPPVi/fn1zrnAFsX4whVU9cbgewePPRnOLrkZMV+B5BBMzBnONuZ04rlczSGExaHVcCk2VoFVp1EwnVMR1lbv3Z81AsuxzFuWkHGNw9K4HDcxZWfSFePuFlmKkfiHppA6vTuAiyxLWBdNEe+psFnowoRbFv6kWrLpOM3mLW+0biGbMykI6oUFTZDgR1yPUdtq+ewZeBBNoXZeRM3zRUdv1mEq7QIW+UAQLDrvJ5cYoJONqYM3BWirj8ylTlUBGog6hDUet+zYskfVnYlzZNMf1R+qb0ePWTiK/4974xjfimmuuwd/8zd9g27ZteOMb3wgAuPzyy/G1r30Nr3/965t2kSsFSZLK2aFml8oAIJPUMFOwkG9SA28rMe3q9e2S6ZSNaAfrZIYSulo1daupCnpS/OUDSZLwvOCkHGWqLNQfMRsolTku8R2/ucxZO2ekfiHJmApZqd/XEvZV1GuirvRvaiahrlO95t8wAF0/yK72HdWYlYW4riCd1FCKWCo7ZDiDRExByXTx7Ah/r1xc8yfa5go2PK96xrcSy/GwLyjb8PYLhQcpXu+uZqOpClIJjb1vqKKJmiVjXSkjUQvb8YA6NhwjEcUWw5I663RgpxL56t/ylrfgmmuuwYknnogbbrgB55xzDgBAVVV87GMfw5ve9Cam1yGE4LOf/SxOO+00vOhFL8LFF1+MXbt2MX3fO9/5Tnzuc5876HM/+9nPcM455+AFL3gBXvWqV+Hee+/l++XayAsPH4AsSdg3WSxnP5qFqspQZAljM50/al9rkmwsWJfetF6z7ON6tO6Gnk36+kssaexKwpPyjj2zTM2OlSw2bsyLGajPcjmmD7FlhpZipH4hcT3I0tXZNMKeJ5aTc1T/plowiy1GUftuwJi1HpIkoTcdg+vyl4UBfy2PCpzs/7yT/6CmKDI8D7Dd+nYQIbtG8yCUoi8T4zY4tmwPuq4g2QFqyJmkDtdjW/M1A0moigzDcjHJ0OM5LyNR+z43HQ/1Kur7IvYLOS5FNtm4Jla7aSiUO/fcc/Ev//Iv5UAIAG688Ub83d/9Xfn/CSF461vfiueee27R17jlllvwve99D5/4xCfw/e9/H5Ik4V3vehdsu3r2wjRNXHXVVbjvvvsO+tzvfvc7XHXVVXjjG9+IO+64A6eeeire97734emnn47+iy4h6YSGIzf0AAAejfDQYXn9fMnGbL5ze7rCpkC1Sl/GfL9QdX0hAABF3Q09lVDLDeY8bBhKIxlXYdoedo3yT//5jt7RM3SW7TH5Eu0KmnjX9CeZJz2WYqR+IbIsIZvQ6zab+iO/fpBXT6Kg0r+pWbCILVJKy8rTPP1Cpu0iHVdbFoSmEhpiOrub+kLCA8BjT0eT/9BUCQXD5dAXCqfI+I1ZTcdDJqEtqep0NZIxFWog91APRZkXlmQJ+P0gk9bttzMC0cpqUErnM0Oc/UIAutKlfiEtz2tRSvHQQw+huIhpnW3buPXWW3H55ZfjjDPOwObNm3HjjTdibGwMd99996Kv98gjj+DCCy/En/70J2SzB6dOv/zlL+Pss8/Gm9/8Zhx++OH40Ic+hGOOOQZf//rXm/67tYpQc+jPO6cij8NWQ5Z975jx2c4dtXdcAo/BoLVW87SvuIu6D15FltGb5tdhkeX5ptJIpTJNQdH0uEf7Q4qGU3cyBODPUCzlSP1CkgkVXh2RupimYHW/HwTXK5WF/k3NaqJmFVucylkoGA4UmV3tG2jcmLUeMU1BNhlNbBQADl+Tha7KmM1b5Y2Th7iuoGQ6zE38odhilJF6z0PHmFSXhUW5+4bYxBclCTUHblhsOOaKNoqmC1mSyu8vFvxspoJEB2TgGqWtRb7t27ejWCzi5JNPLn8sm81iy5YtePjhhxf9nt/85jc4++yzcccddyCTOfABTwjBI488csDrAcBJJ52E3//+983/BVrEEet6kE74D60nI2jZ1CMZU1GyXEzNduaoveMGk2RVTuBhMDRcIxhyPAJVVZgaNTNJv2HV5dw0K8XoeE/KC8eNeShP5LAEQ8GGwhoMLeVI/UISugpNqS9Sx1oq01QZtus1Lei3bA+2S+tmG3ZV9AuxBKxAc4xZWehJ6aC0vqbTYqiqjCODUtm2CAcAXVMw1Jdgag4vGE75fX4oZ2bIdvwG96U0Zq2FLEvIJHXYdVTWQ8K+OOYmalUq91AuhuOSsi1RNcLgdrg/wTSUEWI5vqhlJ2TgGqWtd8vo6CgAYM2aNQd8fGhoqKqC9Qc+8IGqr5fL5VAqlbB69Wrm1+OB9cHGSthEqMjyAQ2FiuKP2d/35/149KlJPH/TQFN/LuB74cwULfT3xjvmBBVCKIUkS1Ar3mCh340kSZiY8x+SqwdSVRsxSag8G6tvUptJ6ehJx1A0HcQ4NqPD1/cgpikoGA5GpkrlhxgrqiLBdDwMcN5XVmBgm05qVX9/RZYxV7AwlfP7hQ5dk2VqWnU9isHeOPQ2iKcpioRMUoNhu0jUuNZD12Tx0LZx7J0o1P2dFEWGR2jN9275fVjntTyTgoIipis176mySODaHmb7iKLpIpPUkE5qLe296MnEkEqosF3CbTQMAFsO7cfjz05j+64ZvOL4DdzfrzDeVmEgsLo/iWyKr1/ICdbSH2tvXx9L5X2VTesYnzUgy/X1qTauzkAOSsEFw6nrKxmPafA8AgK6aGO/Z1IQALEaB5z9ga7RukE+yxNCgb5svOG9kfU92EraGgwZhr+p6fqBqeFYLIa5Of6MiGmaVV+vUd0jWZbQ18dvEliPsTkTiaSO7IIb/rS/Wo/7/rwfO/fNgUh+KafZTM4ZsDyKdT3Jto6fLiRvEWQzDrKZgzM/tkdhOwSKIuGwdb1V3zwulTDYl0B/P1uZwpVk7Nwzi0w6zvUAff7hA/jD9nE8PZLH848YYv4+AJBVFUQCstkE10PAmzUQT+ror+HJBgCPbB8H4D/ghlfVD9QIpbA8YO1wFn3ZOPP1NJMNxHd6X+xvH7Jl0yrgVzsxOl2Crms1HdldKkGNaUzv3Wy2tqhfySVIpWLoyVZfd0pp2QfumMNX1fw9KjE9io1re9Df3/xnzEIMFxiZqL3G1Th28zB+dO/TmJg1YTgEwy263j1BM+/zDuvnvs6lXEsWstkE9LiGmaKDmKYy9e6tG8pgz1ge43MWNqzprfm1aUIxkzeRSMYXLbNaBEin4zXXcTQwZz1iQx/zenuEwiHA6qFs88zF67wHW0lbg6F43H/g2rZd/m8AsCwLiQT/osRisfLrVRL19SohhCKXq68KykO4ARolGzI9MIUaVyVsHE5j91gB9/1xL05/8dqm/mwAkCnBc/tmoVCKXs5pjVYyOp6DabvIVcQHiiwjlYrh2X2zAIDBngSKpeoBbi5vojepYmaGrbeB2B4c28HENOHy1zliXRZ/2D6OPz01gTNfvIYrkPIIQa7oYCSlcWXn9o8XYJRs5GrYQSiyjJ3BWm0YTCGXrz+ZaNoeXNeDbdqYaZPZsmM5KJVMzErVJ7YkAH2ZGGbyFp54ZhJHrO+p+nqW6WD/uINsXKkqsaAoMrLZBHI5o2aP3shYHpbp1FzLiVkD+ZIDVZHQn9aY1t31CMySA9dymO/XhvBcFIs2FIlyO4wrsoyjNvRh23PTeOjxUZzRgucSpRTbn5sGAKxblWRaw5AlX8saLLyvPNfDRN5kChzWr0piz1ge25+bxpHr6vdM5fMmxify8OyDDzGjE3kYhoVclccaIbRscTOQYbtnAV+kkVIKy7AwYzcmIsv6HowC62GzrcFQWB4bHx/Hxo0byx8fHx/H5s2buV+vt7cXyWQS4+PjB3x8fHz8oNJZFHh7SljxCFn0BnjxEauwe6yAR56cwEufP9z0lK8U/BuZLCKuK00XeouCG7i6yxIWXZMwnTvYG6/5pvE8ClmSmP9miiwhHdcwlTOhKeyB4WGrM1AV31NuZKKI1QPszYeAf0/li/ai/mmLQSjFXMGCUmV9Knk66DfbOJxhesAYpoNMUuNat2ajKTJUWYZhOjUzPhuG0r6P32iu5rSRIgOG6cEw3Loncs8jVX9vxyUolhwoSu11f3qfv+brh9KQUP9vBAAlw4GuytAi9K1FIaYqiGkyCiUnUon8hUeswrbnprHtuWmc+oLGn6sLmc6ZvsGtLGH9qhTX5lgyl3YtWQjvq1RMxdSsgRRDL9OGoTQeeHwMu0ZzTL8/oRT5koWeBYEWpRSFol31eQr4PZi263sc9qVjzOtdMh30Z+IAbd7eWOs92Grauvtt3rwZ6XQaDz74YPljuVwOTzzxBI4//nju15MkCcceeyweeuihAz7+4IMP4rjjjmv4epeaVpm3VpJOaMiVbEznOqOZutzsV22SbNoPhuracMgSs8ptSNhcyqM5pGsKjghObtsieJWFLvasDa2248FySN2JpnzJxvhMCRLmp1Pq4bZhpH4hqiIjndB8XZQabGB0+A5HmhttomYVW4xkwbHESsmyHNhzRBSkPGbTACTJP5jMFpov0RGO1K8fTHHLDFhLaCPDSyKmQpYlpufLhuA9OzFrosTgsaerMoqGe9BzxGaw4QiVp9esSnGtm+fRjus3bYQlCYaqZTR0Xceb3/xmXHfddfjlL3+J7du34x/+4R+wevVqnH322fA8DxMTE+VeIBbe8Y534Kc//Sluu+02PP300/j0pz+Nbdu24W1ve1uzfp0lo5XmrSGyLCEZUzAxZzZdrTcKjkfgEgqlSglojEFjKJyc4JmKAHwdlnigDs1D2aogwoRNXFdQslxm7RfLIYHnWu3fLdyUh/uTTBNK7RypX0g6ocGrI1IXBkP1HL4lSfJT+Y0GQ4GuU63NglJaljJgDYZaYczKwrw9B/8pPJPUcUgwLLB912yTr2zej2wTpwVHGGSk26w6XY24zmZIDPjK2at6/JLXnon6B2F/cpIc9BwJbThqPS+imLOGzyCeloJOZ0mCoVqn3ve///14zWteg49+9KN4wxveAEVR8NWvfhW6rmP//v049dRTcddddzH/rFNPPRWf/OQn8d3vfhcXXnghfve73+ELX/gCDj/88Gb8KktOpXlrq4KVREwNFE+bq3gdBcchAF08gHZdgqk5trH6mMZf9lMVGb2ZGLdq8VHreyBLEiZmTSbV2Eo01feLYtV+MS236vpUUhb9YxxLbudI/ULiulq3zDHYG0dc98fwx6Zr37eqKqNYY/SYhZLl1HXkDk/xqiIzbyytMGZlIRFTkUpokaQdgAO9ypqJH1BG0xeyg7XsVAHAMOvJ+hzn0RvSAiXqhYFWaMNRK4gPM0M8wZDt+FZAnfC8aBYt/00URcH27dtrfv6qq67CVVddddDn1q9fXzaDXYxf/epXi378ggsuwAUXXMB9rZ1IaN46OWfiL89O47ijB5v+MyTJH2memjPRk461NfVpuR6kKjHM2EwJhPonrEyy+jW6HkUiosZINqljXC7BCzIlLMRjKg5bk8HTIzls3zWDU1+4pv43BUiSP2pbNG0my4GC4UDT6qey5zMUbBuKbRP0DcQ7orwQjymIBSJ11UZ2fYfvNJ7aO4fdY4Waqrm6KqNkuYEQJ//vRyhFyXSrGv6GhGu+Yai65MNCTNvDYG98yfv1QnuOqGWu5x3ah/95cDd2jxVQNJymZbZGp0swLH+j5bWFMG0P/dk4d0Z4KUknNEww6rttHM7gkScnmR3sKaUHibhajlfz4OS4BGMzfusBjyeZ5RAM9SY64nnRLLh2jLe+9a3MXytJUlepPncqoXnrL36/F48+NdmSYAjw1WkN08XEbAnJeLbuKbhVGKYLtUqJbH9wghnqS9R8g1NKmRuSF5KMqUjGffPWdJL9obr5kD4/GNrNFwwBfnCXKzpw+2uns1kd04uGg4lZP1vCYs7aDpf6WsiShExKx9hUCakaQ6BhMLRnvICTjxmu+nWaIqNkuoFAHP/vaNl+n1Y9ld0wo3EoY0aDUgrSImNWFlIJ3/rDcjxmVeiQ3nQMawaS2D9Vwo49szj2qOY8l8IS2aGrM1wbLaUUHqFt73mrRyKmQlMkOAy+gmEpeP9kqSzKWQtVkVA0Xayq+FjJdKvaGgF+8EkpkIqryNY4YC6EEBpJp6qT4QqhaSCVz/KPcJpXCqrTSvPWStJJDTN5G3OF9rjae8RP81YLCCqDoWqEJdmop0NZltCfiXHbZBwdWHOMTJYwx3najmkKTAY1auYm3iCtvmZViumB1Q6X+nqkYiooapfYwybTPXUcvlVVhkOiN1H7lh5e1SAdwXXyNk+HxqztWve4riLTjFJZhF65asz7kfGVyPzgovNtIWK6LwTLci/2pnVkkhoIpdg7UV8mQFMVFE2n3DvFYsNRNmcdTDFPK4eB2XLqFwI4M0Pf/OY3W3UdghqE5q07ds/i0Z2T+P9O4Fd+ZUFVZKiKhIlZo2xRsVS4HsHknAHT8aqeUPZPBcFQb51JMkWpGzDUIpXQoKpKUBdne510QivrQm3fPYuTtlTPVCxEliVQQmFYbs2TLatjemgce8T6XqafbzkeMkltSV3q6xGPqb63mEuqZi3WDaSgyL4VwUzeQn8NoUgJUuSeO9P2IKG2cvD4jAHD8rN2a1exySuYtouelM6dlWkmPekYpvImk+nvQp63sRe/fmQfntmfh2m7DfePuC4pl4R4gyHT9pCKa21dSxbkoCVh/5QD1JG+kyQJG4czePzZaeweK9RdE109MAMaTuYmE9X/LlHMWS2HlP3WlhOdW1wVHEArzVsrCV3tl3LUvmA4eG40j70TRSRr6B2xZIYcl0JTpbr9HbXwe5L4nezLXmWRfJtkzNUZsS+aDuQa2YmQMENx+LrqYoSVdMJI/UJiQaaqVgCjqjLWrGIzbVUVCQUzWhM1S59W2C+0cSjNLGToG7O2V+w0nVAR11XuCUoAWNWbwKqeOAih2NkED8U9EwW4HkE6oWGwl08B3XEpelJ6W+03WAmztSxyGjxN1GEGNMxq264/mVvrUButeZog02LbmHYQaccYGRnBZz/7WbztbW/Dueeei/POOw/vfOc78aUvfQljY2PNvkYBWm/eGiLLEhIxFRNzZk0n5GbgegRj0yU8M5JDoeSgPxOrKrRnWG652bNeZiihqw31PPnNpXF4pLaD+kI2H9ILwNe+4Z1eiusKDMuruikRQlE0nboZr5LpYDzoF2IJhrwOGqlfSDalM5u2sjjYW7YHl/MgwdqnFQZDrIa4S2XMWg9NVdCT0rgnKEPCe35bE0bs50tkGa6N1peFQOShiaUmGVOgawqTnEYYDO2dKDLpE0lUKj9DbMer+fwqmS5m8v4zlTUzFL7ecusXAiIEQ9/+9rfxyle+Erfccgt2796NZDKJRCKBp556CjfccAP++q//Gj/84Q9bca0rGlmW8MLDfcPWP7ZIcygkGVdhWi6mOMfEeSgYDnaN5rFnogBdldCbqS2UFvZK9aT02l5UHm3KBpNOqIhptTMTCwmbSikFduyZ5fp5muqPiVfLRlmOB8chdYUkQ3HOod4E0gzZHrODRuoXwiJSt3GIzeFb03wHe95eMJY+rQP6hRilDMzQSLgDSg3ZpJ+d4hEbDQmzoTv3zUXSLKrk2ZFoI/WW7SGhq0h04D28GJqqIBlj0xsa6k2UJSRGp+vbQanqfAbUsKoPowDzJbL+bIz5mRkqVXfCfdtsuIKhe+65Bx//+Mdx+umn46677sKvf/1r3H777bj99ttx77334qc//SlOP/10/NM//RP++Mc/tuqaVyxhqezpfXPIFVvb5ByO2hca1GdZSGU2KF+ya2aDKhljUJ4GAFA0pfdFUxX0pP2pMh4aaSpVFFRdb9P24BJS1x2ad1O2O1ixl0WkbsOQf6KdnKut1KvIMjzP73fgwbK9uiP5o9MGTNuDrspYO8B2wrYdgt50rCNKDamEikRchREhE7xmIImeIIMXToJFwbRcjAQ9gYdxii1aztIqeDeDbEqH6zJkegIJCYCtVKarMkzbKx+saj0vwvXm1RdKxNSO782KAlcw9PWvfx2nnHIKbr75ZmzatOmgzx9++OH4zGc+g5e+9KVirL4FDPTEsWEoDUqBPz891dKfpWsKCKWYmC2BcJSKalGZDdJUCb2ZGPMDLFSeHu6v3pzqb1qoa1XBSpQT8/OCqbKwqZSHuKYgbziLnrBN24UE9n4hlvHuThupXwiLSF2SQ6lXlsC94Ru2A6Vuw7ofBGwcTjPdz35pUmp7iSxEkWX0pvVIpTJJkrA5uOcbmSrbNZYHpcBANnaQv1YtwvdmqsvKNn7WEzXV00Pm+4YYlKg1X8S1EDxHWCbJeJqnbcc/PC1HuHaNxx9/HK997Wvrft1FF12Exx57LPJFCaoTZocefWqSq58lCpmkhtkmjNovlg3i3QjGA2GwesrTqqpwe5JVI5VQkYzzNVJXNpU+xdnbpWsKbNs7aMOmlCJfcur2rRiWWw4aWXpXOnGkfiHphIZ6bT7lvqF6pTJOJWpCKYoGu9giq76QGZR1OqlPK5PUoSgSd08VABwdZEOf3DvLtLkvxjMjQb8Qd1bIL/Mmu6RfKCSuB8KiNkswFJSC60hIAEEGlPhaY3YNGw5KablMxpoZIsQ3v04swxIZwBkMFQoFrFq1qu7XDQ8PY2JiIvJFCaoTmrdO5y2mk0IjKIoMVZUwPlOK9JAE/AmoqNmgEEppuWdoqEZmyHUJNEVqmiSAf2KONeBVNsv1fbIsgVK/CboSxyVl+ftahGn0VT1xJhVxy/HKzZydSqVIXTVYm6g1VYblEDgu29+zbIpbo1+IEFqWMmBtnu7Esk4ipiIVj6Y5tHEoHRwavPJa8PLs/mj9QqbtIZ1YWhmQZqDIMjJJjalvaO1AEqoioWSy9XFKoLA9UtOGY65oo2i6kCUJq2s8UyuxHQ96h/YXNgOuO8jzPOh6/RSZqqpwnOb2mgh8Ks1bW91IDfgn84LhcI/ae4RgfKaEp/dFzwaF5Io2TNuDLEvlkshiOB5BMq42tQ8j1Fuq5ZO1kOcFEzZ+UylfIKXrMnJF54DSpOl4vvN0kyeaXNfflDsZFpG6sIwwMlms+XcKfeBY+4bC6bNaTaij06WygvMahk2FEAoJnVfWkSUJfekYs2HwAd8rSzh6Qy+AaF5luaJd9vRjFawE5kWAO00WgpVUXC//DrVQKrzudtcJ+AFAVxU4dWw4wqzQcH+ibh9iiOUSpGJKR9udNMLy/K2WOUth3hoiScGo/Sz7qH3RdLBrfx67x6NngyqZd6pP1DwBeh5t+kRJeGJmNVIFgNX9802lT+/jayqNawpMyz2gfyN0TK8X5IWncpYNxfMI5A7qW6lGKFJXa5Puy8SQiqvwCC03hS76WvLi/k3VMG2vriluWV+IsV+obMzagWWdVEKDFoiN8hKO2O/YPctdvg+zQmtXJbnux1B1upPKjTwkYgpURWGawiuXyhj7hopWbRuOfRGc6j2XME2odivcd9EPf/hD3HvvvTW/RmgNsRMlRFgK89ZKknEVU3MmJucMrB+svtF6hGBqzsTYjAHPI+hvMAgKCUtka+pM6kiSBK3JJR9JktCXiWGuaDGr9EqShM2H9OHBJ8awffdsuWzGgqrKcDx/EiTcMIuGU/f0ZlhuefT2kOH6wZDpdM84cqpCpG6x9ZckCRuG09i+axZ7xgvljWMxJElCyXLQj/qifgXDqbmhAOC24GiXMSsLodhormhzl04PW5OFrsnIlxzsmyhi/VB9T7yQqBYcpu0hldAQ69IeFl9YVIFpu3XXm0d8UVdlzDoEqXj1wGUfp/K0R0hZg265wv2b/eAHP2D6uk4YGe0GknGNux9nqcxbK/FH7S30pGKLpqWLpoOxqRJmChaScRWZZPOUdUMRwTU13riuR6DKUtOapytJJ3yZf9shzA/e5x3SiwefGMOTe2bLwoasqKqMfMnCQE8crkdQsty6v1eYPh/IxpFmMFzsJJf6eiQqROqqrf/GoflgqBa6KqNouHUDW8clMOv0aRFCyz5wLFIG7TZmrUcoNjqdYw/8Q1RFxlHre/GXZ6exbfcMczBEKY3cL+S6hGvyrNOQJAnZpI58qf6AyvqhNCQJmC3YyBXtmuVtSZIw3F990IQQiv1T/sFpHaNTfThssRz1hUK4gqHt27e36jpWLNmUDlmSgt4E9g3zhYcP4Fd/2Fc2b62rv9MguqagZHqYmDWQimvlTbQyG+S6BL0ZndmOgJWJGYZgyPU1eFpRz47pCrIpHdM5kzkYWj+YRiquomi6eG40z2yNAfilsqLpm4M6LoHtesjUaYjeVe4X6j6X+npoqoJUzJcdqLb+lU3UtTbysIm6lucZEIgtOl7NzXb/VBF24NM03Fe/X8h2CGIdoDpdi1Tct+fwp7T4rnPzIX4wtGPXLF5x3HqmYGpqzkS+5MsXbODIJrkdrJzOQyKuQoJUV8sqpilY3Z/E/qkSdo8V8PxN/ZF/5sScAccl0DUZAzX8/CqxbA/92XjTn+2dxPL9zbqEZFwLFJ/56vSheSsAPLqz9Y3UAJBJqpgr2JgLBB/D3qA94wWoioS+bKzpbxaPEEwEzZVrB6o/LB3P39xaVX7IpnQQyuYnBPj9KfNeZbNcP0vXZNiOh1Jgz+F5tG5maRdH83Q3jNQvJFNHpG71QBKqIsOwvHIz7mL4TdT1Hextp77Y4ny/UIYpw2Y6XqBs3rmna11TkElGs+c4Yl0PFFnCdN4qZ3Pr8cz++Z4rnoOMaQfK6V10Dy9GQleh62x9WhtD8cXx+qWyWowE/UJrBlLMmWGPgGlCtZvh3jk8z8PPf/5zPPHEE+WP7d69Gx/4wAdw3nnn4corr8Szzz7b1ItczsiyhN50jGnEciFLZd4aUjlqH+oGzRVt9Gb0lm2sU3MWCKGIaTL6stVLb65HW+pNlE5oZf8wVsKm0u27Z7iEG8MTddF0YFhu3QeWafP1C3XDSP1C6onUKbKM9UHKv1apLFxbu87gQcmqL7b4HGe/kD+9115jVhZ60jEQym/PoWsKDl/nl7pYDwBRLThsm6AnrTfkQdgJaKqMVJ1pyRCeJupa8JqzhpIly3WkPoRbZ+jv/u7v8Pd///e47777AAC5XA5vfOMb8ctf/hKHHHIInnzySbz+9a/Hvn37WnLBy5FQJ4O3d2ipzFsrCUft9060LhtUSVlfqC9ZM+1OKUW8hZu7qsjozcS4TsyHrs4grisomi721lFHXoiuy8gXbRQMp36/0FgBlAL9mRjTqHw3jNQvhEWkbt62oPZaKzJqTgeyiC16hJR/Dksw5LgeNEXuimycXypTIhk1z2dD64/YE0LLASWP2CIhFJK0fMxCM0kdrlc/8NwQNFGPzxiR9KBCeMUWLdcLJC665/AUBa5d7Ctf+Qr27NmDm266CRdffDEA4Gtf+xqmpqbwz//8z7j55ptxxx134KijjsItt9zSkgtejiTiKhIxPqVj4EDz1keXQHMICJosMzr6GtAN4mF8tr4nWVi6arX+RTapQ5LBnIVTFBlHBforvK7ecU2BYbu+6F8dscWwiZelRNYtI/ULYRGpCzcLFvHFoulUzXzMiy1WX/f9kyU4LkEiptRsVg0xbQ+JIMjodOYDf/5s81EbeiFJvhxG6IhejZGpYllBmkWjKaQsT9Bl93A1/BH7+ofhdELDQJAdr3ePV8NxvbJUyVrW5mmbIJPo/ixcPbh2j1/84he45JJLcNZZZ0FV/Rvx7rvvRiqVwkUXXQQAUBQFr3/96/Hb3/62+Ve7TJGD8W3b4bfXCEtlO5fAvDVEkeUlm0IaZ/Ak85vPlZpKwc0gWVbp5SiVVfg28eivKIoM4oGpsZ6nX6ibRuoXUk+kLiyTzeStmhM6mqrAcWnVwGpebLH6upcFLoczTI3CnWTMykI2qftlSc5sdTKulu/DetmhcKT+0NVsPVchpu0hm+o+1elqxHU/SF6KUtn+qRIo9QOrLMPUKaUUBBTJRPc9L3jhupv27t2L5z//+eX/n5mZwc6dO3H88cdDUeY3ouHhYUxNtdZIdLmRivu2AzxKx8DSmre2g3IwVMuTzKXQVKmuh1SjyHIYtLIHQ4evy0JVZMwV7XJfDyuxmAxFkWpuoJbjlcdkmZqnw1NeF4zULyQUqat2go7ravk+qXVyVgMPLrvKe41HbJE1G6d0mUZLMqYiyRn4hzwvKJVtq6NGXe4X4iiRhfIEtTR0ug1ZlpBJ6LCZfMoaa6IeqdAXYgnMfbPX5T1SH8K1eyiK8v+3d+ZhUpTX/v/WXr3OArOwioIDyOYQh0VUFuVqFNCweeOCF6OJKwkxBvm5JiZyNaCJEjQq6I2JN6goEaMmLleNimwaDLKJbLLNvi/dXVXv74/q6lm7u7pn6enu83keHqG6un3nna56T73nnO8XmtacytmxYwcYY5g0aVKr8yorK+F02t/2JABVEeFQxZhdtYGeNW/tSXwBHVVBk9iInmS6AYcs9sg2rtshQYxBpVcSBQwbaN7sY02VuVQpqo7Kt8F6oSxPdLfvUEt9kj7lNYvURbfmiF5EHX5nqK4pstiirhuhz7ejL9QU0OFQepcxazSswN+udUlLhgd3Q4+V1IfdoQtoemgOz4iheNqvmfIEvVHBuzO4HCIMRLfmsOriTgTTtLFyoiyoL9TXrh+ZmQruzR2QXUVMwdCZZ56J7du3h/797rvvguM4nH/++a3O+/vf/46CgoKuGWGaYHkDBeK4+fSkeWtPYu0KeZxSxIVE01mPPXVbKr2x1HeNjKGoNFaa0zXRNVqSsaW+JZZInS3T1ijXgSjwaGhsv1AHNANN/shii8fL6hHQDDgVEbmZ0euFfP7eZ8xqB5cqBU1yY9sd8rrkUHHuvqNVHZ5ztKQOusHgdUrIjtAl2hafX4dT7d3yBPGgKqLpKRYlwMnyKHA7JBgGC3WFxUJIeToGsUWPU0qa9G5niCkYWrhwIdauXYvf/va3eOyxx7Bp0yZMmDABQ4cOBQD4fD48++yzePPNNzFnzpxuGXAq41TNPHisEX9Pm7f2FFYwlBNtwWHosTZxS6VX06M/xVmcOTADPM+hrLoJpTb1V+wSS/F0MrbUt6WlSF1HDArWVJysaIi4eyeJPBp8ertWfUtsMVL9WcsarWiLhDXO3mbMageHIsDliC9V1iwrUdXh64dONHeRxbLQBpKwE9IOimQWhEerG+I4LiZrjpY0NGmhovb+UayNgGBjCgc4leT77sZDTMHQ3LlzcdNNN+H555/HH/7wB4wePRqPPPJI6PVp06Zh1apV+O53v4sFCxZ0+WBTHYciwKlKcbW09qR5a09R0sKgNRymMB6idlx1JSGVXpvzrCoiTg+mU8ItDvHgD+ihGgA7wVAyttS3JZpIXYZLRoZLBmOI+OQcEl9sU6cRi9iinZZ6q1sqGdM6li9fQLMf+FtYfnyHT9Z2uIsajwWHqXfDp+zi7HXJEQ2JLawi6mi7n22x7hV9vPY6gdPBgqMlMa8gt912G7Zt24ZPP/0U69evR15eXui1m2++GWvXrsWqVau6dJDpgrnrYO+CaItl3qrpBnYdquiG0fU8JZVmfjti8bRuQBSFbvEkC4csCchwx/bEPPK0rk+VmdYTQKZbRqY7cqohWVvq22JHpM6O3pAo8NCN9krU0cQWtRb1Qra695K888mlSlAkPuZ7Uh+vitxMBwzG8HUbDbSGJi1U9H+6jZori6aADlURU1bvxhQWDb/raRGqiyuti0kYM1Zz1lTYSY6FuK5QSZKQnd3eG2XRokU499xzWx0zDAOLFi3C4cOH4xpguuFySJAEPuY8vWXeCvSc5lB3whgLSfpH2hnSNFMPpqcXG2/QiNbuzWh4UG/oZHkDquoi66/YpWV7dzSSuaW+LdFE6uzqDXHg4As071rYEVs8XlYPTWdwqSJyMiP7OqVC55PlyxePyJ+VKtvT5gHg8ClzVygnU+3Q9Dkc/oAZWKaq3o0qm4XK0VJluZmOkHF0caX9DtWQ2KLNeqGAZsT0+0l2un0FYYxh69atqK+PvdgrHVHl+PP0Y4f2Ac9xIfPWZKauMYBGnw6OA/pmRN4ZcihCjxf4uRwinDF0/7kcUuiJLlavsnDEUi+UzC31bYkmUmftDB0rifzkLIoc6hubf392xBYPn7RfL2QZsyZjiqwlsfryWVhq1N8cr2mV1rT0hWJJkRkGAzguKWuv7CIKPNwOKWr6nee5UMBvt2GGMRbTzpBhMHBJJgfRWZJz7zaF4TgOGe7IHTPhSIR5a3dhqaRme9SIytK6zhKy2yHwPDLdsdlzhFJlUfRX7GDWC9nTF0r2lvq2RBOpCz05a0boe9QRksijKaCHrrWmGMQW7dQLJYMxqx1cqhS054jtAS0v24FMtwxNN/BNUFMIiE9fqMmvQ03iTki7uB0S7OhcDrZpPWNRXedHQ5Ppc5ifFb2t3hcw5ztd6oUACoZ6JS5VCqrkdsK89ZueMW/tLuwUTzPGwHEcpAQtNm5n0FPOZuBqqVEfLa5DXWOgU//vY6X1MAwGr0tGpjvyVnayt9S3JZpIHc9zGJgb3bRVFgUEgt1jgGl4G0lsUdMMHLP0hWwWrHucvd+YNRqSyCPTFVvgD5jzOKJNrVxVnQ8VtT5wHDDERnrXwkqRJWvtlV0cihiUM4h8T2nZUWZnx87aFcrLckC0UV/pD+ghz8x0IX1+0iRClQW4VDGuVFnIvLWp58xbuwM7wZBuMIg816PF0y2x7DkimX62JMOtoH8f86ksnP6KXY602KGIlq5JxUJIZxSRuma9ofDtxzzPQTeaxRfrG7WIYovHSk1tHLdDQp+MyPVCljFrsqfILNwuCeDQToogGtYDwP5vq6HrRihFNqCvC4rNXQfGGHTG4Hakfv2KaYgavcW+f18XBJ5DfZOGiproNYgxO9XrLKVTkh1BwVAvxOwqU+JKlbU0b92xrzRpFant2HBomgFR5LvdoDUcza3H9n9PbZ+U4yUWscVUaKlvi0OOLFIXSiOU1EW8BnieQ6NPQ0Az0OjTItcLxaAvlEzGrHZwqaaCdqwPaINy3WYdTEDHoVO1caXIrNqrVNnZjATPcfA4pajde6LAhwqhj9owbT0RQ72QrhsQBA6OFO3aCwcFQ70UpypCisH2oSWFBX3BccDBEzXYtre0G0bXvRgGC4kTRtoZCugGFElI6Fau2yFBttEBYmEFQ4dO1qIpjg4dwNx1sKsvpKVIS31bZImPKFI3IMcFnuNQ2xBAdQQDY0nkUdcYQJNfg18zIu6exVIv5A8YyEgiY9ZoWDVysWqYcRwX6qTce6QyLn2hVKm9sotTlcAhesG6XfFFw2AhKQM7nWS+gA5FEqCmQOdpLFAw1EtRZQFuh4jGOAQU+3hVXPSdgQCAv289isMna6K8o3dRUdME3WCQRB5ZnvA1F5rO4EhwGkKRBXidEhqb7AU2fTNU5GSqMBiLO415rLQeusHgcUoR5wcw7QtSpaW+JRzHwRNBpE4SBeQHU5KRxOkkkYcvoKOm3h9RbDGgGTheagag0YIhy5g1mbzI7OBxShDiUMi3Wuy//KYc9U0aJJHHQJvt3UDq1F7ZxSELkIKt85EYnGvPwb60qhEBzYAs8ejjjZzeBQBf0IIjFTpPY6FHgqFUeTrqSaxUWawu9haTRuVh9BnZYAx45YODqO4ibZuewNIXyslUI353DINB7QVPixluJabW4xGd9CqLpV7IH9BTpqW+LQ5ZABdBpK7Z4TtCMBQsgK9r8EecI6teyGPDSysZjVnt4FBEuFURDU2xFf8PyfdAlYWQNtTgPLft3dxAUHU61XY2IyFLApxK9N3mQblucBxQWesLa4gLtBBb7OOydR8wjOTWxoqXuIMhn8/+4pqsdSuJxqmKkKX4UmUcx2H2uachP9uJBp+G9e9/E1d3WiIoDhVPh28BNTvJkLB6oZa4HWbrsd16CitVdqCN/opdWnpjRcIU/Uudlvq2OBQRaoQUZaiIOkIwxPMcGIIddzb0hWwVrPsNeJLQmDUaVo2c3ZSwhSDwOHNgRujfsaTIfP7UVp0Oh2lIHHndVGQhVFMZaXcolnohK/hMlVq3WIh7JZkwYQJuuukmvPzyyygpKQl7niAI2Lt3L0aNGhXv/yptUWUx7lQZYKYKFs4YCqci4lRFA9749EhSBKalVjAUwaDV1IMRIhpq9hSiwCPTY7/1OD+M/oodNM3AsWC6JprytJn7T92n6pBIXZRgqKSyMWJ9FseZRdSRlKcP2wxArV0qd4p24ridEpQIGk/hsDS2AOCMWIKhgI4Ml5yyqtPhcKgiBD56957lU2YnGLJbL6Qqou1Ov1Qi7mBo2bJl4DgODz30EKZOnYp58+Zh9erV2L17d1eOL+3JcCnQ4jBKtMh0K5g/7QxwHPDvgxXYsru4i0fY9dhpqw9oDJLIRVzAehKvUwbHw5a2U0f6K3Y5VlYfau+Omq7x6XCqUkq11LfF7ZCgh7HmaDlH35aGV8BXZAE+vwYpTOrGH9BDqYZo9ULJbMxqB1UWkeGSbdfIWQwd4EUfr4J+fZzIyw5/XbfEquFK1bmMhCqbUhhtjYTbEq2IOqDpoZ12O231AateKM2CT6ATwdBVV12FJ598Elu3bsWzzz6LoqIivPnmm5g3bx6mTp2K+++/vyvHmba4VAmyxMMfZ+0QAAzp58V/FA0CALyz/RgOxrgb0ZP4Azoqas0UbMS2et2AQxZ7zUVraQ7ZTpW10V+xy5EY2rsDuoGMFGupb4spUhde+LI5VRa+48apiMjv4wo7n5YhptclRy1Yb/KnvlhdlleFbsT2gCaJAm6+YjRumDXSdg1pk9/sakrVnc1ICDwPryv8rqeFVURdXNloioa24WR5AxgzHww8zsi7lZZSfarVutml01esJEmYMmUKrrrqKixevBjjx49HcXExXnrppa4YX9qjyAI8DinuNmyLCSNzMW5oHzAGbPjwG1TW9s6C6tLqJgCmronLEf7i1TTWq54YeT62eopW+isnI7fGtuSIzfZuLdjRlOoLiSILEdM2dm0LIi3QduuFLGPWVDe39Dhl0w4lxvQ9z3MxNdP4/GaKLJUDy0i4VDmqEbTbKSE7GKB/W9J+9/NEC7HFqA9PmgFJ5KGm+D0jHHF/yw4fPoyXX34ZP/vZzzB16lRcfPHFePjhh+HxeHDXXXfh1Vdf7cpxpjVel+nS3Zl6H47jcNnk09C/rxONPh0vvX8gruLd7sZOigwAGBikXlAv1BK3Q7KtDcVxHIYHd4fsepVpuoFjpeaiHk1s0RcU/Uv1YIjnOHgjtNhbO0MnyurjtqexG4D6tdQwZo2GLAnIcMtxKeTbxdqlcEd4IEp1HIpgy5YpUqrseNC/sL/NeiFTzDQ9g8+4r9pLLrkEHMdh1KhRWLRoEYqKijB69GjwfHpOZHfickim8WTA6FRhmyjyWDh9GJ7ZtBvFlY14/ZPDmDf1jF4lfVBSaV68kYIhw2AQeA5yL6kXslBlAR6niJqGgK06nRGnZWLHvlLsPVqFSyeF17ixOF5WH5TJF6PaQfgDOjJcCvgIreepglOVwNDsVdeSPhkqHIqIRp+Gk+UNGJgbXbG7JbEY4jb5dWQ4pbQQB8xwKThV1hBRm6kzpJqfXjyYKUIBTX4t4oPfoDwP/nWgvMPdzxMx2HAENAO5mVKvWg96krhXkwULFmDQoEHYtWsXXnrpJbzyyit4++23UVqafIrHvR1FEuB2SGjsICccK16XjAXTh4LnOOw+XIlPd53qghF2HSU22uoDugFRFHrdE4ypDaVC0wxbu3iW/kpDkxax/dvCbr2Q1VIfrUYgVXAEi007qqvjOC6UKrMzx205WlIHgzFk2KgXSidxQKcqwqGKXXJP6ogmvwZ3UFokXeE4Lthib6+I+kRZfavauYamQKgcwvJEDIdhMHDgEi5im0jiXk0efPBB/OMf/8D777+PH/7wh2hoaMCKFStwwQUX4NJLL8UvfvGLrhxn2pPhVmDEWLQYjsF5Hlwy0Syofm/HcRzoRYauoWAoM/zOh6aZmjC9sZbApYpQZdFWPYXA8yhoYVUQjZjSNRIPZ5qkGEIidWHmfJAN8cVwhOqF+kWec0ufJdVTZBaiwCPDLcdcN2QXTWcp56cXDw5VBIfIu7vZHgUuVYRuMBwvb64bslJkfbxK1Dogv6abO3EpplQfC51eTfr374958+bhoYcewsMPP4yLLroIBw8exF/+8peuGB8RxBRgFKNKtNvlO8NzML6gLwDg1Y8OorymqUs+tzPUNwZQH2zZzYmgMRTQDDgUoVdu55r1FPa7ykYGrQr2HK2KGOjquhEqkIyWrvH5zZb6dEjXWEQSqWspvhjrw4RdP7Imv5ZSxqx2sJTNtThrscKRjqrT4XDIImQ5ch0ix3EhvaGW1jOxiC36AgZcqtArRGwTRad+8l27duHpp5/G4sWLUVRUhBtuuAEnTpzArbfeivXr13fVGAmYqTKvU0JjJ7vKLDiOwyUTB2NgjgtNfrOgOlYhta7G0sPI8igRt8d1g/XqJxhvMFVip1bnjP4ZkEQeNfX+kJliR5j1Qgacqoi+UeqFNC31W+rboirhRer69XFC4Dk0NGmoqLHfRenz6zhZbk9fyB8w57w3BujdhVMV4VS67p5kkY6BZTgkkYcrgiGxRUdF1MdjEFvUNAa3I73uGW2Je0WZOHEiampq4HQ6MWXKFNx3332YOnUq+vbt25XjI1rgccoorW7ssFA0HkSBx4LpQ/HMpj0orWrCxn8ewsLpQxN2Q7fTSWb97FIv3vVwOZrrKVxRlIglkcewARnYc6QSe45Uhn2KO1JsdZFFrhfSU9SlPhoOpVmkzqm2fsYTBR4Dclw4WlyHoyV1UYvPLY6W1IIxMzjPcIevBQoZs6ao6nQ4eI5DtkfB0eLwvljx4A8YyMtKr8AyEh6nHHXnPrQzVFJv1v9wwIlSeztDumFA4JG2LfUWce8MXXHFFVi3bh22bNmCxx9/HPPmzaNAqJtxqSJUKfpTQix4nDIWTh8Kgeew72gV/vnlyS777FixDFojBUO6wSDyXK8rnm6JwPPIdMu27TmsVNneI5Vh0zh2/ciagu2x6RYMRROpC6XKwij1doRVL2RrzlPQmNUOLocE0aachB10wwiqTqdXYBkJhyJAFPiI6ci8LAdkiYcvoKOkshFVdX40+DTwPIf8CM0oQHPnXrrvxMW9oixfvhyTJ0/GkSNH8Mc//hErV65EcXExtm/fjrq62AsViejIkgCPU7K9yNplYK4bl04+DQDwwRcnsO/bqi79fLtYbfWRlKcDmgFR5Ht9btvjNMXiwikjt+TMgZkQeA7lNT6UVbd/AtQNI9QJFTVd4zdS1qU+Gi5VBgsz3XZMW9tit2A9VY1Z7WDJScTrn9gWn9+0M3GkmTFrJFTZTBlGegjmeQ6DcqxGgdpQvVB+lgNilHulLw1U0+0Q909vGAbuuecezJo1Cw899BDWrl2LsrIy/P73v8cVV1yBU6d6V8t2quB1ydBZ13SVtaTwzL4oGpEDANj40SGUBXdpeopvS+pQUmkGApEMWgOaAUUSev2Fa9lzNNiop1BkAaf3N80r93TQVXayrCFYNC4iJ0KXnSVUl6ou9dFQZQGiyHcoUmcFQ+U1PtQ3BqJ+VpNfw8kKMziPFAylujFrNDiOC/on2pOTiIbPbyDDqUAgvboQPM/B45Dht+1TVheqF7Ijtmh5HaY7cX/j1qxZg02bNuFXv/oVPvnkk9CFsGzZMhiGgccee6zLBkk0E0qVdUNL639MGITBeW74AjrWv/9Nh143XYlhMHx1qAJr/7YHz7251/QbUwRkeyO01etGUmhhcJxpzxFNI8RipKVGfaSq3WvNjunuiHUU/qDkQLrm/lVZCNpEtJ9zhyKGgmxbmk7FdWDMbFuO1OKd6sasdnA5JChy59P36R7MR8LpEGEg8kNwSwf746X2xBY13ezcU3txQ0pPEXcwtGHDBixZsgTz5s1DZmZm6PiIESOwZMkSfPLJJ7Y+xzAMPP744zj//PMxbtw4XH/99Thy5EjY8ysrK3HHHXegqKgIRUVFuPfee9HQ0LoLZ8aMGRg+fHirPz/72c/i+jl7G5Jopsq6alu6JQLPY8G0ofA6JZTXNOG1jw51+Q4UYD51b951Ck9s+Dc2fHgQx0vrIfAczh7WB4u/OyJiuoExQO3FxdMtcTtMx3g7i0TB4ExwHHCqoqGdb9yRYJ3LaXl2WurFtGqpbwnHcfC6pKjWHHb0hkIpsij6QulgzBoNq9O1yde5FntfwDRmTefAMhwORYQsChEfrgb0dUHgOdQ1BkK2PdGKp30BHYpM9UJAJ7rJysrKMHLkyA5fy8vLQ02NPWf0NWvW4C9/+QtWrFiBvLw8/OY3v8GNN96IN954A7Lc/olsyZIl8Pl8eP7551FTU4O7774bv/jFL/Dwww8DAOrq6nDixAn84Q9/wKhRo0LvU1V7HSTJgNclo6y6qcu6ylrickhYOGMYnn9rL74+Vo0P/nUC0wsHdMlnV9b6sHV3Mb74uiykFuxURJwzIgfnDM+FO4pissEYOKDX1wtZKLK5SFTW+qIGKC5VwuA8D46cqsXeo5WYPCofgLl7ZmmHRCvk1TQD3hQ3CY2GU5EArmNrjkF5buzYX9pKiyUcdoqn08WY1Q4ZLhnl1U2dsucwjVmVXuc52BuQRR5ORUSDL7zVjyjy6N/XFdTTAmSJjyrDEQgYyMpU07LerS1xryqnnXYaPvzwww5f27p1K0477bSon+H3+7Fu3TrcfvvtmDp1KkaMGIHHHnsMxcXFeOedd9qd/8UXX2Dr1q1YsWIFRo0ahcmTJ+OXv/wl/vrXv6K4uBgAsH//fjDGMH78eOTk5IT+eDyRF5JkwqVKUGQBTd2k/tq/rwuzzh0CAPjnzpMd1rHYhTGGo8W1eOn9A1j96r+xZU8J/JqBnEwVs849DT9eMBbTCgdEDYQAc7GXRB5yEt0sM9wKDAZbO2zNXWVVoWMny+vh1wyoshCxsDzUUp/mT9UORYASZjfO2hk6WdEQ0fyy0afhlI16oXQxZrWDmSrr3D2JVKfDw0UxJLYY3MLAuX8Up3rGGHTG0v6eYRF3MHTdddfhj3/8I375y1/i008/BcdxOHLkCNatW4d169bhqquuivoZe/fuRX19PSZNmhQ65vV6cdZZZ2Hbtm3tzt++fTtycnIwdOjQ0LEJEyaA4zjs2LEDALBv3z7k5OTA6/XG+6P1eiSRR4ZL6jYpfAAYO7QPJp6VBwDY+M9DIQ0gu+iGgV0Hy7H2jT14/q192Hu0CowBQ/t7cdXMM3HT5aMwviAnpl0ev9VJ1ssMWiPhdkhQZcGWIvXwwVkAzJqW2gZTuyVULxRFXyjUUp/muX9JFOBSBfg6WDQy3TI8TgmGwUJWBR1hCdf18aoRd32a/DpcjvRNS7ZEFHhkepS4O10Dmg5JTG9j1mg4FBFcFOPllsGQvXoh6tyziPubt2DBAlRUVOCpp57Ciy++CAD46U9/CkmScMMNN+D73/9+1M+wOs769evX6nhubi5Onmyvd1NcXNzuXFmWkZmZGTp///79cDqduP322/HFF18gOzsbc+fOxaJFi8B3skMhWotirAjBOgMhjnqDTI+K8hofOJ4D303iZBdPHIySykYcOlmDl94/gB9ePirqzarRp2H73hJs3VOCmnpzQRcFDmOH9sXk0XkRDVgjIfA8/JoOV7AOJ1kQRR59Mxw4WVEf9fec7VUxIMeF46X1+PpYDYpG5oacqE/v7434fl1n6JuhQA7m/jvz3Up2Mj0qquoDHf7sg/M8+OpQBY6V1mPogAwACHUuWf89EppzT8T5YwzI8kZvXU4lIn2vsjwKyqqaAA4xd4PVN2nwOEW4nanjmt7V16DbKcGlitAMBkeYe+Bp+V5wABjMndBI/+8GnwaXQ4TLkfg57w33q06F4T/60Y9w9dVX44svvkBVVRW8Xi/GjRvXqqA6Eo2N5m5D29ogRVFQXd3ePLSxsbHDOiJFUeDzmUWnX3/9NWpra3HppZfitttuw/bt27Fy5UpUV1fjxz/+cYw/YTM8zyErK3qbYjx4veHTH+Fwe1RUN2rgOC6qynFnuH7OaDz64g5U1Pqw8Z+HcOPlYzrML5dWNuCjfx3H1q9OheqB3E4J543tj3PH9u+SuoqGqgYMzM3ott9Dd8FLIur8OpxOJWqhbWFBLo6XHsL+Y9WYds7gUOfTqKF94fV0/D1hjMGnAwPyM5DVphMvnu9WsiMpEiobNDiDWk8tKRicha8OVeBkeUO7+XS5TJVpKwA96/Twc+7XdGRxPAbke9NSILCj75U3w4lan25qXcWY7vLpDIP7ZyA7O7mubTt05TVY5zdQWtkIr6fjWiCvBygcnosjp2ow9sy8iCkwv84wKN+D7Gx32HN6mkTer2IKhpYvXx71nLfffhuAmeN86KGHIp5rFTX7/f5WBc4+nw8OR/tJUVUVfn976Xefzwen09xxeO655+Dz+eB2m7/g4cOHo76+Hk8++SRuv/32uHeHDIOhpib81no8CAIPr9eBmppG6HGYHQrMQElFI/QIrehdwZUXDsPaTXuw90glXvvga8wsMh3vGWM4fKoWm3edwv6jVbA2b/OyHJg8Oh9jhvaBKPBguo6a2s7pFllPmn6fH5XxlzAlBMNgYLqO4rLaqEHh6f3M7+2Bb6vw5f5iNAVF6NyKEHYOfX4dfk2Hr8mPSt1MU3T2u5XMGAZDwB9Aqc/f7kEhN6jTdOhENapqGsBzHASeh8uloL7eh9oGX0iwLi9LDTvntQ1+OGQBTQ0++Bq71o6iNxPteyUwhrLKOjDD/qKmGwYaGgII+AKorKyP/oYkoTuuQSOgobqmASIXPlV2+XlDAACBQACBQMeaWgZjqKv3IdCk9oo57877ldfrsLXjFFMwtGXLlqjnVFZWorGx0VYwZKW8SkpKMHjw4NDxkpISjBgxot35+fn5ePfdd1sd8/v9qKqqQl6eWd8iSRIkqfUNsKCgAA0NDaiurkZWVlbUnyEcdtSE40HXjbg+26FI0PQGBAJ6t3YD5GY6MHvKELz60UF8/OXJUIfCZ18VhwpNAWDYwAxMOisPp/drrm/pqi+2KdMvQOC4bvs9dCdep4yjxbVRLRuy3ApyMx0oqWrEP7YeBWDWATDGoOsd3wAbmgJwO6QO5ybe71ay41JElFY1tpNhyMlQIYk8mvw6TpXXI69F2lY3DBw8YXbB9s1Q4ZCFsN/fxiYNfb1q8HfS9fITvZ1w3yuHLIIHhyafZrsesL4pAFnkIQnJeW1HoyuvQUngY57fjvAFdAgcB8mmSn5Pkcj7VUzB0Pvvvx/2tUAggCeffBJPP/00+vbtiwceeCDq540YMQJutxtbtmwJBUM1NTXYvXs3rrnmmnbnFxUVYeXKlThy5EioW80K0MaPHw/DMHDRRRdhwYIFuPnmm0Pv+/e//42+fft2KhDqjbjUZpn27i48HH1GNk5VNODTXaew8Z+HQsdFgce4YX0wcWQu+kZQju4sAY1BdXBJVTzdErdDgiTwoULRSIw4LRMlVY04VWHuSkTTF9I0lvYt9W1xqhJ01tCuxZ7nOQzMceHQyVp8W1zXKhgC7OkLmcaW5J/VEQ5FgMshob4pAEm09530+w3kZaukOm0DRRagBl3sOxUM+XW41OSqv+xuumQF3bNnD+666y7s378fl112Ge69915kZGREfZ8sy7jmmmuwcuVKZGdnY8CAAfjNb36D/Px8zJw5E7quo6KiAh6PB6qqYty4cRg/fjyWLl2KBx54AA0NDbj//vtxxRVXhHaGLr74Yjz77LMYMmQIRo0ahc2bN+PZZ5/F3Xff3RU/aq9CFHhkuGSUVDb2SBfGjPEDUFzRgG9O1MDtkFA0MhffKcjpkdZiTTdtOCSBD7tD0ptRZQFup4TaxgAyogZDWfhoZ3MDQSStG7OlHtQe2wanIkISTJG6tjf8wXkeHDpZi6MldThnRG6r1yx9oUgt9U3+9DVmjQbHcch0K6iq89nSQbMkJ1xkB2ELnuPgcUo4WR4AOvHsGdAMkjFoQ6euZk3T8Pvf/x7PPPMMMjMzsXr1alx44YUxfcaSJUugaRruueceNDU1oaioCGvXroUsyzh27BguvPBCrFixAnPnzgXHcVi9ejV+8Ytf4LrrroOiKLjkkkta1TLdcccd8Hq9WLVqFU6dOoWBAwfi7rvvxsKFCzvzo/ZaPE4ZxZWNnRI7swvPc/jPC4fheFm9qXbag5X/Ac2AU7W6HpIvGLIWicra6ItEXpYDWR4lJNaYnx2+A49a6jtGlng4FAFNfq1dMNTsYN9afLG+MYCSoCdfpADU5zeQ1YeE6sLhdkhQJMHUYYqy8+Dz65AlAU5q77aNU5XMjrE4RXcNg4HjOVKdbkPcd9Ddu3dj+fLl2LdvH+bMmYN77rknLm0fQRBw55134s4772z32sCBA7Fv375Wx/r06YPHH3887OeJooibb765VZoslXEGU2VNQSuG7kYQ+JAHTk9iGCyYlki+QMjC1BwyfeUi+YdxHIcRgzOx+atiDM5zR1x0/X4DWVm0MLfFNBCVQ3pNLRmQ4wLHAdX1ftTU+0MdeJamU26mI2yHZrobs9pBkU3LIDvK600BHdkelVSnY8AhC5AkAf6AASWOgMYftD0hTafWxDwbmqZh9erVePbZZ5GdnY0nn3wS06dP746xETYQBR6ZLgXFlQ0pq4RrbaXLEg9EUA7u7ciSgAy3hNLKpqhmqueN7QfdYBhfkBP2HDK2jIxDEcGBa7drau22nSxvwLcldaFg6NBJs3g64q5Q0JiVFpLIZLgVlNVEtwzSdZBjeoxYO2l1jYG4giFfwLQ9SWc/vY6IaTa++uorfO9738Mf/vAHzJ49G2+++SYFQr0At8u8mURSJk1mdJ1BFPiUUPr1OhUwRP9dORQRl0wcjNwIFhzp7lIfDYciQpYF+CNYcxxtkSoL1QtFKJ62jFmTxR8vUbhUCQ5ZjGjP4Q8WAVNgGTtep4yAFt/9XtfJT68jYvoWLly4EIZhwOPx4Pjx47jlllvCnstxHP7nf/6n0wMkouNUxKAvkJaSHS4B3YAkcqYDfOfkihKOyyHCqYpo9GudFsv0BRfmVAgSuwNR4OFxSKisbb8TNzjPja17SvBtiRkA1db7UVoVuXuPjFntY1oGRW7u8AV0OBWJalfiQFVECLzV2Wg/MLc8DFWq0WpHTMHQ+PHjQ3+PZjxpx5iS6BosX6BT5Q1wdq/+YkLQdAMeJTW2dQWeR6ZbxvHS+k4HQ9RSHx23QwoFOS2xdoaKKxvR5NdxvMwMivKyHGHTzWTMGhsel4ySqvDNHf4AQ362nHAriGTEoQjmw6HfgFO1f1/0BQzIokABaAfEdFW/8MIL3TUOopO4HRI4Dj3SVdbTmJ1kqbMAeZwyRKERWtB4Nh6opd4eqiyawnK60SqY9jhlZLplVNX5caykDt8ExRajtdR7aCfONi7VlB9o9GntWud13YAgIKWu655E4Hl4XRJKq5pimkNfQEdOJmk6dQTNSIrgUkU4FDP9kmowhpRagByKCJcqdep35aOWeluoigAlKEzaFqsr8mhxLQ4cqwIQuXha0wxkBP3LiOiYu6BKh3VDJAnReVyqHHOdqGGY7yPaQ8FQiiDwZo7e5+s90updgdmNEuwkSxF4jkOWR4E/EP/vyuc34HHIKbcL2NXwHAePS4bf336urVTZ7sOVKKlsBIfwwVBAMyAJPO1kxIjbKUHswPLBFzRzpe9v/DgUAZIoIGCzw9b8DpO+UDhSZ4UhzFRZsKguVQhoBkRBgJxiOiQuh2jm/DvYsYgGtdTHhksRwdC+jtEKhqyaovw+zrDFvk1+Daoi0kISIw6luWHAgrSaugZTK8isG7KDP6BDkYW42vHTAQqGUghnMEcfqZ012dCCnWTJ6kkWDlUW4XVKaGyKPVVGLfWxoSoiZJFHoM3uRE6m2iq4iVQv5A8YyHRTsW+sdLQLai3K1FLfOTiOg9cpw2/T2NQfCO7G0Xe4Q1JrhUlzBJ5HhluGL4WCoYDOTCfsFLyAM9wKDBZ756UvqDaeSnVU3Ymlttv2IYHjuNDuEACc3r9jBX0yZu0cLlWCJDbrPVmF6KTV1HkcqggO0XXLGGMwwMhPLwL0bUwx3A7z6TVVUmW6xlK2TsOlSiErlVgIUEt9zHhdcrudIaA5VcZxCGsz0xS0T3GQNktcOJTgLqhPA2MMukFaTV2FQw4Ki0apGwpoZks9FayHh4KhFMMZdNNu8qXG7hADS1nfIkk0rVQaY/hdWS3J1FIfGw5FBM9z7Z6ghw3MAM8BZw7KDJu28ftNh29qR46fDLcCzWDwawYkUaDAsouQRB4uRYyaDbBsZFKpEaWroZlJMXieQ4ZbTom6ISs9kcoXsMdl6kPZ3cmjlvr4UGUBSgcF6/nZTtw6dwyuu/SsDt9nGGaxOhX7dg6XKkKVRNTU++GiFG+X4nHK0PTIabKAZsDrpJq3SKTuKpPGuB0yBJ6Drid3qkzTGERRgJzCtQUuVTI1h5rsBa/UUh8fosDD7ZA6fILum+kIWw9Exqxdg2VSzAwgw0WLclfiUARTviDM/d6sSeToOxyF1F1l0hinYgkwJvfuUEA3u6ZSwYYjHDzPIdMt22qxp5b6zuF2SIj1+cBHxqxdhsepwOuSKMXbxaiyKfkQ7h7iC+ihNnwiPHSFpyDmAqskfVeZphlwKELKP0V6nDIkgY8qnkYt9Z3DoYiQBK7DQuqOIGPWrsXjkJCbFV7LiYgPnufgcXQsLAqYLfWWQCMRHgqGUhSPU4Iii6iu8yWtaa5usLSojVFlAW6nhIYohdTUUt85FFmAqoi2hS79wQ4cakfuGnieQ7ZXTUmZjETjdIgwwDq811P3qT0oGEpRnKqEwXluqLKIihpf0tUPmTYcHKQ0WPg5ztzJ0zQjYuBKN7XOwXMcPE7Jtg1KkxV8kmIv0ctxyCJkUWi362kad4N2k21AwVAK43XKGJLvRR+viqo6f1KlzXSdQeS5lC6ebonbIUGVw7fIUkt91+BUJXCwJ3RJxqxEsiBLPJwd7Hpa9UJkIxOd9Fhp0hhFFjAoz43+OS40+jXUNviTIm0W0A2IIp82hatWt004SYRQEWQapA27E4csQJKEqLtDljEr1bcQyQBnGRK3+V77AmYDQCo3oXQVNENpgMDz6JftwpB8LwSeR2WtP6p8e6LRdAOKJKTVRex1mvYcHf1ufH4DGU6FWuo7iSwJcCrRDXItY1bqwCGSBacigmsjLKrrDG4HaWTZIX1WGgKZbgWn9/Mi0yWjstYX8grqjQQ0I+1SQk61vcM3QC31XY3XKSOgRX4YIGNWItlQZQFqC2FRTTcgCjylyGxCwVCa4VBEDM73oF+2C/VNGuobA4keUocwBqhpUDzdElHgkemW21mpUEt91+JQRQh8eNVvMmYlkpGQsGgwGPIHdCgSD5VS67agYCgNEQUe/fo6cVqeBwwcqmp9vSptZnaSIW3qhVriccqmmmyLrhBqqe9aTI8mAb4wuixkzEokK26HBD1ozeELGPA4Sa3eLum32hAAzIK7bK+K0/t54HJIqKz12Raj624CmgFRECCnoUiYQ2mfKqOW+q5F4Hl4XVLYuiEyZiWSFVNYlEdAM2AYjHY3Y4Cu9jTHpUoYku9BbpYDtQ0BNPq06G/qZjTdgCRykFLYoDUcPMchy6OEukKopb57cKlyh7uhofosWkSIJESRBSiygPrGACSRWupjIf1WG6IdkihgQI4bg3PdCGgs4arVAd1Unk5XpVq3QzLTOAGdWuq7CcueoK0FSpNfhyKT6jSRnPAcB69LRqPPNBimYMg+FAwRAMyLqG+mA6f38yRctVrXGJxpvBOiyiK8TgmNTRq11HcTlnFl27ohn1+Hh4xZiSTGqUpQZB4ep0TdkDFAVzzRCo9TxpB+XvTNMFWrm/w9nzZjYGlvKpjhVqAbplGok1rquxyO4+B1yvC3qJMjY1YiFXDIAtxOmeqFYoTuskQ7FEnAoFwPFFlAcUUjApofbkfPPGVYbc1yGtYLtcSlSnAoIgyDkQpyN+FQRXBoFrn0BwxIZMxKJDmyJCA/2wlXGu+ux0N6rzhEWHieQ362C0PyPaZqdU3PqFZrGoMoCmnjSRYOSeSR6VLgclBLfXfhkEXIsgB/sG6oKaDDRcasRArgdVI3ZKxQ6EhEJMOtQJYEnCyrR2WtDx6nWdzbXQR0A7KYXjYc4eibqULvRfpPqYYk8nApIuqaTOFRTTPgzXIkeFQEQSQCWnGIqLRVra7rRtVqTTPgVAUq/IO53U0psu7F45Sh6Qx+TYco8HAqVGdBEOkI3WkJW1iq1aoi4GR5A8qrfQBMpWiB58DzHASeb/F3Lq4OKN1gUCX6WhI9g0MRIAg86hoCcCgCVFKdJoi0hFYdwjaWarVDEdHk16EbBjTdgD9gIKAZCGg6NJ1BDxgwDAMGAxgADgwcFwySuOZgyQqYrKDJtOHgIFGNDNFDqLIIVebR6NeQ51XSVtuKINIdCoaImHEoYofpG8YYdINB11kwULL+bSAQDJr8mg5NN1/z+XXojIExAEHlX0ng0754mug5eN5ssa8PpLe2FUGkO3T1E10Gx3EQBQ6mRFD43R2DNQdMzcETg6YbYAB18xA9ikuVICqAUxXBeoc9H0EQPQwFQ0SPw3MceJGDRPX7RC/A65bhcqlobPBBMygaIoh0hFYjgiDSGp7joFLXHkGkNRQMEQRBEASR1lAwRBAEQRBEWkPBEEEQBEEQaQ0FQwRBEARBpDUUDBEEQRAEkdZQMEQQBEEQRFpDwRBBEARBEGkNBUMEQRAEQaQ1FAwRBEEQBJHWUDBEEARBEERaQ8EQQRAEQRBpDQVDBEEQBEGkNRQMEQRBEASR1nCMMZboQSQDjDEYRtdPlSDw0HWjyz83FaG5ig2aL/vQXNmH5so+NFf26a654nkOHMdFPY+CIYIgCIIg0hpKkxEEQRAEkdZQMEQQBEEQRFpDwRBBEARBEGkNBUMEQRAEQaQ1FAwRBEEQBJHWUDBEEARBEERaQ8EQQRAEQRBpDQVDBEEQBEGkNRQMEQRBEASR1lAwRBAEQRBEWkPBEEEQBEEQaQ0FQwRBEARBpDUUDBEEQRAEkdZQMJQgDMPA448/jvPPPx/jxo3D9ddfjyNHjiR6WL2ONWvW4Nprr211bM+ePbjmmmtw9tlnY9q0aVi7dm2CRpd4qqqqcN999+GCCy7A+PHj8f3vfx/bt28PvU5z1Ux5eTnuvPNOTJo0CYWFhfjhD3+IAwcOhF6nueqYQ4cOobCwEK+++mroGM1VM8ePH8fw4cPb/Xn55ZcB0Fy1ZePGjbj00ksxZswYXHbZZXjrrbdCryV0rhiREJ544gk2efJk9sEHH7A9e/aw66+/ns2cOZP5fL5ED63X8Nxzz7Hhw4eza665JnSsoqKCTZw4kd19993swIED7JVXXmFjxoxhr7zySgJHmjgWL17M5syZw7Zt28a++eYb9uCDD7KxY8eyAwcO0Fy1YcGCBezKK69kX375JTtw4AC7/fbb2ZQpU1hDQwPNVRj8fj+bO3cuKygoYBs2bGCM0TXYlvfee4+NGTOGFRcXs5KSktCfxsZGmqs2bNy4kY0cOZI9//zz7PDhw2z16tVsxIgR7PPPP0/4XFEwlAB8Ph8rLCxkL774YuhYdXU1Gzt2LHvjjTcSOLLewalTp9gPfvADdvbZZ7NLLrmkVTD01FNPsfPPP58FAoHQsVWrVrGLL744EUNNKIcPH2YFBQVsx44doWOGYbCZM2ey3/72tzRXLaioqGBLly5l+/fvDx3bs2cPKygoYDt37qS5CsOqVavYtdde2yoYorlqzZNPPsnmzJnT4Ws0V80YhsGmT5/O/vu//7vV8euvv5499dRTCZ8rSpMlgL1796K+vh6TJk0KHfN6vTjrrLOwbdu2BI6sd/DVV18hIyMDr7/+OsaNG9fqte3bt6OoqAiiKIaOTZo0CYcOHUJ5eXlPDzWhZGVl4emnn8bo0aNDxziOA2MM1dXVNFctyMrKwqOPPoozzzwTAFBWVoa1a9ciPz8fw4YNo7nqgG3btmH9+vV4+OGHWx2nuWrNvn37MGzYsA5fo7lq5uDBgzh+/Dhmz57d6vjatWvxox/9KOFzRcFQAjh16hQAoF+/fq2O5+bm4uTJk4kYUq9ixowZWLVqFQYNGtTutVOnTiE/P7/VsdzcXADAiRMnemR8vQWv14upU6dCluXQsbfeegtHjx7FeeedR3MVhnvvvRdTpkzB22+/jV//+tdwOp00V22oqanBz3/+c9xzzz3t7lM0V63Zv38/ysvLcdVVV+Hcc8/F97//ffzzn/8EQHPVksOHDwMAGhoa8IMf/ACTJ0/GggUL8P777wNI/FxRMJQAGhsbAaDVIgYAiqLA5/MlYkhJQ1NTU4fzBiDt527Hjh34f//v/+HCCy/EjBkzaK7CcN1112HDhg2YM2cObr31Vnz11Vc0V2144IEHcPbZZ7d7igfoGmyJ3+/H4cOHUVdXh5/85Cd4+umnMWbMGNx4443YvHkzzVUL6urqAADLli3DrFmzsG7dOkyZMgW33HJLr5grMfopRFejqioA80Ky/g6Yv3CHw5GoYSUFqqrC7/e3OmZdKE6nMxFD6hW8++67+NnPfoZx48bh0UcfBUBzFQ4rpfHggw/iX//6F/70pz/RXLVg48aN2L59OzZt2tTh6zRXzciyjG3btkEUxdBCPnr0aHzzzTdYu3YtzVULJEkCAPzgBz/A9773PQDAyJEjsXv3bjz33HMJnyvaGUoA1rZzSUlJq+MlJSXttgmJ1uTn53c4bwCQl5eXiCElnD/96U+4/fbbccEFF+CZZ54JBdg0V82Ul5fjjTfegK7roWM8z2Po0KGh647mymTDhg0oLy/HtGnTUFhYiMLCQgDA/fffj8suu4zmqg1Op7PdjkZBQQGKi4tprlpgrW0FBQWtjg8bNgzHjh1L+FxRMJQARowYAbfbjS1btoSO1dTUYPfu3TjnnHMSOLLeT1FREXbs2NFqUdu8eTNOP/109OnTJ4EjSwwvvvgiHnzwQVx99dX47W9/2+qmTHPVTElJCe644w5s3bo1dCwQCGD37t0YOnQozVULVq5ciTfffBMbN24M/QGAJUuW4Omnn6a5asHevXtRWFjYStsLAHbt2oVhw4bRXLXgrLPOgsvlws6dO1sd379/PwYPHpz4ueqRnjWiHY8++iibMGECe/fdd0M6Q//xH/9BOkNtWLZsWavW+rKyMlZUVMSWLVvGvv76a7ZhwwY2ZswY9uqrryZwlInh4MGDbNSoUezWW29tpW9SUlLCampqaK5aYBgGu/7669nFF1/Mtm3bxvbt28eWLl3KioqK2PHjx2muotCytZ7mqhld19mCBQvYrFmz2LZt29iBAwfYQw89xEaPHs327t1Lc9WG3//+96ywsJBt2rSJHTlyhK1Zs4aNGDGCffbZZwmfKwqGEoSmaeyRRx5hkyZNYmeffTa78cYb2bfffpvoYfU62gZDjDG2c+dOtnDhQjZ69Gg2ffp09sILLyRodInlySefZAUFBR3+WbZsGWOM5qolNTU17P7772dTpkxhY8eOZddff30r3SGaq/C0DIYYo7lqSXl5OVu+fDmbMmUKGzNmDLvyyivZtm3bQq/TXLVm3bp1bMaMGWzUqFFszpw57J133gm9lsi54hhjrPv3nwiCIAiCIHonVDNEEARBEERaQ8EQQRAEQRBpDQVDBEEQBEGkNRQMEQRBEASR1lAwRBAEQRBEWkPBEEEQBEEQaQ0FQwRBEARBpDUUDBEE0eMkq7xZso6bIIjIUDBEEAQWL16MCRMmtHONbsnll1+OBQsWYPjw4XjiiSdsf3bL8/1+P1asWBHWEb03s2PHDvzoRz8K/fvYsWMYPnw4Xn311QSOiiCIroCCIYIgMH/+fFRXV+Ojjz7q8PW9e/di7969mD9/PtavX48FCxbY/uyW55eUlOD555+HpmldMu6e5OWXX8aBAwcSPQyCILoBMdEDIAgi8cycORMZGRl4/fXXcdFFF7V7fePGjXA6nbjsssvgdrtj+uyzzz67i0ZJEATRPdDOEEEQkGUZs2fPxv/93/+htra21Wu6ruONN97AJZdcArfb3S5N9sILL+CSSy7BmDFjcP755+OBBx5AXV1d6HXr/GPHjuHCCy8EACxfvhwzZsywPb4tW7Zg+PDh2Lx5M6699lqMHTsW06ZNw8svv4ySkhLcdtttKCwsxNSpU/H888+3em9JSQmWL1+OqVOnYuzYsZg/fz7ee++9VucMHz4cf/7zn3H33XdjwoQJKCwsxJIlS1BWVgYAuOuuu/Daa6/h+PHj7VJjpaWlWLJkCQoLCzFhwgTce++9aGhosP2zAcATTzyBmTNn4oMPPsDs2bMxevRoXHzxxXjttddanVdVVYX77rsP5557LsaMGYOFCxdi8+bNAADDMDBp0iT86le/Cp0fCARQWFiIK6+8stXnLFiwAMuWLYtpjASRylAwRBAEADNV5vf78fbbb7c6/vHHH6O0tBTz589v956//e1vePjhh3H11Vdj7dq1uPXWW/HXv/611YJskZubi9WrVwMAbr755tDfY+GnP/0pZsyYgaeeegpDhgzB/fffj0WLFqGgoACPP/44Ro0ahRUrVuDLL78EAJSVlWH+/PnYunUrli5diieeeAIDBgzArbfeitdff73VZz/22GMwDAOPPvoofv7zn+ODDz7AQw89BAC45ZZbMHXqVOTk5GD9+vWYNm1a6H2/+93v0K9fP6xZswaLFi3CSy+9FFNNlUVpaSl++ctfYtGiRXj66acxcOBA3HXXXfjmm28AAD6fD9dddx3ee+89LF26FKtXr0Z+fj5uuOEGbN68GTzP4/zzzw8FRwCwc+dONDQ0YNeuXaEAraKiArt27cL06dNjHiNBpCqUJiMIAgAwcuRInHXWWdi0aVOrmqDXXnsNQ4cOxXe+851279myZQsGDBiAq6++GjzPY8KECXA6naisrGx3rizLGDlyJABg8ODBOOuss2Ie47x587B48WIAgNPpxJVXXomxY8diyZIlAIDRo0fjvffew+eff46xY8fiueeeQ0VFBd566y0MGjQIADB16lT813/9Fx555BHMmjULPG8+ExYUFGDFihWh/9eXX34ZCgwHDx6M7OxsyLIcSvtZwcXFF1+M5cuXAwAmT56MTz75BJ999lnMP1tjYyN+/etfY/LkyQCAIUOGYPr06fjwww8xdOhQ/PWvf8XevXvx0ksvYdy4cQCACy64ANdeey1WrlyJDRs2YNq0aXj99ddRUlKC3NxcfPbZZxg1ahR2796Nzz//HOeddx4+/vhjCIKA8847L+YxEkSqQjtDBEGEmD9/PrZt24ZTp04BAGpra/H+++93uCsEAJMmTcLhw4cxd+5crFmzBrt378bs2bNx3XXXdcv4CgsLQ3/v27cvAIQCAwDIysoKjRsAtm7disLCwlAgZDFnzhyUlpbi4MGDoWNta5vy8/PR2NgYdUznnHNOq38PGjQINTU1Nn6a9rQcQ35+PoDmoGvz5s3IycnBqFGjoGkaNE2DruuYPn06du3aherqapx33nkQBAGffvpp6D0zZ87EGWecgW3btgEAPvzwQ0yYMCHm2i+CSGUoGCIIIsTs2bMhSRLeeOMNAMCbb74JwzBw+eWXd3j+pZdeilWrVsHpdGL16tX43ve+hwsvvBB/+9vfumV8HS3gDocj7PnV1dWhoKkl1rGWQUvbz+F53pauULzvi/ZZ1o6V9VlVVVUoLS3FqFGjWv155JFHAJhptoyMDBQWFmLz5s1oaGjAzp07MXHiREyYMAFbtmyBYRj45JNPKEVGEG2gNBlBECG8Xi9mzpyJTZs24YYbbsDGjRsxY8YM9OnTJ+x7Zs2ahVmzZqG2thYff/wxnnnmGdx5550455xzkJeX14Ojb09GRkaoCLolpaWlAJp3kpIBj8eDIUOGYOXKlR2+PnDgQABmGvBPf/oTduzYAUmSMGbMGBQXF+OVV17B1q1bUVlZ2armiSAI2hkiCKIN8+fPx969e7F161Z88cUXYVNkAPCTn/wEt912GwBzsf7ud7+LW265Bbquo6SkpN35giB027g7oqioCF988QW+/fbbVsdff/115OTk4LTTTrP9WdZOTaKYMGECTp48iT59+mDMmDGhP5s3b8azzz4bmttp06ahuLgY69evx/jx4yFJEiZOnAhN0/C73/0OBQUF7dKGBJHuUDBEEEQrJk2ahIEDB+Lee+9Ffn5+xELbSZMm4Z133sHDDz+MzZs34+9//zt+97vfYciQIRgxYkS78z0eDwCzlmXnzp3d9jNYLF68GJmZmVi8eDE2btyIDz/8EEuXLsVnn32GpUuXxhTgeL1elJWV4cMPP+ww0Otu5s6di/79+2Px4sV47bXX8Nlnn+HRRx/FY489htzcXEiSBMAsBB8wYADeeecdTJw4EQCQnZ2NM888E59//jmlyAiiAygYIgiiFRzHYe7cuaHC6EgBw3/+53/innvuwUcffYSbbroJ9913H4YOHYp169aFFueWuN1uLF68GO+++y5uuOGGiPYfXUFOTg7+93//F6NHj8avf/1r/PjHP8bJkyexZs0azJs3L6bPmjt3bqgtf+PGjd0z4Ag4nU78+c9/xne+8x385je/wY033oh//OMfuOOOO0LdbBYXXHABAHM3ycIKjChFRhDt4Rg5DxIEQRAEkcZQATVBEAnDjkcZx3E9XmvUFTDGoOt61PN4nk94PRJBpDu0M0QQRMIYPnx41HMmTJiAF154oQdG07Vs2bIFixYtinrebbfdhttvv70HRkQQRDgoGCIIImH8+9//jnqOy+XCGWec0QOj6Vrq6upw6NChqOfl5uYmXIKAINIdCoYIgiAIgkhrKFFNEARBEERaQ8EQQRAEQRBpDQVDBEEQBEGkNRQMEQRBEASR1lAwRBAEQRBEWkPBEEEQBEEQaQ0FQwRBEARBpDX/H8Wp0eKFLuiuAAAAAElFTkSuQmCC",
      "text/plain": [
       "<Figure size 640x480 with 1 Axes>"
      ]
     },
     "metadata": {},
     "output_type": "display_data"
    }
   ],
   "source": [
    "sns.lineplot(df[df.New_SDI_since_previous_visit_new <= 1], x='Visit_month_new', y='New_SDI_since_previous_visit_new')\n",
    "plt.show()"
   ]
  },
  {
   "cell_type": "code",
   "execution_count": 210,
   "metadata": {},
   "outputs": [],
   "source": [
    "from sklearn.tree import DecisionTreeClassifier\n",
    "from sklearn.model_selection import train_test_split\n",
    "from sklearn.metrics import classification_report, confusion_matrix, accuracy_score\n",
    "\n",
    "X_train, X_test, y_train, y_test = train_test_split(X_resampled, y_resampled, shuffle=True, test_size=0.2, random_state=43)\n",
>>>>>>> 92d50e0e715539d086474b4ed0648d3be0d32296
    "\n",
    "for id in ids:\n",
    "    df_id = df[df.SLET2T_ID == id]\n",
    "    \n",
    "    first_occurrence = df_id[df_id.New_SDI_since_previous_visit_new == 1].index.min()\n",
    "    \n",
    "    if first_occurrence is not None:\n",
    "        df_filtered = df_id.loc[:first_occurrence]\n",
    "    else:\n",
    "        df_filtered = df_id\n",
    "    \n",
    "    dfs.append(df_filtered)\n",
    "\n"
   ]
  },
  {
   "cell_type": "code",
<<<<<<< HEAD
   "execution_count": 76,
=======
   "execution_count": 214,
>>>>>>> 92d50e0e715539d086474b4ed0648d3be0d32296
   "metadata": {},
   "outputs": [
    {
     "name": "stdout",
     "output_type": "stream",
     "text": [
<<<<<<< HEAD
      "Max shape: 12\n",
      "Index: 13\n"
     ]
    }
   ],
   "source": [
    "max_shape = dfs[0].shape[0]\n",
    "max_index = 0\n",
    "\n",
    "for index, df in enumerate(dfs):\n",
    "    if df.shape[0] > max_shape:\n",
    "        max_shape = df.shape[0]\n",
    "        max_index = index\n",
    "\n",
    "print(f'Max shape: {max_shape}\\nIndex: {max_index}')\n"
=======
      "0.6512077294685991\n"
     ]
    },
    {
     "data": {
      "text/plain": [
       "array([[189, 334],\n",
       "       [ 27, 485]], dtype=int64)"
      ]
     },
     "execution_count": 214,
     "metadata": {},
     "output_type": "execute_result"
    }
   ],
   "source": [
    "clf = DecisionTreeClassifier()\n",
    "\n",
    "clf.fit(X_train, y_train)\n",
    "\n",
    "preds = clf.predict(X_test)\n",
    "\n",
    "print(accuracy_score(y_test, preds))\n",
    "\n",
    "confusion_matrix(y_test, preds)\n",
    "\n"
>>>>>>> 92d50e0e715539d086474b4ed0648d3be0d32296
   ]
  },
  {
   "cell_type": "code",
<<<<<<< HEAD
   "execution_count": 78,
   "metadata": {},
   "outputs": [],
   "source": [
    "padded_dfs = []\n",
    "\n",
    "for df in dfs:\n",
    "\n",
    "    padding = 12 - df.shape[0]\n",
    "    if padding > 0:\n",
    "        zeros_df = pd.DataFrame(0, index=np.arange(padding), columns=df.columns)\n",
    "\n",
    "        padded_df = pd.concat([zeros_df, df], ignore_index=True)\n",
    "\n",
    "    else:\n",
    "        padded_df = df\n",
    "\n",
    "    padded_dfs.append(padded_df)"
=======
   "execution_count": 215,
   "metadata": {},
   "outputs": [],
   "source": [
    "import numpy as np\n",
    "from tensorflow.keras.models import Sequential\n",
    "from tensorflow.keras.layers import Dense, Dropout\n",
    "from tensorflow.keras.optimizers import Adam\n",
    "from tensorflow.keras.losses import BinaryCrossentropy\n",
    "from tensorflow.keras.metrics import AUC\n"
>>>>>>> 92d50e0e715539d086474b4ed0648d3be0d32296
   ]
  },
  {
   "cell_type": "code",
<<<<<<< HEAD
   "execution_count": 117,
   "metadata": {},
   "outputs": [
    {
     "data": {
      "image/png": "iVBORw0KGgoAAAANSUhEUgAAAgMAAAEMCAYAAABZZbUfAAAAOXRFWHRTb2Z0d2FyZQBNYXRwbG90bGliIHZlcnNpb24zLjYuMiwgaHR0cHM6Ly9tYXRwbG90bGliLm9yZy8o6BhiAAAACXBIWXMAAA9hAAAPYQGoP6dpAAAFCUlEQVR4nO3YsW3bYBRG0TjgAuwzCHfQFNnCI2SLTMEdNEh6jcAUqQMrAuXn+J5TCz8+gDZw8V6O4zi+AABZX6cHAACzxAAAxIkBAIgTAwAQJwYAIE4MAECcGACAODEAAHFiAADilnt/+O3n6zN3AABP8Ov7jzd/4zIAAHFiAADixAAAxIkBAIgTAwAQJwYAIE4MAECcGACAODEAAHFiAADixAAAxIkBAIgTAwAQJwYAIE4MAECcGACAODEAAHFiAADixAAAxIkBAIgTAwAQJwYAIE4MAECcGACAODEAAHFiAADixAAAxIkBAIgTAwAQJwYAIE4MAECcGACAODEAAHFiAADixAAAxIkBAIgTAwAQJwYAIE4MAECcGACAODEAAHFiAADixAAAxIkBAIgTAwAQJwYAIE4MAECcGACAODEAAHFiAADixAAAxIkBAIgTAwAQJwYAIE4MAECcGACAODEAAHFiAADixAAAxIkBAIhbpgfAoy7X2+lv7tt6+puc4xnf+39Q/Zv0//2+XAYAIE4MAECcGACAODEAAHFiAADixAAAxIkBAIgTAwAQJwYAIE4MAECcGACAODEAAHFiAADixAAAxIkBAIgTAwAQJwYAIE4MAECcGACAODEAAHHL9ACAKfu2Tk/gL3yb9+UyAABxYgAA4sQAAMSJAQCIEwMAECcGACBODABAnBgAgDgxAABxYgAA4sQAAMSJAQCIEwMAECcGACBODABAnBgAgDgxAABxYgAA4sQAAMSJAQCIW6YHwKP2bZ2eAPApuAwAQJwYAIA4MQAAcWIAAOLEAADEiQEAiBMDABAnBgAgTgwAQJwYAIA4MQAAcWIAAOLEAADEiQEAiBMDABAnBgAgTgwAQJwYAIA4MQAAccv0AIApl+vt9Df3bT39TXg2lwEAiBMDABAnBgAgTgwAQJwYAIA4MQAAcWIAAOLEAADEiQEAiBMDABAnBgAgTgwAQJwYAIA4MQAAcWIAAOLEAADEiQEAiBMDABAnBgAgTgwAQNwyPQAedbneTn9z39bT3+Tj8r3hD5cBAIgTAwAQJwYAIE4MAECcGACAODEAAHFiAADixAAAxIkBAIgTAwAQJwYAIE4MAECcGACAODEAAHFiAADixAAAxIkBAIgTAwAQJwYAIE4MAEDcMj0A4B77tk5PgE/LZQAA4sQAAMSJAQCIEwMAECcGACBODABAnBgAgDgxAABxYgAA4sQAAMSJAQCIEwMAECcGACBODABAnBgAgDgxAABxYgAA4sQAAMSJAQCIEwMAELdMDwC4x+V6m55wl31bpyfAP3MZAIA4MQAAcWIAAOLEAADEiQEAiBMDABAnBgAgTgwAQJwYAIA4MQAAcWIAAOLEAADEiQEAiBMDABAnBgAgTgwAQJwYAIA4MQAAcWIAAOLEAADEiQEAiBMDABAnBgAgTgwAQJwYAIA4MQAAcWIAAOLEAADEiQEAiBMDABAnBgAgTgwAQJwYAIA4MQAAcWIAAOLEAADEiQEAiBMDABAnBgAgTgwAQNwyPQBgyr6t0xPgQ3AZAIA4MQAAcWIAAOLEAADEiQEAiBMDABAnBgAgTgwAQJwYAIA4MQAAcWIAAOLEAADEiQEAiBMDABAnBgAgTgwAQJwYAIA4MQAAcWIAAOLEAADEvRzHcUyPAADmuAwAQJwYAIA4MQAAcWIAAOLEAADEiQEAiBMDABAnBgAgTgwAQNxvtv8lFcMZpW8AAAAASUVORK5CYII=",
      "text/plain": [
       "<Figure size 640x480 with 1 Axes>"
      ]
     },
     "metadata": {},
     "output_type": "display_data"
    }
   ],
   "source": [
    "plt.imshow(X[5],cmap='Dark2')\n",
    "plt.axis('off')\n",
    "plt.show()"
   ]
  },
  {
   "cell_type": "code",
   "execution_count": 85,
   "metadata": {},
   "outputs": [],
   "source": [
    "X = []\n",
    "\n",
    "for df in padded_dfs:\n",
    "    X.append(df.iloc[:,2:-1])"
   ]
  },
  {
   "cell_type": "code",
   "execution_count": 88,
   "metadata": {},
   "outputs": [],
   "source": [
    "X_train = np.array(X)"
   ]
  },
  {
   "cell_type": "code",
   "execution_count": 94,
   "metadata": {},
   "outputs": [
    {
     "data": {
      "text/html": [
       "<pre style=\"white-space:pre;overflow-x:auto;line-height:normal;font-family:Menlo,'DejaVu Sans Mono',consolas,'Courier New',monospace\"><span style=\"font-weight: bold\">Model: \"functional_5\"</span>\n",
       "</pre>\n"
      ],
      "text/plain": [
       "\u001b[1mModel: \"functional_5\"\u001b[0m\n"
      ]
     },
     "metadata": {},
     "output_type": "display_data"
    },
    {
     "data": {
      "text/html": [
       "<pre style=\"white-space:pre;overflow-x:auto;line-height:normal;font-family:Menlo,'DejaVu Sans Mono',consolas,'Courier New',monospace\">┏━━━━━━━━━━━━━━━━━━━━━━━━━━━━━━━━━┳━━━━━━━━━━━━━━━━━━━━━━━━┳━━━━━━━━━━━━━━━┓\n",
       "┃<span style=\"font-weight: bold\"> Layer (type)                    </span>┃<span style=\"font-weight: bold\"> Output Shape           </span>┃<span style=\"font-weight: bold\">       Param # </span>┃\n",
       "┡━━━━━━━━━━━━━━━━━━━━━━━━━━━━━━━━━╇━━━━━━━━━━━━━━━━━━━━━━━━╇━━━━━━━━━━━━━━━┩\n",
       "│ input_layer_4 (<span style=\"color: #0087ff; text-decoration-color: #0087ff\">InputLayer</span>)      │ (<span style=\"color: #00d7ff; text-decoration-color: #00d7ff\">None</span>, <span style=\"color: #00af00; text-decoration-color: #00af00\">12</span>, <span style=\"color: #00af00; text-decoration-color: #00af00\">24</span>, <span style=\"color: #00af00; text-decoration-color: #00af00\">1</span>)      │             <span style=\"color: #00af00; text-decoration-color: #00af00\">0</span> │\n",
       "├─────────────────────────────────┼────────────────────────┼───────────────┤\n",
       "│ conv2d_26 (<span style=\"color: #0087ff; text-decoration-color: #0087ff\">Conv2D</span>)              │ (<span style=\"color: #00d7ff; text-decoration-color: #00d7ff\">None</span>, <span style=\"color: #00af00; text-decoration-color: #00af00\">12</span>, <span style=\"color: #00af00; text-decoration-color: #00af00\">24</span>, <span style=\"color: #00af00; text-decoration-color: #00af00\">32</span>)     │           <span style=\"color: #00af00; text-decoration-color: #00af00\">320</span> │\n",
       "├─────────────────────────────────┼────────────────────────┼───────────────┤\n",
       "│ max_pooling2d_12 (<span style=\"color: #0087ff; text-decoration-color: #0087ff\">MaxPooling2D</span>) │ (<span style=\"color: #00d7ff; text-decoration-color: #00d7ff\">None</span>, <span style=\"color: #00af00; text-decoration-color: #00af00\">6</span>, <span style=\"color: #00af00; text-decoration-color: #00af00\">12</span>, <span style=\"color: #00af00; text-decoration-color: #00af00\">32</span>)      │             <span style=\"color: #00af00; text-decoration-color: #00af00\">0</span> │\n",
       "├─────────────────────────────────┼────────────────────────┼───────────────┤\n",
       "│ conv2d_27 (<span style=\"color: #0087ff; text-decoration-color: #0087ff\">Conv2D</span>)              │ (<span style=\"color: #00d7ff; text-decoration-color: #00d7ff\">None</span>, <span style=\"color: #00af00; text-decoration-color: #00af00\">6</span>, <span style=\"color: #00af00; text-decoration-color: #00af00\">12</span>, <span style=\"color: #00af00; text-decoration-color: #00af00\">64</span>)      │        <span style=\"color: #00af00; text-decoration-color: #00af00\">18,496</span> │\n",
       "├─────────────────────────────────┼────────────────────────┼───────────────┤\n",
       "│ max_pooling2d_13 (<span style=\"color: #0087ff; text-decoration-color: #0087ff\">MaxPooling2D</span>) │ (<span style=\"color: #00d7ff; text-decoration-color: #00d7ff\">None</span>, <span style=\"color: #00af00; text-decoration-color: #00af00\">3</span>, <span style=\"color: #00af00; text-decoration-color: #00af00\">6</span>, <span style=\"color: #00af00; text-decoration-color: #00af00\">64</span>)       │             <span style=\"color: #00af00; text-decoration-color: #00af00\">0</span> │\n",
       "├─────────────────────────────────┼────────────────────────┼───────────────┤\n",
       "│ conv2d_28 (<span style=\"color: #0087ff; text-decoration-color: #0087ff\">Conv2D</span>)              │ (<span style=\"color: #00d7ff; text-decoration-color: #00d7ff\">None</span>, <span style=\"color: #00af00; text-decoration-color: #00af00\">3</span>, <span style=\"color: #00af00; text-decoration-color: #00af00\">6</span>, <span style=\"color: #00af00; text-decoration-color: #00af00\">128</span>)      │        <span style=\"color: #00af00; text-decoration-color: #00af00\">73,856</span> │\n",
       "├─────────────────────────────────┼────────────────────────┼───────────────┤\n",
       "│ up_sampling2d_12 (<span style=\"color: #0087ff; text-decoration-color: #0087ff\">UpSampling2D</span>) │ (<span style=\"color: #00d7ff; text-decoration-color: #00d7ff\">None</span>, <span style=\"color: #00af00; text-decoration-color: #00af00\">6</span>, <span style=\"color: #00af00; text-decoration-color: #00af00\">12</span>, <span style=\"color: #00af00; text-decoration-color: #00af00\">128</span>)     │             <span style=\"color: #00af00; text-decoration-color: #00af00\">0</span> │\n",
       "├─────────────────────────────────┼────────────────────────┼───────────────┤\n",
       "│ conv2d_29 (<span style=\"color: #0087ff; text-decoration-color: #0087ff\">Conv2D</span>)              │ (<span style=\"color: #00d7ff; text-decoration-color: #00d7ff\">None</span>, <span style=\"color: #00af00; text-decoration-color: #00af00\">6</span>, <span style=\"color: #00af00; text-decoration-color: #00af00\">12</span>, <span style=\"color: #00af00; text-decoration-color: #00af00\">64</span>)      │        <span style=\"color: #00af00; text-decoration-color: #00af00\">73,792</span> │\n",
       "├─────────────────────────────────┼────────────────────────┼───────────────┤\n",
       "│ up_sampling2d_13 (<span style=\"color: #0087ff; text-decoration-color: #0087ff\">UpSampling2D</span>) │ (<span style=\"color: #00d7ff; text-decoration-color: #00d7ff\">None</span>, <span style=\"color: #00af00; text-decoration-color: #00af00\">12</span>, <span style=\"color: #00af00; text-decoration-color: #00af00\">24</span>, <span style=\"color: #00af00; text-decoration-color: #00af00\">64</span>)     │             <span style=\"color: #00af00; text-decoration-color: #00af00\">0</span> │\n",
       "├─────────────────────────────────┼────────────────────────┼───────────────┤\n",
       "│ conv2d_30 (<span style=\"color: #0087ff; text-decoration-color: #0087ff\">Conv2D</span>)              │ (<span style=\"color: #00d7ff; text-decoration-color: #00d7ff\">None</span>, <span style=\"color: #00af00; text-decoration-color: #00af00\">12</span>, <span style=\"color: #00af00; text-decoration-color: #00af00\">24</span>, <span style=\"color: #00af00; text-decoration-color: #00af00\">32</span>)     │        <span style=\"color: #00af00; text-decoration-color: #00af00\">18,464</span> │\n",
       "├─────────────────────────────────┼────────────────────────┼───────────────┤\n",
       "│ conv2d_31 (<span style=\"color: #0087ff; text-decoration-color: #0087ff\">Conv2D</span>)              │ (<span style=\"color: #00d7ff; text-decoration-color: #00d7ff\">None</span>, <span style=\"color: #00af00; text-decoration-color: #00af00\">12</span>, <span style=\"color: #00af00; text-decoration-color: #00af00\">24</span>, <span style=\"color: #00af00; text-decoration-color: #00af00\">1</span>)      │           <span style=\"color: #00af00; text-decoration-color: #00af00\">289</span> │\n",
       "└─────────────────────────────────┴────────────────────────┴───────────────┘\n",
       "</pre>\n"
      ],
      "text/plain": [
       "┏━━━━━━━━━━━━━━━━━━━━━━━━━━━━━━━━━┳━━━━━━━━━━━━━━━━━━━━━━━━┳━━━━━━━━━━━━━━━┓\n",
       "┃\u001b[1m \u001b[0m\u001b[1mLayer (type)                   \u001b[0m\u001b[1m \u001b[0m┃\u001b[1m \u001b[0m\u001b[1mOutput Shape          \u001b[0m\u001b[1m \u001b[0m┃\u001b[1m \u001b[0m\u001b[1m      Param #\u001b[0m\u001b[1m \u001b[0m┃\n",
       "┡━━━━━━━━━━━━━━━━━━━━━━━━━━━━━━━━━╇━━━━━━━━━━━━━━━━━━━━━━━━╇━━━━━━━━━━━━━━━┩\n",
       "│ input_layer_4 (\u001b[38;5;33mInputLayer\u001b[0m)      │ (\u001b[38;5;45mNone\u001b[0m, \u001b[38;5;34m12\u001b[0m, \u001b[38;5;34m24\u001b[0m, \u001b[38;5;34m1\u001b[0m)      │             \u001b[38;5;34m0\u001b[0m │\n",
       "├─────────────────────────────────┼────────────────────────┼───────────────┤\n",
       "│ conv2d_26 (\u001b[38;5;33mConv2D\u001b[0m)              │ (\u001b[38;5;45mNone\u001b[0m, \u001b[38;5;34m12\u001b[0m, \u001b[38;5;34m24\u001b[0m, \u001b[38;5;34m32\u001b[0m)     │           \u001b[38;5;34m320\u001b[0m │\n",
       "├─────────────────────────────────┼────────────────────────┼───────────────┤\n",
       "│ max_pooling2d_12 (\u001b[38;5;33mMaxPooling2D\u001b[0m) │ (\u001b[38;5;45mNone\u001b[0m, \u001b[38;5;34m6\u001b[0m, \u001b[38;5;34m12\u001b[0m, \u001b[38;5;34m32\u001b[0m)      │             \u001b[38;5;34m0\u001b[0m │\n",
       "├─────────────────────────────────┼────────────────────────┼───────────────┤\n",
       "│ conv2d_27 (\u001b[38;5;33mConv2D\u001b[0m)              │ (\u001b[38;5;45mNone\u001b[0m, \u001b[38;5;34m6\u001b[0m, \u001b[38;5;34m12\u001b[0m, \u001b[38;5;34m64\u001b[0m)      │        \u001b[38;5;34m18,496\u001b[0m │\n",
       "├─────────────────────────────────┼────────────────────────┼───────────────┤\n",
       "│ max_pooling2d_13 (\u001b[38;5;33mMaxPooling2D\u001b[0m) │ (\u001b[38;5;45mNone\u001b[0m, \u001b[38;5;34m3\u001b[0m, \u001b[38;5;34m6\u001b[0m, \u001b[38;5;34m64\u001b[0m)       │             \u001b[38;5;34m0\u001b[0m │\n",
       "├─────────────────────────────────┼────────────────────────┼───────────────┤\n",
       "│ conv2d_28 (\u001b[38;5;33mConv2D\u001b[0m)              │ (\u001b[38;5;45mNone\u001b[0m, \u001b[38;5;34m3\u001b[0m, \u001b[38;5;34m6\u001b[0m, \u001b[38;5;34m128\u001b[0m)      │        \u001b[38;5;34m73,856\u001b[0m │\n",
       "├─────────────────────────────────┼────────────────────────┼───────────────┤\n",
       "│ up_sampling2d_12 (\u001b[38;5;33mUpSampling2D\u001b[0m) │ (\u001b[38;5;45mNone\u001b[0m, \u001b[38;5;34m6\u001b[0m, \u001b[38;5;34m12\u001b[0m, \u001b[38;5;34m128\u001b[0m)     │             \u001b[38;5;34m0\u001b[0m │\n",
       "├─────────────────────────────────┼────────────────────────┼───────────────┤\n",
       "│ conv2d_29 (\u001b[38;5;33mConv2D\u001b[0m)              │ (\u001b[38;5;45mNone\u001b[0m, \u001b[38;5;34m6\u001b[0m, \u001b[38;5;34m12\u001b[0m, \u001b[38;5;34m64\u001b[0m)      │        \u001b[38;5;34m73,792\u001b[0m │\n",
       "├─────────────────────────────────┼────────────────────────┼───────────────┤\n",
       "│ up_sampling2d_13 (\u001b[38;5;33mUpSampling2D\u001b[0m) │ (\u001b[38;5;45mNone\u001b[0m, \u001b[38;5;34m12\u001b[0m, \u001b[38;5;34m24\u001b[0m, \u001b[38;5;34m64\u001b[0m)     │             \u001b[38;5;34m0\u001b[0m │\n",
       "├─────────────────────────────────┼────────────────────────┼───────────────┤\n",
       "│ conv2d_30 (\u001b[38;5;33mConv2D\u001b[0m)              │ (\u001b[38;5;45mNone\u001b[0m, \u001b[38;5;34m12\u001b[0m, \u001b[38;5;34m24\u001b[0m, \u001b[38;5;34m32\u001b[0m)     │        \u001b[38;5;34m18,464\u001b[0m │\n",
       "├─────────────────────────────────┼────────────────────────┼───────────────┤\n",
       "│ conv2d_31 (\u001b[38;5;33mConv2D\u001b[0m)              │ (\u001b[38;5;45mNone\u001b[0m, \u001b[38;5;34m12\u001b[0m, \u001b[38;5;34m24\u001b[0m, \u001b[38;5;34m1\u001b[0m)      │           \u001b[38;5;34m289\u001b[0m │\n",
       "└─────────────────────────────────┴────────────────────────┴───────────────┘\n"
      ]
     },
     "metadata": {},
     "output_type": "display_data"
    },
    {
     "data": {
      "text/html": [
       "<pre style=\"white-space:pre;overflow-x:auto;line-height:normal;font-family:Menlo,'DejaVu Sans Mono',consolas,'Courier New',monospace\"><span style=\"font-weight: bold\"> Total params: </span><span style=\"color: #00af00; text-decoration-color: #00af00\">185,217</span> (723.50 KB)\n",
       "</pre>\n"
      ],
      "text/plain": [
       "\u001b[1m Total params: \u001b[0m\u001b[38;5;34m185,217\u001b[0m (723.50 KB)\n"
      ]
     },
     "metadata": {},
     "output_type": "display_data"
    },
    {
     "data": {
      "text/html": [
       "<pre style=\"white-space:pre;overflow-x:auto;line-height:normal;font-family:Menlo,'DejaVu Sans Mono',consolas,'Courier New',monospace\"><span style=\"font-weight: bold\"> Trainable params: </span><span style=\"color: #00af00; text-decoration-color: #00af00\">185,217</span> (723.50 KB)\n",
       "</pre>\n"
      ],
      "text/plain": [
       "\u001b[1m Trainable params: \u001b[0m\u001b[38;5;34m185,217\u001b[0m (723.50 KB)\n"
      ]
     },
     "metadata": {},
     "output_type": "display_data"
    },
    {
     "data": {
      "text/html": [
       "<pre style=\"white-space:pre;overflow-x:auto;line-height:normal;font-family:Menlo,'DejaVu Sans Mono',consolas,'Courier New',monospace\"><span style=\"font-weight: bold\"> Non-trainable params: </span><span style=\"color: #00af00; text-decoration-color: #00af00\">0</span> (0.00 B)\n",
       "</pre>\n"
      ],
      "text/plain": [
       "\u001b[1m Non-trainable params: \u001b[0m\u001b[38;5;34m0\u001b[0m (0.00 B)\n"
      ]
     },
     "metadata": {},
     "output_type": "display_data"
    }
   ],
   "source": [
    "import tensorflow as tf\n",
    "from tensorflow.keras import layers, models\n",
    "\n",
    "# Define the dimensions of the input image\n",
    "input_shape = (12, 24, 1)  # Example for a grayscale image of size 12x24\n",
    "\n",
    "# Encoder\n",
    "encoder_input = layers.Input(shape=input_shape)\n",
    "x = layers.Conv2D(32, (3, 3), activation='relu', padding='same')(encoder_input)\n",
    "x = layers.MaxPooling2D((2, 2), padding='same')(x)  # Output: (6, 12, 32)\n",
    "x = layers.Conv2D(64, (3, 3), activation='relu', padding='same')(x)\n",
    "x = layers.MaxPooling2D((2, 2), padding='same')(x)  # Output: (3, 6, 64)\n",
    "encoded = layers.Conv2D(128, (3, 3), activation='relu', padding='same')(x)\n",
    "\n",
    "# Decoder\n",
    "x = layers.UpSampling2D((2, 2))(encoded)  # Output: (6, 12, 128)\n",
    "x = layers.Conv2D(64, (3, 3), activation='relu', padding='same')(x)\n",
    "x = layers.UpSampling2D((2, 2))(x)  # Output: (12, 24, 64)\n",
    "x = layers.Conv2D(32, (3, 3), activation='relu', padding='same')(x)\n",
    "decoded = layers.Conv2D(1, (3, 3), activation='sigmoid', padding='same')(x)  # Output: (12, 24, 1)\n",
    "\n",
    "# Autoencoder model\n",
    "autoencoder = models.Model(encoder_input, decoded)\n",
    "autoencoder.compile(optimizer='adam', loss='mse')\n",
    "\n",
    "# Summary of the model\n",
    "autoencoder.summary()\n"
   ]
  },
  {
   "cell_type": "code",
   "execution_count": 95,
   "metadata": {},
   "outputs": [
=======
   "execution_count": 216,
   "metadata": {},
   "outputs": [
    {
     "name": "stdout",
     "output_type": "stream",
     "text": [
      "Epoch 1/20\n"
     ]
    },
    {
     "name": "stderr",
     "output_type": "stream",
     "text": [
      "C:\\Users\\gsevr\\AppData\\Roaming\\Python\\Python310\\site-packages\\keras\\src\\layers\\core\\dense.py:87: UserWarning: Do not pass an `input_shape`/`input_dim` argument to a layer. When using Sequential models, prefer using an `Input(shape)` object as the first layer in the model instead.\n",
      "  super().__init__(activity_regularizer=activity_regularizer, **kwargs)\n"
     ]
    },
>>>>>>> 92d50e0e715539d086474b4ed0648d3be0d32296
    {
     "name": "stdout",
     "output_type": "stream",
     "text": [
<<<<<<< HEAD
      "Epoch 1/20\n",
      "\u001b[1m7/7\u001b[0m \u001b[32m━━━━━━━━━━━━━━━━━━━━\u001b[0m\u001b[37m\u001b[0m \u001b[1m2s\u001b[0m 10ms/step - loss: 0.2120\n",
      "Epoch 2/20\n",
      "\u001b[1m7/7\u001b[0m \u001b[32m━━━━━━━━━━━━━━━━━━━━\u001b[0m\u001b[37m\u001b[0m \u001b[1m0s\u001b[0m 7ms/step - loss: 0.0397 \n",
      "Epoch 3/20\n",
      "\u001b[1m7/7\u001b[0m \u001b[32m━━━━━━━━━━━━━━━━━━━━\u001b[0m\u001b[37m\u001b[0m \u001b[1m0s\u001b[0m 7ms/step - loss: 0.0326 \n",
      "Epoch 4/20\n",
      "\u001b[1m7/7\u001b[0m \u001b[32m━━━━━━━━━━━━━━━━━━━━\u001b[0m\u001b[37m\u001b[0m \u001b[1m0s\u001b[0m 7ms/step - loss: 0.0341 \n",
      "Epoch 5/20\n",
      "\u001b[1m7/7\u001b[0m \u001b[32m━━━━━━━━━━━━━━━━━━━━\u001b[0m\u001b[37m\u001b[0m \u001b[1m0s\u001b[0m 7ms/step - loss: 0.0339 \n",
      "Epoch 6/20\n",
      "\u001b[1m7/7\u001b[0m \u001b[32m━━━━━━━━━━━━━━━━━━━━\u001b[0m\u001b[37m\u001b[0m \u001b[1m0s\u001b[0m 7ms/step - loss: 0.0337 \n",
      "Epoch 7/20\n",
      "\u001b[1m7/7\u001b[0m \u001b[32m━━━━━━━━━━━━━━━━━━━━\u001b[0m\u001b[37m\u001b[0m \u001b[1m0s\u001b[0m 7ms/step - loss: 0.0317 \n",
      "Epoch 8/20\n",
      "\u001b[1m7/7\u001b[0m \u001b[32m━━━━━━━━━━━━━━━━━━━━\u001b[0m\u001b[37m\u001b[0m \u001b[1m0s\u001b[0m 7ms/step - loss: 0.0345 \n",
      "Epoch 9/20\n",
      "\u001b[1m7/7\u001b[0m \u001b[32m━━━━━━━━━━━━━━━━━━━━\u001b[0m\u001b[37m\u001b[0m \u001b[1m0s\u001b[0m 7ms/step - loss: 0.0334 \n",
      "Epoch 10/20\n",
      "\u001b[1m7/7\u001b[0m \u001b[32m━━━━━━━━━━━━━━━━━━━━\u001b[0m\u001b[37m\u001b[0m \u001b[1m0s\u001b[0m 11ms/step - loss: 0.0344\n",
      "Epoch 11/20\n",
      "\u001b[1m7/7\u001b[0m \u001b[32m━━━━━━━━━━━━━━━━━━━━\u001b[0m\u001b[37m\u001b[0m \u001b[1m0s\u001b[0m 7ms/step - loss: 0.0351 \n",
      "Epoch 12/20\n",
      "\u001b[1m7/7\u001b[0m \u001b[32m━━━━━━━━━━━━━━━━━━━━\u001b[0m\u001b[37m\u001b[0m \u001b[1m0s\u001b[0m 7ms/step - loss: 0.0353 \n",
      "Epoch 13/20\n",
      "\u001b[1m7/7\u001b[0m \u001b[32m━━━━━━━━━━━━━━━━━━━━\u001b[0m\u001b[37m\u001b[0m \u001b[1m0s\u001b[0m 7ms/step - loss: 0.0332 \n",
      "Epoch 14/20\n",
      "\u001b[1m7/7\u001b[0m \u001b[32m━━━━━━━━━━━━━━━━━━━━\u001b[0m\u001b[37m\u001b[0m \u001b[1m0s\u001b[0m 7ms/step - loss: 0.0336 \n",
      "Epoch 15/20\n",
      "\u001b[1m7/7\u001b[0m \u001b[32m━━━━━━━━━━━━━━━━━━━━\u001b[0m\u001b[37m\u001b[0m \u001b[1m0s\u001b[0m 7ms/step - loss: 0.0327 \n",
      "Epoch 16/20\n",
      "\u001b[1m7/7\u001b[0m \u001b[32m━━━━━━━━━━━━━━━━━━━━\u001b[0m\u001b[37m\u001b[0m \u001b[1m0s\u001b[0m 7ms/step - loss: 0.0336 \n",
      "Epoch 17/20\n",
      "\u001b[1m7/7\u001b[0m \u001b[32m━━━━━━━━━━━━━━━━━━━━\u001b[0m\u001b[37m\u001b[0m \u001b[1m0s\u001b[0m 7ms/step - loss: 0.0332 \n",
      "Epoch 18/20\n",
      "\u001b[1m7/7\u001b[0m \u001b[32m━━━━━━━━━━━━━━━━━━━━\u001b[0m\u001b[37m\u001b[0m \u001b[1m0s\u001b[0m 7ms/step - loss: 0.0329 \n",
      "Epoch 19/20\n",
      "\u001b[1m7/7\u001b[0m \u001b[32m━━━━━━━━━━━━━━━━━━━━\u001b[0m\u001b[37m\u001b[0m \u001b[1m0s\u001b[0m 7ms/step - loss: 0.0352 \n",
      "Epoch 20/20\n",
      "\u001b[1m7/7\u001b[0m \u001b[32m━━━━━━━━━━━━━━━━━━━━\u001b[0m\u001b[37m\u001b[0m \u001b[1m0s\u001b[0m 8ms/step - loss: 0.0335 \n"
=======
      "\u001b[1m130/130\u001b[0m \u001b[32m━━━━━━━━━━━━━━━━━━━━\u001b[0m\u001b[37m\u001b[0m \u001b[1m2s\u001b[0m 3ms/step - accuracy: 0.5002 - auc: 0.4925 - loss: 0.7017 - val_accuracy: 0.6280 - val_auc: 0.6449 - val_loss: 0.6664\n",
      "Epoch 2/20\n",
      "\u001b[1m130/130\u001b[0m \u001b[32m━━━━━━━━━━━━━━━━━━━━\u001b[0m\u001b[37m\u001b[0m \u001b[1m0s\u001b[0m 1ms/step - accuracy: 0.5675 - auc: 0.5873 - loss: 0.6761 - val_accuracy: 0.6242 - val_auc: 0.6553 - val_loss: 0.6440\n",
      "Epoch 3/20\n",
      "\u001b[1m130/130\u001b[0m \u001b[32m━━━━━━━━━━━━━━━━━━━━\u001b[0m\u001b[37m\u001b[0m \u001b[1m0s\u001b[0m 1ms/step - accuracy: 0.5954 - auc: 0.6287 - loss: 0.6574 - val_accuracy: 0.6531 - val_auc: 0.6739 - val_loss: 0.6304\n",
      "Epoch 4/20\n",
      "\u001b[1m130/130\u001b[0m \u001b[32m━━━━━━━━━━━━━━━━━━━━\u001b[0m\u001b[37m\u001b[0m \u001b[1m0s\u001b[0m 1ms/step - accuracy: 0.6261 - auc: 0.6511 - loss: 0.6467 - val_accuracy: 0.6647 - val_auc: 0.6897 - val_loss: 0.6230\n",
      "Epoch 5/20\n",
      "\u001b[1m130/130\u001b[0m \u001b[32m━━━━━━━━━━━━━━━━━━━━\u001b[0m\u001b[37m\u001b[0m \u001b[1m0s\u001b[0m 1ms/step - accuracy: 0.6187 - auc: 0.6417 - loss: 0.6443 - val_accuracy: 0.6589 - val_auc: 0.6877 - val_loss: 0.6210\n",
      "Epoch 6/20\n",
      "\u001b[1m130/130\u001b[0m \u001b[32m━━━━━━━━━━━━━━━━━━━━\u001b[0m\u001b[37m\u001b[0m \u001b[1m0s\u001b[0m 1ms/step - accuracy: 0.6129 - auc: 0.6448 - loss: 0.6394 - val_accuracy: 0.6599 - val_auc: 0.6942 - val_loss: 0.6138\n",
      "Epoch 7/20\n",
      "\u001b[1m130/130\u001b[0m \u001b[32m━━━━━━━━━━━━━━━━━━━━\u001b[0m\u001b[37m\u001b[0m \u001b[1m0s\u001b[0m 1ms/step - accuracy: 0.6357 - auc: 0.6698 - loss: 0.6309 - val_accuracy: 0.6589 - val_auc: 0.6974 - val_loss: 0.6115\n",
      "Epoch 8/20\n",
      "\u001b[1m130/130\u001b[0m \u001b[32m━━━━━━━━━━━━━━━━━━━━\u001b[0m\u001b[37m\u001b[0m \u001b[1m0s\u001b[0m 1ms/step - accuracy: 0.6424 - auc: 0.6575 - loss: 0.6242 - val_accuracy: 0.6609 - val_auc: 0.7020 - val_loss: 0.6078\n",
      "Epoch 9/20\n",
      "\u001b[1m130/130\u001b[0m \u001b[32m━━━━━━━━━━━━━━━━━━━━\u001b[0m\u001b[37m\u001b[0m \u001b[1m0s\u001b[0m 2ms/step - accuracy: 0.6289 - auc: 0.6439 - loss: 0.6280 - val_accuracy: 0.6609 - val_auc: 0.7032 - val_loss: 0.6075\n",
      "Epoch 10/20\n",
      "\u001b[1m130/130\u001b[0m \u001b[32m━━━━━━━━━━━━━━━━━━━━\u001b[0m\u001b[37m\u001b[0m \u001b[1m0s\u001b[0m 1ms/step - accuracy: 0.6290 - auc: 0.6642 - loss: 0.6279 - val_accuracy: 0.6609 - val_auc: 0.6973 - val_loss: 0.6044\n",
      "Epoch 11/20\n",
      "\u001b[1m130/130\u001b[0m \u001b[32m━━━━━━━━━━━━━━━━━━━━\u001b[0m\u001b[37m\u001b[0m \u001b[1m0s\u001b[0m 1ms/step - accuracy: 0.6482 - auc: 0.6731 - loss: 0.6202 - val_accuracy: 0.6609 - val_auc: 0.7080 - val_loss: 0.6013\n",
      "Epoch 12/20\n",
      "\u001b[1m130/130\u001b[0m \u001b[32m━━━━━━━━━━━━━━━━━━━━\u001b[0m\u001b[37m\u001b[0m \u001b[1m0s\u001b[0m 1ms/step - accuracy: 0.6423 - auc: 0.6780 - loss: 0.6163 - val_accuracy: 0.6589 - val_auc: 0.7080 - val_loss: 0.6003\n",
      "Epoch 13/20\n",
      "\u001b[1m130/130\u001b[0m \u001b[32m━━━━━━━━━━━━━━━━━━━━\u001b[0m\u001b[37m\u001b[0m \u001b[1m0s\u001b[0m 1ms/step - accuracy: 0.6328 - auc: 0.6694 - loss: 0.6208 - val_accuracy: 0.6589 - val_auc: 0.6996 - val_loss: 0.5990\n",
      "Epoch 14/20\n",
      "\u001b[1m130/130\u001b[0m \u001b[32m━━━━━━━━━━━━━━━━━━━━\u001b[0m\u001b[37m\u001b[0m \u001b[1m0s\u001b[0m 1ms/step - accuracy: 0.6582 - auc: 0.6705 - loss: 0.6111 - val_accuracy: 0.6609 - val_auc: 0.7007 - val_loss: 0.5974\n",
      "Epoch 15/20\n",
      "\u001b[1m130/130\u001b[0m \u001b[32m━━━━━━━━━━━━━━━━━━━━\u001b[0m\u001b[37m\u001b[0m \u001b[1m0s\u001b[0m 1ms/step - accuracy: 0.6309 - auc: 0.6709 - loss: 0.6169 - val_accuracy: 0.6618 - val_auc: 0.7033 - val_loss: 0.5959\n",
      "Epoch 16/20\n",
      "\u001b[1m130/130\u001b[0m \u001b[32m━━━━━━━━━━━━━━━━━━━━\u001b[0m\u001b[37m\u001b[0m \u001b[1m0s\u001b[0m 1ms/step - accuracy: 0.6393 - auc: 0.6727 - loss: 0.6119 - val_accuracy: 0.6628 - val_auc: 0.7010 - val_loss: 0.5966\n",
      "Epoch 17/20\n",
      "\u001b[1m130/130\u001b[0m \u001b[32m━━━━━━━━━━━━━━━━━━━━\u001b[0m\u001b[37m\u001b[0m \u001b[1m0s\u001b[0m 1ms/step - accuracy: 0.6378 - auc: 0.6729 - loss: 0.6112 - val_accuracy: 0.6580 - val_auc: 0.7021 - val_loss: 0.5977\n",
      "Epoch 18/20\n",
      "\u001b[1m130/130\u001b[0m \u001b[32m━━━━━━━━━━━━━━━━━━━━\u001b[0m\u001b[37m\u001b[0m \u001b[1m0s\u001b[0m 1ms/step - accuracy: 0.6453 - auc: 0.6633 - loss: 0.6099 - val_accuracy: 0.6589 - val_auc: 0.7072 - val_loss: 0.5951\n",
      "Epoch 19/20\n",
      "\u001b[1m130/130\u001b[0m \u001b[32m━━━━━━━━━━━━━━━━━━━━\u001b[0m\u001b[37m\u001b[0m \u001b[1m0s\u001b[0m 2ms/step - accuracy: 0.6350 - auc: 0.6555 - loss: 0.6165 - val_accuracy: 0.6618 - val_auc: 0.7004 - val_loss: 0.5956\n",
      "Epoch 20/20\n",
      "\u001b[1m130/130\u001b[0m \u001b[32m━━━━━━━━━━━━━━━━━━━━\u001b[0m\u001b[37m\u001b[0m \u001b[1m0s\u001b[0m 1ms/step - accuracy: 0.6548 - auc: 0.6641 - loss: 0.6097 - val_accuracy: 0.6599 - val_auc: 0.7081 - val_loss: 0.5939\n"
>>>>>>> 92d50e0e715539d086474b4ed0648d3be0d32296
     ]
    },
    {
     "data": {
      "text/plain": [
       "<keras.src.callbacks.history.History at 0x1f54ccfb130>"
      ]
     },
     "execution_count": 216,
     "metadata": {},
     "output_type": "execute_result"
    }
   ],
   "source": [
<<<<<<< HEAD
    "history = autoencoder.fit(X_train, X_train, epochs=20, batch_size=16)"
=======
    "model = Sequential([\n",
    "    Dense(64, input_dim=X.shape[1], activation='relu'),  # First hidden layer with ReLU activation\n",
    "    Dropout(0.5),                                       # Dropout for regularization\n",
    "    Dense(32, activation='relu'),                       # Second hidden layer\n",
    "    Dropout(0.5),                                       # Dropout for regularization\n",
    "    Dense(1, activation='sigmoid')                      # Output layer with sigmoid activation\n",
    "])\n",
    "\n",
    "model.compile(optimizer=Adam(learning_rate=0.001),\n",
    "              loss=BinaryCrossentropy(),\n",
    "              metrics=['accuracy', AUC()])\n",
    "\n",
    "model.fit(X_train, y_train, epochs=20, batch_size=32, validation_data=(X_test,y_test))\n"
>>>>>>> 92d50e0e715539d086474b4ed0648d3be0d32296
   ]
  },
  {
   "cell_type": "code",
   "execution_count": 96,
   "metadata": {},
   "outputs": [
    {
     "data": {
      "text/plain": [
       "Text(0, 0.5, 'loss')"
      ]
     },
     "execution_count": 96,
     "metadata": {},
     "output_type": "execute_result"
    },
    {
     "data": {
      "image/png": "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",
      "text/plain": [
       "<Figure size 1200x500 with 1 Axes>"
      ]
     },
     "metadata": {},
     "output_type": "display_data"
    }
   ],
   "source": [
    "import matplotlib.pyplot as plt\n",
    "import seaborn as sns\n",
    "sns.set_theme()\n",
    "\n",
    "plt.figure(figsize=(12,5))\n",
    "plt.subplot(1,2,1)\n",
    "plt.plot(history.history['loss'])\n",
    "plt.xticks([i for i in range(0,20)])\n",
    "plt.xlabel('epochs')\n",
    "plt.ylabel('loss')\n"
   ]
  }
 ],
 "metadata": {
  "kernelspec": {
   "display_name": "base",
   "language": "python",
   "name": "python3"
  },
  "language_info": {
   "codemirror_mode": {
    "name": "ipython",
    "version": 3
   },
   "file_extension": ".py",
   "mimetype": "text/x-python",
   "name": "python",
   "nbconvert_exporter": "python",
   "pygments_lexer": "ipython3",
   "version": "3.11.3"
  }
 },
 "nbformat": 4,
 "nbformat_minor": 2
}
