{
 "cells": [
  {
   "cell_type": "code",
   "execution_count": 19,
   "metadata": {},
   "outputs": [],
   "source": [
    "import pandas as pd\n",
    "import numpy as np\n",
    "pd.set_option('display.max_columns', None)"
   ]
  },
  {
   "cell_type": "code",
   "execution_count": 20,
   "metadata": {},
   "outputs": [],
   "source": [
    "dfo = pd.read_excel('data.xlsx')\n"
   ]
  },
  {
   "cell_type": "code",
   "execution_count": 21,
   "metadata": {},
   "outputs": [
    {
     "data": {
      "text/plain": [
       "Index(['SLET2T_ID', 'Surname', 'gender', 'Age_at_inclusion',\n",
       "       'SLE_duration_at_inclusion_months', 'case_no', 'Visit_no',\n",
       "       'Cumulative_prednisolone_intake_daily', 'PhGA', 'S2K_item_1',\n",
       "       'S2K_item_2', 'S2K_item_3', 'S2K_item_4', 'S2K_item_5', 'S2K_item_6',\n",
       "       'S2K_item_7', 'S2K_item_8', 'S2K_item_9', 'S2K_item_10', 'S2K_item_11',\n",
       "       'S2K_item_12', 'S2K_item_13', 'S2K_item_14', 'S2K_item_15',\n",
       "       'S2K_item_16', 'S2K_item_17', 'S2K_item_18', 'S2K_item_19',\n",
       "       'S2K_item_20', 'S2K_item_21', 'S2K_item_22', 'S2K_item_23',\n",
       "       'S2K_item_24', 'SLEDAI2K', 'Clinical_S2K', 'SFI',\n",
       "       'SFI_excluding_inclusion_visit', 'Severe_SFI_excluding_inclusion_visit',\n",
       "       'Severe_SFI_occuring_at_next_visit_new', 'SDI',\n",
       "       'New_SDI_since_previous_visit_new', 'S2K_item9_extra',\n",
       "       'S2K_item12_extra', 'S2K_item13_extra', 'S2K_item14_extra',\n",
       "       'S2K_item15_extra', 'S2K_item16_extra', 'S2K_item23_extra',\n",
       "       'S2K_item24_extra', 'Visit_month_new', 'LLDAS', 'DORIS',\n",
       "       'LDA_but_not_DORIS', 'Adj_mean_S2K', 'Adj_mean_PGA',\n",
       "       'Adj_mean_GC_intake', 'time_adj_S2K_item_1', 'time_adj_S2K_item_2',\n",
       "       'time_adj_S2K_item_3', 'time_adj_S2K_item_4', 'time_adj_S2K_item_5',\n",
       "       'time_adj_S2K_item_6', 'time_adj_S2K_item_7', 'time_adj_S2K_item_8',\n",
       "       'time_adj_S2K_item_9', 'time_adj_S2K_item_10', 'time_adj_S2K_item_11',\n",
       "       'time_adj_S2K_item_12', 'time_adj_S2K_item_13', 'time_adj_S2K_item_14',\n",
       "       'time_adj_S2K_item_15', 'time_adj_S2K_item_16', 'time_adj_S2K_item_17',\n",
       "       'time_adj_S2K_item_18', 'time_adj_S2K_item_19', 'time_adj_S2K_item_20',\n",
       "       'time_adj_S2K_item_21', 'time_adj_S2K_item_22', 'time_adj_S2K_item_23',\n",
       "       'time_adj_S2K_item_24', 'time_adj_clin_SLEDAI2K'],\n",
       "      dtype='object')"
      ]
     },
     "execution_count": 21,
     "metadata": {},
     "output_type": "execute_result"
    }
   ],
   "source": [
    "dfo.columns"
   ]
  },
  {
   "cell_type": "code",
   "execution_count": 22,
   "metadata": {},
   "outputs": [],
   "source": [
    "filtered_s2k = [col for col in dfo.columns if 'S2K_item_' in col][:24]\n",
    "# filtered_sdi = [col for col in dfo.columns if 'New_SDI_since_previous_visit' in col]\n",
    "\n",
    "filtered_columns = []\n",
    "\n",
    "filtered_columns.append(dfo.SLET2T_ID.name)\n",
    "filtered_columns.append(dfo.Visit_month_new.name)\n",
    "filtered_columns.extend(filtered_s2k)\n",
    "filtered_columns.append(dfo.SDI.name)\n",
    "filtered_columns.append(dfo.New_SDI_since_previous_visit_new.name)\n"
   ]
  },
  {
   "cell_type": "code",
   "execution_count": 23,
   "metadata": {},
   "outputs": [],
   "source": [
    "df = dfo[filtered_columns]\n"
   ]
  },
  {
   "cell_type": "code",
   "execution_count": 24,
   "metadata": {},
   "outputs": [
    {
     "data": {
      "text/html": [
       "<div>\n",
       "<style scoped>\n",
       "    .dataframe tbody tr th:only-of-type {\n",
       "        vertical-align: middle;\n",
       "    }\n",
       "\n",
       "    .dataframe tbody tr th {\n",
       "        vertical-align: top;\n",
       "    }\n",
       "\n",
       "    .dataframe thead th {\n",
       "        text-align: right;\n",
       "    }\n",
       "</style>\n",
       "<table border=\"1\" class=\"dataframe\">\n",
       "  <thead>\n",
       "    <tr style=\"text-align: right;\">\n",
       "      <th></th>\n",
       "      <th>SLET2T_ID</th>\n",
       "      <th>Visit_month_new</th>\n",
       "      <th>S2K_item_1</th>\n",
       "      <th>S2K_item_2</th>\n",
       "      <th>S2K_item_3</th>\n",
       "      <th>S2K_item_4</th>\n",
       "      <th>S2K_item_5</th>\n",
       "      <th>S2K_item_6</th>\n",
       "      <th>S2K_item_7</th>\n",
       "      <th>S2K_item_8</th>\n",
       "      <th>S2K_item_9</th>\n",
       "      <th>S2K_item_10</th>\n",
       "      <th>S2K_item_11</th>\n",
       "      <th>S2K_item_12</th>\n",
       "      <th>S2K_item_13</th>\n",
       "      <th>S2K_item_14</th>\n",
       "      <th>S2K_item_15</th>\n",
       "      <th>S2K_item_16</th>\n",
       "      <th>S2K_item_17</th>\n",
       "      <th>S2K_item_18</th>\n",
       "      <th>S2K_item_19</th>\n",
       "      <th>S2K_item_20</th>\n",
       "      <th>S2K_item_21</th>\n",
       "      <th>S2K_item_22</th>\n",
       "      <th>S2K_item_23</th>\n",
       "      <th>S2K_item_24</th>\n",
       "      <th>SDI</th>\n",
       "      <th>New_SDI_since_previous_visit_new</th>\n",
       "    </tr>\n",
       "  </thead>\n",
       "  <tbody>\n",
       "    <tr>\n",
       "      <th>0</th>\n",
       "      <td>CRE11066</td>\n",
       "      <td>0</td>\n",
       "      <td>0</td>\n",
       "      <td>0</td>\n",
       "      <td>0</td>\n",
       "      <td>0</td>\n",
       "      <td>0</td>\n",
       "      <td>0</td>\n",
       "      <td>0</td>\n",
       "      <td>0</td>\n",
       "      <td>1</td>\n",
       "      <td>0</td>\n",
       "      <td>0</td>\n",
       "      <td>0</td>\n",
       "      <td>0</td>\n",
       "      <td>0</td>\n",
       "      <td>1</td>\n",
       "      <td>1</td>\n",
       "      <td>0</td>\n",
       "      <td>0</td>\n",
       "      <td>0</td>\n",
       "      <td>1</td>\n",
       "      <td>1</td>\n",
       "      <td>0</td>\n",
       "      <td>0</td>\n",
       "      <td>0</td>\n",
       "      <td>0.0</td>\n",
       "      <td>0.0</td>\n",
       "    </tr>\n",
       "    <tr>\n",
       "      <th>1</th>\n",
       "      <td>CRE11066</td>\n",
       "      <td>6</td>\n",
       "      <td>0</td>\n",
       "      <td>0</td>\n",
       "      <td>0</td>\n",
       "      <td>0</td>\n",
       "      <td>0</td>\n",
       "      <td>0</td>\n",
       "      <td>0</td>\n",
       "      <td>0</td>\n",
       "      <td>0</td>\n",
       "      <td>0</td>\n",
       "      <td>0</td>\n",
       "      <td>0</td>\n",
       "      <td>0</td>\n",
       "      <td>0</td>\n",
       "      <td>1</td>\n",
       "      <td>1</td>\n",
       "      <td>0</td>\n",
       "      <td>0</td>\n",
       "      <td>0</td>\n",
       "      <td>0</td>\n",
       "      <td>0</td>\n",
       "      <td>0</td>\n",
       "      <td>0</td>\n",
       "      <td>0</td>\n",
       "      <td>0.0</td>\n",
       "      <td>0.0</td>\n",
       "    </tr>\n",
       "    <tr>\n",
       "      <th>2</th>\n",
       "      <td>CRE11066</td>\n",
       "      <td>12</td>\n",
       "      <td>0</td>\n",
       "      <td>0</td>\n",
       "      <td>0</td>\n",
       "      <td>0</td>\n",
       "      <td>0</td>\n",
       "      <td>0</td>\n",
       "      <td>0</td>\n",
       "      <td>0</td>\n",
       "      <td>0</td>\n",
       "      <td>0</td>\n",
       "      <td>0</td>\n",
       "      <td>0</td>\n",
       "      <td>0</td>\n",
       "      <td>0</td>\n",
       "      <td>1</td>\n",
       "      <td>0</td>\n",
       "      <td>0</td>\n",
       "      <td>0</td>\n",
       "      <td>0</td>\n",
       "      <td>1</td>\n",
       "      <td>1</td>\n",
       "      <td>0</td>\n",
       "      <td>0</td>\n",
       "      <td>0</td>\n",
       "      <td>0.0</td>\n",
       "      <td>0.0</td>\n",
       "    </tr>\n",
       "    <tr>\n",
       "      <th>3</th>\n",
       "      <td>CRE11066</td>\n",
       "      <td>18</td>\n",
       "      <td>0</td>\n",
       "      <td>0</td>\n",
       "      <td>0</td>\n",
       "      <td>0</td>\n",
       "      <td>0</td>\n",
       "      <td>0</td>\n",
       "      <td>0</td>\n",
       "      <td>0</td>\n",
       "      <td>1</td>\n",
       "      <td>0</td>\n",
       "      <td>0</td>\n",
       "      <td>0</td>\n",
       "      <td>0</td>\n",
       "      <td>0</td>\n",
       "      <td>1</td>\n",
       "      <td>0</td>\n",
       "      <td>0</td>\n",
       "      <td>0</td>\n",
       "      <td>0</td>\n",
       "      <td>0</td>\n",
       "      <td>1</td>\n",
       "      <td>0</td>\n",
       "      <td>0</td>\n",
       "      <td>0</td>\n",
       "      <td>0.0</td>\n",
       "      <td>0.0</td>\n",
       "    </tr>\n",
       "  </tbody>\n",
       "</table>\n",
       "</div>"
      ],
      "text/plain": [
       "  SLET2T_ID  Visit_month_new  S2K_item_1  S2K_item_2  S2K_item_3  S2K_item_4  \\\n",
       "0  CRE11066                0           0           0           0           0   \n",
       "1  CRE11066                6           0           0           0           0   \n",
       "2  CRE11066               12           0           0           0           0   \n",
       "3  CRE11066               18           0           0           0           0   \n",
       "\n",
       "   S2K_item_5  S2K_item_6  S2K_item_7  S2K_item_8  S2K_item_9  S2K_item_10  \\\n",
       "0           0           0           0           0           1            0   \n",
       "1           0           0           0           0           0            0   \n",
       "2           0           0           0           0           0            0   \n",
       "3           0           0           0           0           1            0   \n",
       "\n",
       "   S2K_item_11  S2K_item_12  S2K_item_13  S2K_item_14  S2K_item_15  \\\n",
       "0            0            0            0            0            1   \n",
       "1            0            0            0            0            1   \n",
       "2            0            0            0            0            1   \n",
       "3            0            0            0            0            1   \n",
       "\n",
       "   S2K_item_16  S2K_item_17  S2K_item_18  S2K_item_19  S2K_item_20  \\\n",
       "0            1            0            0            0            1   \n",
       "1            1            0            0            0            0   \n",
       "2            0            0            0            0            1   \n",
       "3            0            0            0            0            0   \n",
       "\n",
       "   S2K_item_21  S2K_item_22  S2K_item_23  S2K_item_24  SDI  \\\n",
       "0            1            0            0            0  0.0   \n",
       "1            0            0            0            0  0.0   \n",
       "2            1            0            0            0  0.0   \n",
       "3            1            0            0            0  0.0   \n",
       "\n",
       "   New_SDI_since_previous_visit_new  \n",
       "0                               0.0  \n",
       "1                               0.0  \n",
       "2                               0.0  \n",
       "3                               0.0  "
      ]
     },
     "execution_count": 24,
     "metadata": {},
     "output_type": "execute_result"
    }
   ],
   "source": [
    "df[df.SLET2T_ID == 'CRE11066']"
   ]
  },
  {
   "cell_type": "code",
   "execution_count": 27,
   "metadata": {},
   "outputs": [],
   "source": [
    "max_visits = df['Visit_month_new'].max()\n",
    "\n",
    "# Create sequences\n",
    "sequences = []\n",
    "for case_no, group in df.groupby('SLET2T_ID'):\n",
    "    # Reindex to include all visit_no from 1 to max_visits\n",
    "    group = group.set_index('Visit_month_new').reindex(range(1, max_visits + 1), fill_value=0)\n",
    "    sequences.append(group.drop('SLET2T_ID', axis=1).values)\n",
    "\n",
    "# Pad sequences to the same length\n",
    "from tensorflow.keras.preprocessing.sequence import pad_sequences\n",
    "\n",
    "padded_sequences = pad_sequences(sequences, padding='post', dtype='float32')\n",
    "\n",
    "# Separate features and labels (assuming SDI is the target for the next visit)\n",
    "X = padded_sequences[:, :, :-2]  # All columns except 'SDI' and 'New_SDI_since_previous_visit_new'\n",
    "y = padded_sequences[:, :, -2]   # SDI (assuming SDI is the second last column)\n",
    "\n",
    "\n"
   ]
  },
  {
   "cell_type": "code",
   "execution_count": 28,
   "metadata": {},
   "outputs": [
    {
     "data": {
      "text/plain": [
       "(60, 24)"
      ]
     },
     "execution_count": 28,
     "metadata": {},
     "output_type": "execute_result"
    }
   ],
   "source": [
    "X[0].shape"
   ]
  },
  {
   "cell_type": "code",
   "execution_count": 30,
   "metadata": {},
   "outputs": [
    {
     "data": {
      "text/html": [
       "<pre style=\"white-space:pre;overflow-x:auto;line-height:normal;font-family:Menlo,'DejaVu Sans Mono',consolas,'Courier New',monospace\"><span style=\"font-weight: bold\">Model: \"sequential_1\"</span>\n",
       "</pre>\n"
      ],
      "text/plain": [
       "\u001b[1mModel: \"sequential_1\"\u001b[0m\n"
      ]
     },
     "metadata": {},
     "output_type": "display_data"
    },
    {
     "data": {
      "text/html": [
       "<pre style=\"white-space:pre;overflow-x:auto;line-height:normal;font-family:Menlo,'DejaVu Sans Mono',consolas,'Courier New',monospace\">┏━━━━━━━━━━━━━━━━━━━━━━━━━━━━━━━━━┳━━━━━━━━━━━━━━━━━━━━━━━━┳━━━━━━━━━━━━━━━┓\n",
       "┃<span style=\"font-weight: bold\"> Layer (type)                    </span>┃<span style=\"font-weight: bold\"> Output Shape           </span>┃<span style=\"font-weight: bold\">       Param # </span>┃\n",
       "┡━━━━━━━━━━━━━━━━━━━━━━━━━━━━━━━━━╇━━━━━━━━━━━━━━━━━━━━━━━━╇━━━━━━━━━━━━━━━┩\n",
       "│ lstm_1 (<span style=\"color: #0087ff; text-decoration-color: #0087ff\">LSTM</span>)                   │ ?                      │   <span style=\"color: #00af00; text-decoration-color: #00af00\">0</span> (unbuilt) │\n",
       "├─────────────────────────────────┼────────────────────────┼───────────────┤\n",
       "│ dense_1 (<span style=\"color: #0087ff; text-decoration-color: #0087ff\">Dense</span>)                 │ ?                      │   <span style=\"color: #00af00; text-decoration-color: #00af00\">0</span> (unbuilt) │\n",
       "└─────────────────────────────────┴────────────────────────┴───────────────┘\n",
       "</pre>\n"
      ],
      "text/plain": [
       "┏━━━━━━━━━━━━━━━━━━━━━━━━━━━━━━━━━┳━━━━━━━━━━━━━━━━━━━━━━━━┳━━━━━━━━━━━━━━━┓\n",
       "┃\u001b[1m \u001b[0m\u001b[1mLayer (type)                   \u001b[0m\u001b[1m \u001b[0m┃\u001b[1m \u001b[0m\u001b[1mOutput Shape          \u001b[0m\u001b[1m \u001b[0m┃\u001b[1m \u001b[0m\u001b[1m      Param #\u001b[0m\u001b[1m \u001b[0m┃\n",
       "┡━━━━━━━━━━━━━━━━━━━━━━━━━━━━━━━━━╇━━━━━━━━━━━━━━━━━━━━━━━━╇━━━━━━━━━━━━━━━┩\n",
       "│ lstm_1 (\u001b[38;5;33mLSTM\u001b[0m)                   │ ?                      │   \u001b[38;5;34m0\u001b[0m (unbuilt) │\n",
       "├─────────────────────────────────┼────────────────────────┼───────────────┤\n",
       "│ dense_1 (\u001b[38;5;33mDense\u001b[0m)                 │ ?                      │   \u001b[38;5;34m0\u001b[0m (unbuilt) │\n",
       "└─────────────────────────────────┴────────────────────────┴───────────────┘\n"
      ]
     },
     "metadata": {},
     "output_type": "display_data"
    },
    {
     "data": {
      "text/html": [
       "<pre style=\"white-space:pre;overflow-x:auto;line-height:normal;font-family:Menlo,'DejaVu Sans Mono',consolas,'Courier New',monospace\"><span style=\"font-weight: bold\"> Total params: </span><span style=\"color: #00af00; text-decoration-color: #00af00\">0</span> (0.00 B)\n",
       "</pre>\n"
      ],
      "text/plain": [
       "\u001b[1m Total params: \u001b[0m\u001b[38;5;34m0\u001b[0m (0.00 B)\n"
      ]
     },
     "metadata": {},
     "output_type": "display_data"
    },
    {
     "data": {
      "text/html": [
       "<pre style=\"white-space:pre;overflow-x:auto;line-height:normal;font-family:Menlo,'DejaVu Sans Mono',consolas,'Courier New',monospace\"><span style=\"font-weight: bold\"> Trainable params: </span><span style=\"color: #00af00; text-decoration-color: #00af00\">0</span> (0.00 B)\n",
       "</pre>\n"
      ],
      "text/plain": [
       "\u001b[1m Trainable params: \u001b[0m\u001b[38;5;34m0\u001b[0m (0.00 B)\n"
      ]
     },
     "metadata": {},
     "output_type": "display_data"
    },
    {
     "data": {
      "text/html": [
       "<pre style=\"white-space:pre;overflow-x:auto;line-height:normal;font-family:Menlo,'DejaVu Sans Mono',consolas,'Courier New',monospace\"><span style=\"font-weight: bold\"> Non-trainable params: </span><span style=\"color: #00af00; text-decoration-color: #00af00\">0</span> (0.00 B)\n",
       "</pre>\n"
      ],
      "text/plain": [
       "\u001b[1m Non-trainable params: \u001b[0m\u001b[38;5;34m0\u001b[0m (0.00 B)\n"
      ]
     },
     "metadata": {},
     "output_type": "display_data"
    },
    {
     "name": "stdout",
     "output_type": "stream",
     "text": [
      "Epoch 1/20\n",
      "\u001b[1m36/36\u001b[0m \u001b[32m━━━━━━━━━━━━━━━━━━━━\u001b[0m\u001b[37m\u001b[0m \u001b[1m3s\u001b[0m 24ms/step - accuracy: 0.9305 - loss: nan - precision: 0.0000e+00 - recall: 0.0000e+00 - val_accuracy: 0.9474 - val_loss: nan - val_precision: 0.0000e+00 - val_recall: 0.0000e+00\n",
      "Epoch 2/20\n",
      "\u001b[1m36/36\u001b[0m \u001b[32m━━━━━━━━━━━━━━━━━━━━\u001b[0m\u001b[37m\u001b[0m \u001b[1m0s\u001b[0m 13ms/step - accuracy: 0.9409 - loss: nan - precision: 0.0000e+00 - recall: 0.0000e+00 - val_accuracy: 0.9474 - val_loss: nan - val_precision: 0.0000e+00 - val_recall: 0.0000e+00\n",
      "Epoch 3/20\n",
      "\u001b[1m36/36\u001b[0m \u001b[32m━━━━━━━━━━━━━━━━━━━━\u001b[0m\u001b[37m\u001b[0m \u001b[1m0s\u001b[0m 12ms/step - accuracy: 0.9436 - loss: nan - precision: 0.0000e+00 - recall: 0.0000e+00 - val_accuracy: 0.9474 - val_loss: nan - val_precision: 0.0000e+00 - val_recall: 0.0000e+00\n",
      "Epoch 4/20\n",
      "\u001b[1m36/36\u001b[0m \u001b[32m━━━━━━━━━━━━━━━━━━━━\u001b[0m\u001b[37m\u001b[0m \u001b[1m1s\u001b[0m 13ms/step - accuracy: 0.9369 - loss: nan - precision: 0.0000e+00 - recall: 0.0000e+00 - val_accuracy: 0.9474 - val_loss: nan - val_precision: 0.0000e+00 - val_recall: 0.0000e+00\n",
      "Epoch 5/20\n",
      "\u001b[1m36/36\u001b[0m \u001b[32m━━━━━━━━━━━━━━━━━━━━\u001b[0m\u001b[37m\u001b[0m \u001b[1m0s\u001b[0m 12ms/step - accuracy: 0.9429 - loss: nan - precision: 0.0000e+00 - recall: 0.0000e+00 - val_accuracy: 0.9474 - val_loss: nan - val_precision: 0.0000e+00 - val_recall: 0.0000e+00\n",
      "Epoch 6/20\n",
      "\u001b[1m36/36\u001b[0m \u001b[32m━━━━━━━━━━━━━━━━━━━━\u001b[0m\u001b[37m\u001b[0m \u001b[1m0s\u001b[0m 13ms/step - accuracy: 0.9368 - loss: nan - precision: 0.0000e+00 - recall: 0.0000e+00 - val_accuracy: 0.9474 - val_loss: nan - val_precision: 0.0000e+00 - val_recall: 0.0000e+00\n",
      "Epoch 7/20\n",
      "\u001b[1m36/36\u001b[0m \u001b[32m━━━━━━━━━━━━━━━━━━━━\u001b[0m\u001b[37m\u001b[0m \u001b[1m0s\u001b[0m 12ms/step - accuracy: 0.9363 - loss: nan - precision: 0.0000e+00 - recall: 0.0000e+00 - val_accuracy: 0.9474 - val_loss: nan - val_precision: 0.0000e+00 - val_recall: 0.0000e+00\n",
      "Epoch 8/20\n",
      "\u001b[1m36/36\u001b[0m \u001b[32m━━━━━━━━━━━━━━━━━━━━\u001b[0m\u001b[37m\u001b[0m \u001b[1m1s\u001b[0m 13ms/step - accuracy: 0.9399 - loss: nan - precision: 0.0000e+00 - recall: 0.0000e+00 - val_accuracy: 0.9474 - val_loss: nan - val_precision: 0.0000e+00 - val_recall: 0.0000e+00\n",
      "Epoch 9/20\n",
      "\u001b[1m36/36\u001b[0m \u001b[32m━━━━━━━━━━━━━━━━━━━━\u001b[0m\u001b[37m\u001b[0m \u001b[1m1s\u001b[0m 15ms/step - accuracy: 0.9441 - loss: nan - precision: 0.0000e+00 - recall: 0.0000e+00 - val_accuracy: 0.9474 - val_loss: nan - val_precision: 0.0000e+00 - val_recall: 0.0000e+00\n",
      "Epoch 10/20\n",
      "\u001b[1m36/36\u001b[0m \u001b[32m━━━━━━━━━━━━━━━━━━━━\u001b[0m\u001b[37m\u001b[0m \u001b[1m1s\u001b[0m 15ms/step - accuracy: 0.9403 - loss: nan - precision: 0.0000e+00 - recall: 0.0000e+00 - val_accuracy: 0.9474 - val_loss: nan - val_precision: 0.0000e+00 - val_recall: 0.0000e+00\n",
      "Epoch 11/20\n",
      "\u001b[1m36/36\u001b[0m \u001b[32m━━━━━━━━━━━━━━━━━━━━\u001b[0m\u001b[37m\u001b[0m \u001b[1m1s\u001b[0m 13ms/step - accuracy: 0.9388 - loss: nan - precision: 0.0000e+00 - recall: 0.0000e+00 - val_accuracy: 0.9474 - val_loss: nan - val_precision: 0.0000e+00 - val_recall: 0.0000e+00\n",
      "Epoch 12/20\n",
      "\u001b[1m36/36\u001b[0m \u001b[32m━━━━━━━━━━━━━━━━━━━━\u001b[0m\u001b[37m\u001b[0m \u001b[1m0s\u001b[0m 12ms/step - accuracy: 0.9361 - loss: nan - precision: 0.0000e+00 - recall: 0.0000e+00 - val_accuracy: 0.9474 - val_loss: nan - val_precision: 0.0000e+00 - val_recall: 0.0000e+00\n",
      "Epoch 13/20\n",
      "\u001b[1m36/36\u001b[0m \u001b[32m━━━━━━━━━━━━━━━━━━━━\u001b[0m\u001b[37m\u001b[0m \u001b[1m0s\u001b[0m 12ms/step - accuracy: 0.9463 - loss: nan - precision: 0.0000e+00 - recall: 0.0000e+00 - val_accuracy: 0.9474 - val_loss: nan - val_precision: 0.0000e+00 - val_recall: 0.0000e+00\n",
      "Epoch 14/20\n",
      "\u001b[1m36/36\u001b[0m \u001b[32m━━━━━━━━━━━━━━━━━━━━\u001b[0m\u001b[37m\u001b[0m \u001b[1m0s\u001b[0m 13ms/step - accuracy: 0.9422 - loss: nan - precision: 0.0000e+00 - recall: 0.0000e+00 - val_accuracy: 0.9474 - val_loss: nan - val_precision: 0.0000e+00 - val_recall: 0.0000e+00\n",
      "Epoch 15/20\n",
      "\u001b[1m36/36\u001b[0m \u001b[32m━━━━━━━━━━━━━━━━━━━━\u001b[0m\u001b[37m\u001b[0m \u001b[1m0s\u001b[0m 13ms/step - accuracy: 0.9353 - loss: nan - precision: 0.0000e+00 - recall: 0.0000e+00 - val_accuracy: 0.9474 - val_loss: nan - val_precision: 0.0000e+00 - val_recall: 0.0000e+00\n",
      "Epoch 16/20\n",
      "\u001b[1m36/36\u001b[0m \u001b[32m━━━━━━━━━━━━━━━━━━━━\u001b[0m\u001b[37m\u001b[0m \u001b[1m0s\u001b[0m 13ms/step - accuracy: 0.9396 - loss: nan - precision: 0.0000e+00 - recall: 0.0000e+00 - val_accuracy: 0.9474 - val_loss: nan - val_precision: 0.0000e+00 - val_recall: 0.0000e+00\n",
      "Epoch 17/20\n",
      "\u001b[1m36/36\u001b[0m \u001b[32m━━━━━━━━━━━━━━━━━━━━\u001b[0m\u001b[37m\u001b[0m \u001b[1m0s\u001b[0m 12ms/step - accuracy: 0.9407 - loss: nan - precision: 0.0000e+00 - recall: 0.0000e+00 - val_accuracy: 0.9474 - val_loss: nan - val_precision: 0.0000e+00 - val_recall: 0.0000e+00\n",
      "Epoch 18/20\n",
      "\u001b[1m36/36\u001b[0m \u001b[32m━━━━━━━━━━━━━━━━━━━━\u001b[0m\u001b[37m\u001b[0m \u001b[1m0s\u001b[0m 12ms/step - accuracy: 0.9394 - loss: nan - precision: 0.0000e+00 - recall: 0.0000e+00 - val_accuracy: 0.9474 - val_loss: nan - val_precision: 0.0000e+00 - val_recall: 0.0000e+00\n",
      "Epoch 19/20\n",
      "\u001b[1m36/36\u001b[0m \u001b[32m━━━━━━━━━━━━━━━━━━━━\u001b[0m\u001b[37m\u001b[0m \u001b[1m0s\u001b[0m 13ms/step - accuracy: 0.9380 - loss: nan - precision: 0.0000e+00 - recall: 0.0000e+00 - val_accuracy: 0.9474 - val_loss: nan - val_precision: 0.0000e+00 - val_recall: 0.0000e+00\n",
      "Epoch 20/20\n",
      "\u001b[1m36/36\u001b[0m \u001b[32m━━━━━━━━━━━━━━━━━━━━\u001b[0m\u001b[37m\u001b[0m \u001b[1m0s\u001b[0m 12ms/step - accuracy: 0.9347 - loss: nan - precision: 0.0000e+00 - recall: 0.0000e+00 - val_accuracy: 0.9474 - val_loss: nan - val_precision: 0.0000e+00 - val_recall: 0.0000e+00\n"
     ]
    }
   ],
   "source": [
    "from tensorflow.keras.models import Sequential\n",
    "from tensorflow.keras.layers import LSTM, Dense, Masking\n",
    "\n",
    "# Define model\n",
    "model = Sequential()\n",
    "\n",
    "# Add masking layer to handle variable sequence lengths\n",
    "# model.add(Masking(mask_value=0., input_shape=(X.shape[1], X.shape[2])))\n",
    "\n",
    "# Add LSTM layer\n",
    "model.add(LSTM(64, return_sequences=True))\n",
    "\n",
    "# Add Dense layer\n",
    "model.add(Dense(1))\n",
    "\n",
    "# Compile model\n",
    "model.compile(optimizer='adam', loss='binary_crossentropy', metrics=['accuracy','precision','recall'])\n",
    "\n",
    "# Summary of the model\n",
    "model.summary()\n",
    "\n",
    "from sklearn.model_selection import train_test_split\n",
    "\n",
    "# Split data into training and validation sets\n",
    "X_train, X_val, y_train, y_val = train_test_split(X, y, test_size=0.2, random_state=42)\n",
    "\n",
    "# Train model\n",
    "history = model.fit(X_train, y_train, epochs=20, batch_size=8, validation_data=(X_val, y_val))"
   ]
  },
  {
   "cell_type": "code",
   "execution_count": null,
   "metadata": {},
   "outputs": [],
   "source": []
  }
 ],
 "metadata": {
  "kernelspec": {
   "display_name": "base",
   "language": "python",
   "name": "python3"
  },
  "language_info": {
   "codemirror_mode": {
    "name": "ipython",
    "version": 3
   },
   "file_extension": ".py",
   "mimetype": "text/x-python",
   "name": "python",
   "nbconvert_exporter": "python",
   "pygments_lexer": "ipython3",
   "version": "3.10.9"
  }
 },
 "nbformat": 4,
 "nbformat_minor": 2
}
